{
 "cells": [
  {
   "cell_type": "code",
   "execution_count": null,
   "metadata": {
    "hide_input": true,
    "tags": [
     "hide_input"
    ]
   },
   "outputs": [],
   "source": [
    "%%html\n",
    "<style>\n",
    "table {float:left}\n",
    "</style>"
   ]
  },
  {
   "cell_type": "markdown",
   "metadata": {},
   "source": [
    "In this notebook, we used two datasets of pancreatic cells. For gene markers, we used the Panglao Cell Type Marker database.\n",
    "\n",
    "We used the Baron (2016) dataset for training the neural network (NN) because it has more cells and classes, and we used the Xin (2016) dataset for testing purposes because all of its classes are present in the Baron dataset."
   ]
  },
  {
   "cell_type": "code",
   "execution_count": null,
   "metadata": {},
   "outputs": [],
   "source": [
    "EPOCHS = 85"
   ]
  },
  {
   "cell_type": "code",
   "execution_count": null,
   "metadata": {},
   "outputs": [],
   "source": [
    "import saly\n",
    "import saly.backend as S\n",
    "import pandas as pd\n",
    "import numpy as np\n",
    "import matplotlib.pyplot as plt\n",
    "%matplotlib inline\n",
    "\n",
    "\n",
    "SPECIES = 'Human'\n",
    "DATA_PATH = '/Users/MarkDavidLongar/Documents/Coding/MachineLearning/Data/'\n",
    "DATASET_BARON_PATH = DATA_PATH + 'baron_2016h.h5ad' \n",
    "DATASET_XIN_PATH = DATA_PATH + 'xin_2016.h5ad'\n",
    "MARKER_PATH = DATA_PATH + 'panglao_gene_markers.tab.gz'"
   ]
  },
  {
   "cell_type": "markdown",
   "metadata": {},
   "source": [
    "# Load the data"
   ]
  },
  {
   "cell_type": "code",
   "execution_count": null,
   "metadata": {},
   "outputs": [],
   "source": [
    "baron_data, baron_labels = saly.load_h5ad(DATASET_BARON_PATH)\n",
    "xin_data, xin_labels = saly.load_h5ad(DATASET_XIN_PATH)"
   ]
  },
  {
   "cell_type": "markdown",
   "metadata": {},
   "source": [
    "### Baron"
   ]
  },
  {
   "cell_type": "code",
   "execution_count": null,
   "metadata": {},
   "outputs": [],
   "source": [
    "print(baron_data.shape)\n",
    "baron_labels.unique()"
   ]
  },
  {
   "cell_type": "markdown",
   "metadata": {},
   "source": [
    "Baron has 8569 cells and 20125 genes.\n",
    "\n",
    "The cells are classified into 9 classes: Acinar cells, Alpha cells, Beta cells, Delta cells, Ductal cells, Endothelial cells, ***Other***, PaSC (i.e. Pancreatic stellate cells) and PP cells (i.e. Gamma cells)."
   ]
  },
  {
   "cell_type": "markdown",
   "metadata": {},
   "source": [
    "### Xin"
   ]
  },
  {
   "cell_type": "code",
   "execution_count": null,
   "metadata": {},
   "outputs": [],
   "source": [
    "print(xin_data.shape)\n",
    "xin_labels.unique()"
   ]
  },
  {
   "cell_type": "markdown",
   "metadata": {},
   "source": [
    "Xin has 1492 cells and 39851 genes.\n",
    "\n",
    "The cells are classified into 4 classes: Alpha cells, Beta cells, Delta cells and PP cells (i.e. Gamma cells)."
   ]
  },
  {
   "cell_type": "markdown",
   "metadata": {},
   "source": [
    "# Drop rows"
   ]
  },
  {
   "cell_type": "markdown",
   "metadata": {},
   "source": [
    "We removed every cell classified as 'Other' from the Baron dataset."
   ]
  },
  {
   "cell_type": "code",
   "execution_count": null,
   "metadata": {},
   "outputs": [],
   "source": [
    "baron_data, baron_labels = saly.drop_rows(baron_data, baron_labels, ['Other'])"
   ]
  },
  {
   "cell_type": "markdown",
   "metadata": {},
   "source": [
    "This removed 118 cells from Baron, leaving us with 8451 left."
   ]
  },
  {
   "cell_type": "markdown",
   "metadata": {},
   "source": [
    "# Load marker genes"
   ]
  },
  {
   "cell_type": "markdown",
   "metadata": {},
   "source": [
    "We make sure to only load the Human marker genes."
   ]
  },
  {
   "cell_type": "code",
   "execution_count": null,
   "metadata": {},
   "outputs": [],
   "source": [
    "markers_db = saly.load_markers(MARKER_PATH, SPECIES)"
   ]
  },
  {
   "cell_type": "markdown",
   "metadata": {},
   "source": [
    "#### Get the markers and only keep those found in both datasets"
   ]
  },
  {
   "cell_type": "code",
   "execution_count": null,
   "metadata": {
    "scrolled": true
   },
   "outputs": [],
   "source": [
    "markers = saly.get_mutual_markers([baron_data.columns, xin_data.columns], markers_db)"
   ]
  },
  {
   "cell_type": "markdown",
   "metadata": {},
   "source": [
    "We do this because we want to train the network only on the marker genes found in both datasets, and drop the rest."
   ]
  },
  {
   "cell_type": "code",
   "execution_count": null,
   "metadata": {},
   "outputs": [],
   "source": [
    "#print(len(S.get_used_markers(baron_data.columns, markers_db)), len(S.get_used_markers(xin_data.columns, markers_db)))\n",
    "print(len(markers))"
   ]
  },
  {
   "cell_type": "markdown",
   "metadata": {},
   "source": [
    "Baron has 7618 markers, and Xin has 7610.\n",
    "\n",
    "We used only those found in both datasets (7545)."
   ]
  },
  {
   "cell_type": "markdown",
   "metadata": {},
   "source": [
    "*Note that in this context* ***Marker ≠ Marker Gene*** *because multiple cell types (i.e. markers) can have the same marker gene and so in this context, the number 7545 means 7545 connections in the partially-connected Marker Layer between the cell types and the genes.*"
   ]
  },
  {
   "cell_type": "markdown",
   "metadata": {},
   "source": [
    "### Make sure every class is in the marker layer"
   ]
  },
  {
   "cell_type": "markdown",
   "metadata": {},
   "source": [
    "Because some cell types are differently labelled in the marker database, we created a dictionary of aliases.\n",
    "\n",
    "We also make sure to print out any label that cannot be found in either the list of markers or in the dictionary of aliases."
   ]
  },
  {
   "cell_type": "code",
   "execution_count": null,
   "metadata": {},
   "outputs": [],
   "source": [
    "marker_aliases = {'PaSC' : 'Pancreatic stellate cells',\n",
    "                  'PP cells' : 'Gamma (PP) cells',\n",
    "                  'Endothelial cell' : 'Endothelial cells'}\n",
    "\n",
    "saly.check_labels([baron_labels, xin_labels], markers, marker_aliases)"
   ]
  },
  {
   "cell_type": "markdown",
   "metadata": {},
   "source": [
    "# Drop unused genes"
   ]
  },
  {
   "cell_type": "markdown",
   "metadata": {},
   "source": [
    "We used only the genes found in both datasets and the marker gene database, and therefore, we will connect with the partially-connected marker layer."
   ]
  },
  {
   "cell_type": "code",
   "execution_count": null,
   "metadata": {},
   "outputs": [],
   "source": [
    "baron_data = saly.drop_unused_genes(baron_data, markers)\n",
    "xin_data = saly.drop_unused_genes(xin_data, markers)"
   ]
  },
  {
   "cell_type": "markdown",
   "metadata": {},
   "source": [
    "After this operation we are left with 4173 genes."
   ]
  },
  {
   "cell_type": "markdown",
   "metadata": {},
   "source": [
    "#### Make sure the data sets' shapes match"
   ]
  },
  {
   "cell_type": "code",
   "execution_count": null,
   "metadata": {
    "scrolled": false
   },
   "outputs": [],
   "source": [
    "saly.check_shape([baron_data, xin_data])"
   ]
  },
  {
   "cell_type": "markdown",
   "metadata": {},
   "source": [
    "# Data transformation"
   ]
  },
  {
   "cell_type": "markdown",
   "metadata": {},
   "source": [
    "#### Preprocess the data"
   ]
  },
  {
   "cell_type": "markdown",
   "metadata": {},
   "source": [
    "We shuffle, log10 transform and split the data into 70%, 15%, 15% splits."
   ]
  },
  {
   "cell_type": "code",
   "execution_count": null,
   "metadata": {},
   "outputs": [],
   "source": [
    "(train_x, train_y), (validation_x, validation_y), (test_x, test_y) = saly.preprocess_data(baron_data, baron_labels,\n",
    "                                                                                          train=0.7, validation=0.15,\n",
    "                                                                                          test=0.15)"
   ]
  },
  {
   "cell_type": "markdown",
   "metadata": {},
   "source": [
    "#### Log10 transform the Xin data, too"
   ]
  },
  {
   "cell_type": "code",
   "execution_count": null,
   "metadata": {},
   "outputs": [],
   "source": [
    "xin_data = S.log_10(xin_data)"
   ]
  },
  {
   "cell_type": "markdown",
   "metadata": {},
   "source": [
    "# Building the model"
   ]
  },
  {
   "cell_type": "markdown",
   "metadata": {},
   "source": [
    "For the model we define a partially-connected Marker Layer.\n",
    "\n",
    "The layer has a node for each cell type whose genes are present in both data sets.\n",
    "In this case, there are 179 nodes in the marker layer representing 179 cell types. \n",
    "\n",
    "We only connect nodes (i.e. the cell types) in the marker layer to their marker genes at the input."
   ]
  },
  {
   "cell_type": "markdown",
   "metadata": {},
   "source": [
    "We constructed the partially connected marker layer by taking a dense layer and adding a connection mask (a binary matrix) to it, which we multiply with the output matrix.\n",
    "\n",
    "We trained the network for 100 epochs."
   ]
  },
  {
   "cell_type": "markdown",
   "metadata": {},
   "source": [
    "### The Architecture\n",
    "|Layer|Nodes|\n",
    "|-----|------|\n",
    "|Input|4173 (genes)|\n",
    "|Markers|179 (cell types)|\n",
    "|Dense layer|100|\n",
    "|**Bottleneck**|**25**|\n",
    "|Dense layer|100|\n",
    "|*Dropout*|*10%*|\n",
    "|Output|4173 (genes)|"
   ]
  },
  {
   "cell_type": "markdown",
   "metadata": {},
   "source": [
    "#### Create the model"
   ]
  },
  {
   "cell_type": "code",
   "execution_count": null,
   "metadata": {
    "scrolled": true
   },
   "outputs": [],
   "source": [
    "model, marker_model, encoder_model = saly.build_model(baron_data, markers);"
   ]
  },
  {
   "cell_type": "code",
   "execution_count": null,
   "metadata": {
    "scrolled": false
   },
   "outputs": [],
   "source": [
    "model.summary()"
   ]
  },
  {
   "cell_type": "markdown",
   "metadata": {},
   "source": [
    "# Train the model"
   ]
  },
  {
   "cell_type": "code",
   "execution_count": null,
   "metadata": {
    "scrolled": true
   },
   "outputs": [],
   "source": [
    "history = saly.train_model(model, train_x, EPOCHS, validation_data=validation_x, verbose=0);"
   ]
  },
  {
   "cell_type": "code",
   "execution_count": null,
   "metadata": {
    "scrolled": true
   },
   "outputs": [],
   "source": [
    "saly.plot_model_history(history)\n",
    "print(\"Test loss: \", saly.test_model(model, test_x))"
   ]
  },
  {
   "cell_type": "markdown",
   "metadata": {},
   "source": [
    "# Data analysis"
   ]
  },
  {
   "cell_type": "code",
   "execution_count": null,
   "metadata": {},
   "outputs": [],
   "source": [
    "baron_cell_activations = marker_model.predict(test_x)"
   ]
  },
  {
   "cell_type": "code",
   "execution_count": null,
   "metadata": {},
   "outputs": [],
   "source": [
    "saly.plot_activation_distribution(baron_cell_activations, markers)"
   ]
  },
  {
   "cell_type": "code",
   "execution_count": null,
   "metadata": {
    "scrolled": true
   },
   "outputs": [],
   "source": [
    "saly.get_results(test_y, baron_cell_activations, markers, marker_aliases)"
   ]
  },
  {
   "cell_type": "markdown",
   "metadata": {},
   "source": [
    "**Mreža pravilno klasificira 82% testnih podatkov (iz baze na kateri se je učila)**"
   ]
  },
  {
   "cell_type": "markdown",
   "metadata": {},
   "source": [
    "Spodnji graf prikazuje aktivacije tipov celic. Razvidno je, da izstopa samo en celični tip, ostali tipi pa izrecno manj."
   ]
  },
  {
   "cell_type": "markdown",
   "metadata": {},
   "source": [
    "### New data"
   ]
  },
  {
   "cell_type": "markdown",
   "metadata": {},
   "source": [
    "**Mreža pravilno klasificira 86% čisto novih podatkov iz druge baze**"
   ]
  },
  {
   "cell_type": "code",
   "execution_count": null,
   "metadata": {},
   "outputs": [],
   "source": [
    "xin_cell_activations = marker_model.predict(xin_data)"
   ]
  },
  {
   "cell_type": "code",
   "execution_count": null,
   "metadata": {},
   "outputs": [],
   "source": [
    "saly.plot_activation_distribution(xin_cell_activations, markers)"
   ]
  },
  {
   "cell_type": "code",
   "execution_count": null,
   "metadata": {
    "scrolled": true
   },
   "outputs": [],
   "source": [
    "saly.get_results(xin_labels, xin_cell_activations, markers, marker_aliases)"
   ]
  },
  {
   "cell_type": "markdown",
   "metadata": {},
   "source": [
    "## Graphs"
   ]
  },
  {
   "cell_type": "code",
   "execution_count": null,
   "metadata": {},
   "outputs": [],
   "source": [
    "import random\n",
    "\n",
    "def get_random_color(pastel_factor = 0.5):\n",
    "    pastel_factor = random.uniform(0, 1.0)\n",
    "    return [(x+pastel_factor)/(1.0+pastel_factor) for x in [random.uniform(0,1.0) for i in [1,2,3]]]\n",
    "\n",
    "colours = {}\n",
    "for label in graph_labels.unique():\n",
    "    colour = (get_random_color())\n",
    "    colours.update({label:colour})\n",
    "    \n",
    "fig = plt.figure()\n",
    "ax = fig.add_subplot(111)\n",
    "\n",
    "x = list(range(0, len(colours.values()) * 2, 2))\n",
    "y = [0]*len(x)\n",
    "c = list(colours.values())\n",
    "\n",
    "ax.scatter(x,y,s=400,c=c)\n",
    "ax.set_title('Plot with Different Marker Color, matplotlib and plotly')\n",
    "\n",
    "plt.show()"
   ]
  },
  {
   "cell_type": "code",
   "execution_count": null,
   "metadata": {},
   "outputs": [],
   "source": [
    "import pickle\n",
    "\n",
    "pickle_in = open(\"Data/Marker_Colours.pickle\",\"rb\")\n",
    "colours = pickle.load(pickle_in)"
   ]
  },
  {
   "cell_type": "code",
   "execution_count": null,
   "metadata": {},
   "outputs": [],
   "source": [
    "pickle_out = open(\"Data/Marker_Colours.pickle\",\"wb\")\n",
    "pickle.dump(colours, pickle_out)\n",
    "pickle_out.close()"
   ]
  },
  {
   "cell_type": "code",
   "execution_count": null,
   "metadata": {},
   "outputs": [],
   "source": [
    "from sklearn.manifold import TSNE\n",
    "from sklearn.decomposition import PCA\n",
    "from collections import OrderedDict\n",
    "import operator\n",
    "\n",
    "tnse = TSNE()\n",
    "pca = PCA()\n",
    "    \n",
    "def draw_graph(x, y, model, colours, graph_name=''):\n",
    "    tsne_out = model.fit_transform(x)\n",
    "    \n",
    "    plt.clf()\n",
    "    plt.figure(figsize=(8, 8), dpi=80, facecolor='w', edgecolor='k')\n",
    "\n",
    "    for i, entry in enumerate(tsne_out):\n",
    "        plt.scatter(entry[0], entry[1], color=colours[y.iloc[i]], label=y.iloc[i])\n",
    "    \n",
    "    handles, plt_labels = plt.gca().get_legend_handles_labels()\n",
    "    by_label = OrderedDict(zip(plt_labels, handles))\n",
    "    by_label = OrderedDict(sorted(by_label.items()))\n",
    "\n",
    "    plt.legend(by_label.values(), by_label.keys(), bbox_to_anchor=(0., 1, 0, .1))\n",
    "\n",
    "    plt.title(graph_name)\n",
    "    plt.axis('off')\n",
    "    plt.show()"
   ]
  },
  {
   "cell_type": "code",
   "execution_count": null,
   "metadata": {
    "scrolled": false
   },
   "outputs": [],
   "source": [
    "draw_graph(cell_activations, graph_labels, tnse, colours, graph_name='TSNE of marker activations')"
   ]
  },
  {
   "cell_type": "markdown",
   "metadata": {},
   "source": [
    "# New Data"
   ]
  },
  {
   "cell_type": "code",
   "execution_count": null,
   "metadata": {
    "scrolled": false
   },
   "outputs": [],
   "source": [
    "draw_graph(new_cell_activations, new_graph_labels, tnse, colours, graph_name='TSNE of marker activations')"
   ]
  },
  {
   "cell_type": "markdown",
   "metadata": {},
   "source": [
    "# Combined data"
   ]
  },
  {
   "cell_type": "code",
   "execution_count": null,
   "metadata": {
    "scrolled": false
   },
   "outputs": [],
   "source": [
    "def draw_comparison(x, y, new_alpha = 1.0, preloaded_tsne=None, title=''):\n",
    "    if preloaded_tsne is None:\n",
    "        tsne_out = tnse.fit_transform(x)\n",
    "    else:\n",
    "        tsne_out = preloaded_tsne\n",
    "\n",
    "    plt.clf()\n",
    "    plt.figure(figsize=(8, 8), dpi=80, facecolor='w', edgecolor='k')\n",
    "\n",
    "    for i, entry in enumerate(tsne_out):\n",
    "        colour = colours[y.iloc[i]]\n",
    "        alpha = 1.0\n",
    "        marker = '.'\n",
    "        if(i <= test_x.shape[0]):\n",
    "            alpha = new_alpha\n",
    "            marker = 'x'\n",
    "        plt.scatter(entry[0], entry[1], color=colour, label=y.iloc[i], alpha=alpha, marker=marker)\n",
    "\n",
    "    handles, plt_labels = plt.gca().get_legend_handles_labels()\n",
    "    by_label = OrderedDict(zip(plt_labels, handles))\n",
    "    by_label = OrderedDict(sorted(by_label.items()))\n",
    "\n",
    "    plt.legend(by_label.values(), by_label.keys(), bbox_to_anchor=(0., 1, 0, .1))\n",
    "\n",
    "    plt.title(title)\n",
    "    plt.axis('off')\n",
    "    plt.show()\n",
    "    \n",
    "    #return tsne_out"
   ]
  },
  {
   "cell_type": "markdown",
   "metadata": {},
   "source": [
    "**Na spodnjem grafu lahko opaziš, da se batch effect še vedno opazi, tudi na aktivacijah markerjev**"
   ]
  },
  {
   "cell_type": "code",
   "execution_count": null,
   "metadata": {},
   "outputs": [],
   "source": [
    "x = test_x.append(new_data_x)\n",
    "y = test_y.append(new_labels)\n",
    "compare_cell_activations = encoder_model.predict(x)\n",
    "tsne_out = draw_comparison(compare_cell_activations, y, new_alpha=0.2, title='Combined TSNE of marker activations')"
   ]
  },
  {
   "cell_type": "code",
   "execution_count": null,
   "metadata": {},
   "outputs": [],
   "source": [
    "draw_comparison(np.vstack((top3, new_top3)), y, new_alpha=0.2, title='Combined TSNE of top 3 activations')"
   ]
  },
  {
   "cell_type": "markdown",
   "metadata": {},
   "source": [
    "# Reconstruction"
   ]
  },
  {
   "cell_type": "markdown",
   "metadata": {},
   "source": [
    "**Tukaj sem vzel nove podatke in jih vrgel v avtoenkoder.**\n",
    "\n",
    "**Nato sem vzel izhodne podatke avtoenkoderja ter vzel njihove aktivacije sloja markerjev.**\n",
    "\n",
    "**Tako sem dobil nove rezultate, ki so bili konsistentno boljši. V tem primeru za 11%.**"
   ]
  },
  {
   "cell_type": "markdown",
   "metadata": {},
   "source": [
    "Moja hipoteza je, da se tako delno znebimo batch effecta in zato dobimo boljše rezultate."
   ]
  },
  {
   "cell_type": "code",
   "execution_count": null,
   "metadata": {},
   "outputs": [],
   "source": [
    "reconstruction = model.predict(new_data_x)\n",
    "reconstruction = pd.DataFrame(reconstruction, columns=new_data_x.columns)\n",
    "reconstructed_cell_activations = marker_model.predict(reconstruction)"
   ]
  },
  {
   "cell_type": "code",
   "execution_count": null,
   "metadata": {},
   "outputs": [],
   "source": [
    "draw_graph(reconstructed_cell_activations, new_graph_labels, tnse, colours,\n",
    "           graph_name='TSNE of reconstructed marker activations')"
   ]
  },
  {
   "cell_type": "code",
   "execution_count": null,
   "metadata": {},
   "outputs": [],
   "source": [
    "_ = get_results(cell_types, reconstructed_cell_activations, new_graph_labels)"
   ]
  },
  {
   "cell_type": "markdown",
   "metadata": {},
   "source": [
    "Tudi pri teh podatkih batch effect še vedno ostane."
   ]
  },
  {
   "cell_type": "code",
   "execution_count": null,
   "metadata": {},
   "outputs": [],
   "source": [
    "x = test_x.append(reconstruction)\n",
    "y = test_y.append(new_labels)\n",
    "compare_cell_activations = encoder_model.predict(x)\n",
    "tsne_out = draw_comparison(compare_cell_activations, y, new_alpha=0.2, title='Combined TSNE of marker activations')"
   ]
  }
 ],
 "metadata": {
  "kernelspec": {
   "display_name": "Python 3",
   "language": "python",
   "name": "python3"
  }
 },
 "nbformat": 4,
 "nbformat_minor": 2
}
