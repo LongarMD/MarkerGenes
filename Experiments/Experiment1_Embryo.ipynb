{
 "cells": [
  {
   "cell_type": "code",
   "execution_count": 1,
   "metadata": {},
   "outputs": [
    {
     "name": "stderr",
     "output_type": "stream",
     "text": [
      "Using TensorFlow backend.\n"
     ]
    }
   ],
   "source": [
    "import tensorflow as tf\n",
    "tf.logging.set_verbosity(tf.logging.ERROR)\n",
    "\n",
    "from os import path\n",
    "import sys\n",
    "sys.path.append(path.join(\"..\"))\n",
    "\n",
    "import saly\n",
    "import saly.backend as S\n",
    "import pandas as pd\n",
    "import numpy as np\n",
    "import scanpy as sc\n",
    "\n",
    "%load_ext autoreload\n",
    "%autoreload 2\n",
    "\n",
    "EPOCHS = 25\n",
    "SPECIES = 'Mouse'\n",
    "DATA_PATH = '/home/mlongar/Data/SingleCellGeneExpression/'\n",
    "DATASET_HRVATIN_PATH = DATA_PATH + 'hrvatin_2018.h5ad' \n",
    "DATASET_CHEN_PATH = DATA_PATH + 'chen_2017.h5ad'\n",
    "DATASET_BIG_PATH = DATA_PATH + 'cao_2019.h5ad'\n",
    "MARKER_PATH = DATA_PATH + 'panglao_gene_markers.tab.gz'"
   ]
  },
  {
   "cell_type": "code",
   "execution_count": 2,
   "metadata": {},
   "outputs": [
    {
     "name": "stdout",
     "output_type": "stream",
     "text": [
      "HRVATIN DATA\n",
      " (48266, 25186)\n"
     ]
    }
   ],
   "source": [
    "hrvatin_data = saly.load_h5ad(DATASET_HRVATIN_PATH)\n",
    "print(\"HRVATIN DATA\\n\", hrvatin_data.shape)"
   ]
  },
  {
   "cell_type": "code",
   "execution_count": 3,
   "metadata": {},
   "outputs": [
    {
     "name": "stdout",
     "output_type": "stream",
     "text": [
      "CHEN DATA\n",
      " (14437, 23284)\n"
     ]
    }
   ],
   "source": [
    "chen_data = saly.load_h5ad(DATASET_CHEN_PATH)\n",
    "print(\"CHEN DATA\\n\", chen_data.shape)"
   ]
  },
  {
   "cell_type": "code",
   "execution_count": 4,
   "metadata": {},
   "outputs": [
    {
     "name": "stdout",
     "output_type": "stream",
     "text": [
      "BIG DATA\n",
      " (2058652, 26158)\n"
     ]
    }
   ],
   "source": [
    "big_data = saly.load_h5ad(DATASET_BIG_PATH)\n",
    "print(\"BIG DATA\\n\", big_data.shape)"
   ]
  },
  {
   "cell_type": "code",
   "execution_count": 5,
   "metadata": {},
   "outputs": [
    {
     "name": "stdout",
     "output_type": "stream",
     "text": [
      "Dropped 4750 cell(s). New shape: (9687, 23284)\n"
     ]
    }
   ],
   "source": [
    "chen_data = saly.drop_rows(chen_data, ['tanycyte', 'unknown', 'ependymal cell', 'epithelial cell'])"
   ]
  },
  {
   "cell_type": "code",
   "execution_count": 6,
   "metadata": {},
   "outputs": [
    {
     "name": "stdout",
     "output_type": "stream",
     "text": [
      "Mutual markers: 6815\n"
     ]
    }
   ],
   "source": [
    "markers_db = saly.load_markers(MARKER_PATH, SPECIES)\n",
    "markers = saly.get_mutual_markers([hrvatin_data, chen_data, big_data], markers_db)\n",
    "print('Mutual markers:', len(markers))"
   ]
  },
  {
   "cell_type": "code",
   "execution_count": 7,
   "metadata": {},
   "outputs": [
    {
     "data": {
      "image/png": "[encoded data removed]",
      "text/plain": [
       "<Figure size 432x288 with 1 Axes>"
      ]
     },
     "metadata": {
      "needs_background": "light"
     },
     "output_type": "display_data"
    }
   ],
   "source": [
    "saly.plot_marker_genes(markers)"
   ]
  },
  {
   "cell_type": "code",
   "execution_count": 8,
   "metadata": {},
   "outputs": [],
   "source": [
    "marker_aliases = {'Neuron' : 'Neurons',\n",
    "                'Oligodendrocyte' : 'Oligodendrocytes',\n",
    "                'Muscle cell' : 'Smooth muscle cells',\n",
    "                'Endothelial cell' : 'Endothelial cells',\n",
    "                'Astrocyte' : 'Astrocytes',\n",
    "                'Macrophage' : 'Macrophages',\n",
    "                'OPC' : 'Oligodendrocyte progenitor cells',\n",
    "                'Pericyte' : 'Pericytes'}\n",
    "\n",
    "saly.check_labels([hrvatin_data, chen_data], markers, marker_aliases)"
   ]
  },
  {
   "cell_type": "code",
   "execution_count": 9,
   "metadata": {},
   "outputs": [
    {
     "name": "stdout",
     "output_type": "stream",
     "text": [
      "Dropped 21450 gene(s). New shape: (48266, 3736)\n",
      "Dropped 19548 gene(s). New shape: (9687, 3736)\n",
      "Dropped 22422 gene(s). New shape: (2058652, 3736)\n"
     ]
    }
   ],
   "source": [
    "hrvatin_data = saly.drop_unused_genes(hrvatin_data, markers)\n",
    "chen_data = saly.drop_unused_genes(chen_data, markers)\n",
    "big_data = saly.drop_unused_genes(big_data, markers)\n",
    "\n",
    "saly.check_shape([hrvatin_data, chen_data, big_data])"
   ]
  },
  {
   "cell_type": "code",
   "execution_count": 10,
   "metadata": {},
   "outputs": [],
   "source": [
    "def drop_unused_rows(data, rows_to_keep: list):\n",
    "    n_dropped = data.shape[0] - len(rows_to_keep)\n",
    "    data = data[rows_to_keep, :]\n",
    "\n",
    "    print(\"Dropped {0} cell(s).\".format(n_dropped), \"New shape:\", data.shape)\n",
    "\n",
    "    return data"
   ]
  },
  {
   "cell_type": "code",
   "execution_count": 11,
   "metadata": {},
   "outputs": [],
   "source": [
    "cpm_data = big_data.copy()\n",
    "sc.pp.normalize_total(cpm_data, target_sum=1e6)\n",
    "metrics = sc.pp.calculate_qc_metrics(cpm_data)\n",
    "average_metrics = metrics[0].sum() / metrics[0].shape[0]"
   ]
  },
  {
   "cell_type": "code",
   "execution_count": 12,
   "metadata": {},
   "outputs": [
    {
     "name": "stdout",
     "output_type": "stream",
     "text": [
      "Dropped 1216001 cell(s). New shape: (842651, 3736)\n"
     ]
    }
   ],
   "source": [
    "selected_cells = metrics[0].loc[metrics[0]['n_genes_by_counts'] >= average_metrics['n_genes_by_counts']]\n",
    "big_data = drop_unused_rows(big_data, selected_cells.index.values.tolist())"
   ]
  },
  {
   "cell_type": "code",
   "execution_count": 13,
   "metadata": {
    "scrolled": true
   },
   "outputs": [],
   "source": [
    "big_data = saly.mark_as_unlabelled(big_data.copy())"
   ]
  },
  {
   "cell_type": "code",
   "execution_count": 14,
   "metadata": {},
   "outputs": [],
   "source": [
    "train_data, _, _ = saly.preprocess_data(big_data, splits=10,\n",
    "                                       train=1, test=0, validation=0)"
   ]
  },
  {
   "cell_type": "code",
   "execution_count": 15,
   "metadata": {},
   "outputs": [],
   "source": [
    "chen_data = S.normalize_data(chen_data.copy())\n",
    "hrvatin_data = S.normalize_data(hrvatin_data.copy())"
   ]
  },
  {
   "cell_type": "code",
   "execution_count": 18,
   "metadata": {},
   "outputs": [],
   "source": [
    "model, marker_model, encoder_model = saly.build_model(train_data, markers, supervised=False);"
   ]
  },
  {
   "cell_type": "code",
   "execution_count": null,
   "metadata": {
    "scrolled": true
   },
   "outputs": [
    {
     "name": "stdout",
     "output_type": "stream",
     "text": [
      "Train on 842651 samples, validate on 9687 samples\n",
      "Epoch 1/1\n",
      "666624/842651 [======================>.......] - ETA: 11s - loss: 2464.1232 - cell_activations_loss: 0.0000e+00 - output_loss: 2.4641 - cell_activations_marker_prediction_metric: 0.0000e+00"
     ]
    }
   ],
   "source": [
    "history = saly.train_model(model, train_data, markers, marker_aliases,\n",
    "                           1, validation_data=chen_data, verbose=1)"
   ]
  },
  {
   "cell_type": "code",
   "execution_count": null,
   "metadata": {},
   "outputs": [],
   "source": [
    "saly.plot_model_history(history, supervised=False, labelled_training=False)"
   ]
  },
  {
   "cell_type": "code",
   "execution_count": 23,
   "metadata": {},
   "outputs": [
    {
     "name": "stdout",
     "output_type": "stream",
     "text": [
      "Correct predictions: 2477 out of 9687 (25.57%)\n",
      "\tNeuron: 99.57% (2305/2315) | Markers: 195\n",
      "\tOligodendrocyte: 0.0% (0/3541) | Markers: 82\n",
      "\tOPC: 0.22% (4/1792) | Markers: 26\n",
      "\tAstrocyte: 0.0% (0/1148) | Markers: 59\n",
      "\tMicroglia: 6.22% (45/724) | Markers: 78\n",
      "\tMacrophage: 73.65% (123/167) | Markers: 116\n"
     ]
    },
    {
     "data": {
      "text/plain": [
       "0.2557035201816868"
      ]
     },
     "execution_count": 23,
     "metadata": {},
     "output_type": "execute_result"
    }
   ],
   "source": [
    "chen_cell_activations = marker_model.predict(chen_data.X)\n",
    "saly.get_results(chen_data.obs['labels'], chen_cell_activations, markers, marker_aliases)"
   ]
  },
  {
   "cell_type": "code",
   "execution_count": 24,
   "metadata": {},
   "outputs": [
    {
     "name": "stdout",
     "output_type": "stream",
     "text": [
      "Correct predictions: 19582 out of 48266 (40.57%)\n",
      "\tNeuron: 99.99% (15221/15223) | Markers: 195\n",
      "\tOligodendrocyte: 1.77% (153/8630) | Markers: 82\n",
      "\tMuscle cell: 0.0% (0/621) | Markers: 77\n",
      "\tAstrocyte: 0.44% (31/7039) | Markers: 59\n",
      "\tEndothelial cell: 99.97% (3449/3450) | Markers: 173\n",
      "\tMacrophage: 94.41% (507/537) | Markers: 116\n",
      "\tMicroglia: 1.85% (188/10158) | Markers: 78\n",
      "\tOPC: 0.11% (2/1826) | Markers: 26\n",
      "\tPericyte: 3.96% (31/782) | Markers: 62\n"
     ]
    },
    {
     "data": {
      "text/plain": [
       "0.40571002361911074"
      ]
     },
     "execution_count": 24,
     "metadata": {},
     "output_type": "execute_result"
    }
   ],
   "source": [
    "hrvatin_cell_activations = marker_model.predict(hrvatin_data.X)\n",
    "saly.get_results(hrvatin_data.obs['labels'], hrvatin_cell_activations, markers, marker_aliases)"
   ]
  },
  {
   "cell_type": "code",
   "execution_count": null,
   "metadata": {},
   "outputs": [],
   "source": []
  }
 ],
 "metadata": {
  "kernelspec": {
   "display_name": "Python 3",
   "language": "python",
   "name": "python3"
  },
  "language_info": {
   "codemirror_mode": {
    "name": "ipython",
    "version": 3
   },
   "file_extension": ".py",
   "mimetype": "text/x-python",
   "name": "python",
   "nbconvert_exporter": "python",
   "pygments_lexer": "ipython3",
   "version": "3.7.4"
  }
 },
 "nbformat": 4,
 "nbformat_minor": 2
}
