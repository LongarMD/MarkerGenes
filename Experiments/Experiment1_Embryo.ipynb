{
 "cells": [
  {
   "cell_type": "code",
   "execution_count": 1,
   "metadata": {},
   "outputs": [
    {
     "name": "stderr",
     "output_type": "stream",
     "text": [
      "Using TensorFlow backend.\n"
     ]
    }
   ],
   "source": [
    "import tensorflow as tf\n",
    "tf.logging.set_verbosity(tf.logging.ERROR)\n",
    "\n",
    "from os import path\n",
    "import sys\n",
    "sys.path.append(path.join(\"..\"))\n",
    "\n",
    "import saly\n",
    "import saly.backend as S\n",
    "import pandas as pd\n",
    "import numpy as np\n",
    "\n",
    "%load_ext autoreload\n",
    "%autoreload 2\n",
    "\n",
    "EPOCHS = 25\n",
    "SPECIES = 'Mouse'\n",
    "DATA_PATH = '/home/mlongar/Data/SingleCellGeneExpression/'\n",
    "DATASET_HRVATIN_PATH = DATA_PATH + 'hrvatin_2018.h5ad' \n",
    "DATASET_CHEN_PATH = DATA_PATH + 'chen_2017.h5ad'\n",
    "DATASET_BIG_PATH = DATA_PATH + 'cao_2019.h5ad' #'10x_mouse_1.3mln.h5ad'\n",
    "MARKER_PATH = DATA_PATH + 'panglao_gene_markers.tab.gz'"
   ]
  },
  {
   "cell_type": "code",
   "execution_count": 2,
   "metadata": {},
   "outputs": [
    {
     "name": "stdout",
     "output_type": "stream",
     "text": [
      "HRVATIN DATA\n",
      " (48266, 25186)\n"
     ]
    }
   ],
   "source": [
    "hrvatin_data = saly.load_h5ad(DATASET_HRVATIN_PATH)\n",
    "print(\"HRVATIN DATA\\n\", hrvatin_data.shape)"
   ]
  },
  {
   "cell_type": "code",
   "execution_count": 3,
   "metadata": {},
   "outputs": [
    {
     "name": "stdout",
     "output_type": "stream",
     "text": [
      "CHEN DATA\n",
      " (14437, 23284)\n"
     ]
    }
   ],
   "source": [
    "chen_data = saly.load_h5ad(DATASET_CHEN_PATH)\n",
    "print(\"CHEN DATA\\n\", chen_data.shape)"
   ]
  },
  {
   "cell_type": "code",
   "execution_count": 4,
   "metadata": {},
   "outputs": [
    {
     "name": "stdout",
     "output_type": "stream",
     "text": [
      "BIG DATA\n",
      " (2058652, 26158)\n"
     ]
    }
   ],
   "source": [
    "big_data = saly.load_h5ad(DATASET_BIG_PATH)\n",
    "print(\"BIG DATA\\n\", big_data.shape)"
   ]
  },
  {
   "cell_type": "code",
   "execution_count": 5,
   "metadata": {},
   "outputs": [
    {
     "name": "stdout",
     "output_type": "stream",
     "text": [
      "Dropped 4750 cell(s). New shape: (9687, 23284)\n"
     ]
    }
   ],
   "source": [
    "chen_data = saly.drop_rows(chen_data, ['tanycyte', 'unknown', 'ependymal cell', 'epithelial cell'])"
   ]
  },
  {
   "cell_type": "code",
   "execution_count": 6,
   "metadata": {},
   "outputs": [
    {
     "name": "stdout",
     "output_type": "stream",
     "text": [
      "Mutual markers: 6815\n"
     ]
    }
   ],
   "source": [
    "markers_db = saly.load_markers(MARKER_PATH, SPECIES)\n",
    "markers = saly.get_mutual_markers([hrvatin_data, chen_data, big_data], markers_db)\n",
    "print('Mutual markers:', len(markers))"
   ]
  },
  {
   "cell_type": "code",
   "execution_count": 7,
   "metadata": {},
   "outputs": [
    {
     "data": {
      "image/png": "[encoded data removed]",
      "text/plain": [
       "<Figure size 432x288 with 1 Axes>"
      ]
     },
     "metadata": {
      "needs_background": "light"
     },
     "output_type": "display_data"
    }
   ],
   "source": [
    "saly.plot_marker_genes(markers)"
   ]
  },
  {
   "cell_type": "code",
   "execution_count": 8,
   "metadata": {},
   "outputs": [],
   "source": [
    "marker_aliases = {'Neuron' : 'Neurons',\n",
    "                'Oligodendrocyte' : 'Oligodendrocytes',\n",
    "                'Muscle cell' : 'Smooth muscle cells',\n",
    "                'Endothelial cell' : 'Endothelial cells',\n",
    "                'Astrocyte' : 'Astrocytes',\n",
    "                'Macrophage' : 'Macrophages',\n",
    "                'OPC' : 'Oligodendrocyte progenitor cells',\n",
    "                'Pericyte' : 'Pericytes'}\n",
    "\n",
    "saly.check_labels([hrvatin_data, chen_data], markers, marker_aliases)"
   ]
  },
  {
   "cell_type": "code",
   "execution_count": 9,
   "metadata": {},
   "outputs": [
    {
     "name": "stdout",
     "output_type": "stream",
     "text": [
      "Dropped 21450 gene(s). New shape: (48266, 3736)\n",
      "Dropped 19548 gene(s). New shape: (9687, 3736)\n",
      "Dropped 22422 gene(s). New shape: (2058652, 3736)\n"
     ]
    }
   ],
   "source": [
    "hrvatin_data = saly.drop_unused_genes(hrvatin_data, markers)\n",
    "chen_data = saly.drop_unused_genes(chen_data, markers)\n",
    "big_data = saly.drop_unused_genes(big_data, markers)\n",
    "\n",
    "saly.check_shape([hrvatin_data, chen_data, big_data])"
   ]
  },
  {
   "cell_type": "code",
   "execution_count": 10,
   "metadata": {
    "scrolled": true
   },
   "outputs": [],
   "source": [
    "big_data = saly.mark_as_unlabelled(big_data.copy())"
   ]
  },
  {
   "cell_type": "code",
   "execution_count": 11,
   "metadata": {},
   "outputs": [],
   "source": [
    "train_data, _, _ = saly.preprocess_data(big_data, splits=10,\n",
    "                                       train=1, test=0, validation=0)"
   ]
  },
  {
   "cell_type": "code",
   "execution_count": 12,
   "metadata": {},
   "outputs": [],
   "source": [
    "chen_data = S.normalize_data(chen_data.copy())\n",
    "hrvatin_data = S.normalize_data(hrvatin_data.copy())"
   ]
  },
  {
   "cell_type": "code",
   "execution_count": 13,
   "metadata": {},
   "outputs": [],
   "source": [
    "model, marker_model, encoder_model = saly.build_model(train_data, markers, supervised=False);"
   ]
  },
  {
   "cell_type": "code",
   "execution_count": 14,
   "metadata": {},
   "outputs": [
    {
     "name": "stdout",
     "output_type": "stream",
     "text": [
      "Correct predictions: 7305 out of 9687 (75.41%)\n",
      "\tNeuron: 99.7% (2308/2315) | Markers: 195\n",
      "\tOligodendrocyte: 97.54% (3454/3541) | Markers: 82\n",
      "\tOPC: 0.0% (0/1792) | Markers: 26\n",
      "\tAstrocyte: 75.87% (871/1148) | Markers: 59\n",
      "\tMicroglia: 74.45% (539/724) | Markers: 78\n",
      "\tMacrophage: 79.64% (133/167) | Markers: 116\n"
     ]
    }
   ],
   "source": [
    "chen_cell_activations = marker_model.predict(chen_data.X)\n",
    "saly.get_results(chen_data.obs['labels'], chen_cell_activations, markers, marker_aliases)"
   ]
  },
  {
   "cell_type": "code",
   "execution_count": 15,
   "metadata": {},
   "outputs": [
    {
     "name": "stdout",
     "output_type": "stream",
     "text": [
      "Correct predictions: 43837 out of 48266 (90.82%)\n",
      "\tNeuron: 98.02% (14922/15223) | Markers: 195\n",
      "\tOligodendrocyte: 93.51% (8070/8630) | Markers: 82\n",
      "\tMuscle cell: 0.0% (0/621) | Markers: 77\n",
      "\tAstrocyte: 93.54% (6584/7039) | Markers: 59\n",
      "\tEndothelial cell: 99.97% (3449/3450) | Markers: 173\n",
      "\tMacrophage: 98.32% (528/537) | Markers: 116\n",
      "\tMicroglia: 97.92% (9947/10158) | Markers: 78\n",
      "\tOPC: 2.41% (44/1826) | Markers: 26\n",
      "\tPericyte: 37.47% (293/782) | Markers: 62\n"
     ]
    }
   ],
   "source": [
    "hrvatin_cell_activations = marker_model.predict(hrvatin_data.X)\n",
    "saly.get_results(hrvatin_data.obs['labels'], hrvatin_cell_activations, markers, marker_aliases)"
   ]
  },
  {
   "cell_type": "code",
   "execution_count": 16,
   "metadata": {
    "scrolled": true
   },
   "outputs": [
    {
     "name": "stdout",
     "output_type": "stream",
     "text": [
      "Train on 2058652 samples, validate on 9687 samples\n",
      "Epoch 1/25\n",
      "2058652/2058652 [==============================] - 136s 66us/step - loss: 1809.8426 - cell_activations_loss: 0.0000e+00 - output_loss: 1.8098 - cell_activations_marker_prediction_metric: 0.0000e+00 - val_loss: 3696.5322 - val_cell_activations_loss: 0.0000e+00 - val_output_loss: 3.6965 - val_cell_activations_marker_prediction_metric: 0.6990\n",
      "Epoch 2/25\n",
      "2058652/2058652 [==============================] - 144s 70us/step - loss: 1754.7621 - cell_activations_loss: 0.0000e+00 - output_loss: 1.7548 - cell_activations_marker_prediction_metric: 0.0000e+00 - val_loss: 3596.7316 - val_cell_activations_loss: 0.0000e+00 - val_output_loss: 3.5967 - val_cell_activations_marker_prediction_metric: 0.6312\n",
      "Epoch 3/25\n",
      "2058652/2058652 [==============================] - 149s 72us/step - loss: 1742.5309 - cell_activations_loss: 0.0000e+00 - output_loss: 1.7425 - cell_activations_marker_prediction_metric: 4.8575e-07 - val_loss: 3565.0320 - val_cell_activations_loss: 0.0000e+00 - val_output_loss: 3.5650 - val_cell_activations_marker_prediction_metric: 0.4026\n",
      "Epoch 4/25\n",
      "2058652/2058652 [==============================] - 149s 72us/step - loss: 1737.2058 - cell_activations_loss: 0.0000e+00 - output_loss: 1.7372 - cell_activations_marker_prediction_metric: 4.8575e-07 - val_loss: 3564.9250 - val_cell_activations_loss: 0.0000e+00 - val_output_loss: 3.5649 - val_cell_activations_marker_prediction_metric: 0.2867\n",
      "Epoch 5/25\n",
      "2058652/2058652 [==============================] - 143s 69us/step - loss: 1732.1792 - cell_activations_loss: 0.0000e+00 - output_loss: 1.7322 - cell_activations_marker_prediction_metric: 1.9430e-06 - val_loss: 3558.5030 - val_cell_activations_loss: 0.0000e+00 - val_output_loss: 3.5585 - val_cell_activations_marker_prediction_metric: 0.2566\n",
      "Epoch 6/25\n",
      "2058652/2058652 [==============================] - 135s 66us/step - loss: 1726.2235 - cell_activations_loss: 0.0000e+00 - output_loss: 1.7262 - cell_activations_marker_prediction_metric: 4.3718e-06 - val_loss: 3551.0759 - val_cell_activations_loss: 0.0000e+00 - val_output_loss: 3.5511 - val_cell_activations_marker_prediction_metric: 0.2531\n",
      "Epoch 7/25\n",
      "2058652/2058652 [==============================] - 138s 67us/step - loss: 1720.4733 - cell_activations_loss: 0.0000e+00 - output_loss: 1.7205 - cell_activations_marker_prediction_metric: 3.8860e-06 - val_loss: 3555.6157 - val_cell_activations_loss: 0.0000e+00 - val_output_loss: 3.5556 - val_cell_activations_marker_prediction_metric: 0.2473\n",
      "Epoch 8/25\n",
      "2058652/2058652 [==============================] - 139s 67us/step - loss: 1717.1362 - cell_activations_loss: 0.0000e+00 - output_loss: 1.7171 - cell_activations_marker_prediction_metric: 1.9430e-06 - val_loss: 3557.2704 - val_cell_activations_loss: 0.0000e+00 - val_output_loss: 3.5573 - val_cell_activations_marker_prediction_metric: 0.2596\n",
      "Epoch 9/25\n",
      "2058652/2058652 [==============================] - 140s 68us/step - loss: 1713.8882 - cell_activations_loss: 0.0000e+00 - output_loss: 1.7139 - cell_activations_marker_prediction_metric: 4.3718e-06 - val_loss: 3561.2419 - val_cell_activations_loss: 0.0000e+00 - val_output_loss: 3.5612 - val_cell_activations_marker_prediction_metric: 0.2471\n",
      "Epoch 10/25\n",
      "2058652/2058652 [==============================] - 135s 66us/step - loss: 1712.1529 - cell_activations_loss: 0.0000e+00 - output_loss: 1.7122 - cell_activations_marker_prediction_metric: 5.8291e-06 - val_loss: 3556.7276 - val_cell_activations_loss: 0.0000e+00 - val_output_loss: 3.5567 - val_cell_activations_marker_prediction_metric: 0.2448\n",
      "Epoch 11/25\n",
      "2058652/2058652 [==============================] - 145s 71us/step - loss: 1710.8669 - cell_activations_loss: 0.0000e+00 - output_loss: 1.7109 - cell_activations_marker_prediction_metric: 3.8860e-06 - val_loss: 3553.9453 - val_cell_activations_loss: 0.0000e+00 - val_output_loss: 3.5539 - val_cell_activations_marker_prediction_metric: 0.2633\n",
      "Epoch 12/25\n",
      "2058652/2058652 [==============================] - 133s 65us/step - loss: 1709.8070 - cell_activations_loss: 0.0000e+00 - output_loss: 1.7098 - cell_activations_marker_prediction_metric: 2.4288e-06 - val_loss: 3555.4737 - val_cell_activations_loss: 0.0000e+00 - val_output_loss: 3.5555 - val_cell_activations_marker_prediction_metric: 0.2423\n",
      "Epoch 13/25\n",
      "2058652/2058652 [==============================] - 142s 69us/step - loss: 1709.0060 - cell_activations_loss: 0.0000e+00 - output_loss: 1.7090 - cell_activations_marker_prediction_metric: 2.4288e-06 - val_loss: 3558.3718 - val_cell_activations_loss: 0.0000e+00 - val_output_loss: 3.5584 - val_cell_activations_marker_prediction_metric: 0.2386\n",
      "Epoch 14/25\n",
      "2058652/2058652 [==============================] - 137s 66us/step - loss: 1708.1637 - cell_activations_loss: 0.0000e+00 - output_loss: 1.7082 - cell_activations_marker_prediction_metric: 1.9430e-06 - val_loss: 3557.7054 - val_cell_activations_loss: 0.0000e+00 - val_output_loss: 3.5577 - val_cell_activations_marker_prediction_metric: 0.2395\n",
      "Epoch 15/25\n",
      "2058652/2058652 [==============================] - 145s 71us/step - loss: 1707.2407 - cell_activations_loss: 0.0000e+00 - output_loss: 1.7072 - cell_activations_marker_prediction_metric: 1.9430e-06 - val_loss: 3557.4634 - val_cell_activations_loss: 0.0000e+00 - val_output_loss: 3.5575 - val_cell_activations_marker_prediction_metric: 0.2273\n",
      "Epoch 16/25\n",
      "2058652/2058652 [==============================] - 145s 71us/step - loss: 1706.2922 - cell_activations_loss: 0.0000e+00 - output_loss: 1.7063 - cell_activations_marker_prediction_metric: 1.4573e-06 - val_loss: 3560.8805 - val_cell_activations_loss: 0.0000e+00 - val_output_loss: 3.5609 - val_cell_activations_marker_prediction_metric: 0.2224\n",
      "Epoch 17/25\n",
      "2058652/2058652 [==============================] - 142s 69us/step - loss: 1705.4496 - cell_activations_loss: 0.0000e+00 - output_loss: 1.7054 - cell_activations_marker_prediction_metric: 1.4573e-06 - val_loss: 3561.7517 - val_cell_activations_loss: 0.0000e+00 - val_output_loss: 3.5618 - val_cell_activations_marker_prediction_metric: 0.2282\n",
      "Epoch 18/25\n",
      "2058652/2058652 [==============================] - 138s 67us/step - loss: 1704.6773 - cell_activations_loss: 0.0000e+00 - output_loss: 1.7047 - cell_activations_marker_prediction_metric: 1.4573e-06 - val_loss: 3556.0692 - val_cell_activations_loss: 0.0000e+00 - val_output_loss: 3.5561 - val_cell_activations_marker_prediction_metric: 0.2247\n",
      "Epoch 19/25\n",
      "2058652/2058652 [==============================] - 135s 65us/step - loss: 1704.0008 - cell_activations_loss: 0.0000e+00 - output_loss: 1.7040 - cell_activations_marker_prediction_metric: 1.4573e-06 - val_loss: 3549.7672 - val_cell_activations_loss: 0.0000e+00 - val_output_loss: 3.5498 - val_cell_activations_marker_prediction_metric: 0.2619\n",
      "Epoch 20/25\n",
      "2058652/2058652 [==============================] - 145s 70us/step - loss: 1703.5814 - cell_activations_loss: 0.0000e+00 - output_loss: 1.7036 - cell_activations_marker_prediction_metric: 1.9430e-06 - val_loss: 3557.1291 - val_cell_activations_loss: 0.0000e+00 - val_output_loss: 3.5571 - val_cell_activations_marker_prediction_metric: 0.2603\n",
      "Epoch 21/25\n",
      "2058652/2058652 [==============================] - 143s 70us/step - loss: 1703.1933 - cell_activations_loss: 0.0000e+00 - output_loss: 1.7032 - cell_activations_marker_prediction_metric: 1.9430e-06 - val_loss: 3557.4762 - val_cell_activations_loss: 0.0000e+00 - val_output_loss: 3.5575 - val_cell_activations_marker_prediction_metric: 0.2193\n",
      "Epoch 22/25\n",
      "2058652/2058652 [==============================] - 139s 68us/step - loss: 1702.8969 - cell_activations_loss: 0.0000e+00 - output_loss: 1.7029 - cell_activations_marker_prediction_metric: 1.4573e-06 - val_loss: 3551.3748 - val_cell_activations_loss: 0.0000e+00 - val_output_loss: 3.5514 - val_cell_activations_marker_prediction_metric: 0.2545\n",
      "Epoch 23/25\n",
      "2058652/2058652 [==============================] - 137s 66us/step - loss: 1702.5715 - cell_activations_loss: 0.0000e+00 - output_loss: 1.7026 - cell_activations_marker_prediction_metric: 1.4573e-06 - val_loss: 3555.2713 - val_cell_activations_loss: 0.0000e+00 - val_output_loss: 3.5553 - val_cell_activations_marker_prediction_metric: 0.2517\n",
      "Epoch 24/25\n"
     ]
    },
    {
     "name": "stdout",
     "output_type": "stream",
     "text": [
      "2058652/2058652 [==============================] - 146s 71us/step - loss: 1702.3999 - cell_activations_loss: 0.0000e+00 - output_loss: 1.7024 - cell_activations_marker_prediction_metric: 1.4573e-06 - val_loss: 3555.5603 - val_cell_activations_loss: 0.0000e+00 - val_output_loss: 3.5556 - val_cell_activations_marker_prediction_metric: 0.2704\n",
      "Epoch 25/25\n",
      "2058652/2058652 [==============================] - 150s 73us/step - loss: 1702.0492 - cell_activations_loss: 0.0000e+00 - output_loss: 1.7020 - cell_activations_marker_prediction_metric: 2.4288e-06 - val_loss: 3552.8332 - val_cell_activations_loss: 0.0000e+00 - val_output_loss: 3.5528 - val_cell_activations_marker_prediction_metric: 0.2247\n"
     ]
    }
   ],
   "source": [
    "history = saly.train_model(model, train_data, markers, marker_aliases,\n",
    "                           EPOCHS, validation_data=chen_data, verbose=1)"
   ]
  },
  {
   "cell_type": "code",
   "execution_count": 17,
   "metadata": {},
   "outputs": [
    {
     "data": {
      "image/png": "[encoded data removed]",
      "text/plain": [
       "<Figure size 560x560 with 2 Axes>"
      ]
     },
     "metadata": {
      "needs_background": "light"
     },
     "output_type": "display_data"
    }
   ],
   "source": [
    "saly.plot_model_history(history, supervised=False, labelled_training=False)"
   ]
  },
  {
   "cell_type": "code",
   "execution_count": 18,
   "metadata": {},
   "outputs": [
    {
     "name": "stdout",
     "output_type": "stream",
     "text": [
      "Correct predictions: 2177 out of 9687 (22.47%)\n",
      "\tNeuron: 87.17% (2018/2315) | Markers: 195\n",
      "\tOligodendrocyte: 0.0% (0/3541) | Markers: 82\n",
      "\tOPC: 0.0% (0/1792) | Markers: 26\n",
      "\tAstrocyte: 0.0% (0/1148) | Markers: 59\n",
      "\tMicroglia: 16.3% (118/724) | Markers: 78\n",
      "\tMacrophage: 24.55% (41/167) | Markers: 116\n"
     ]
    }
   ],
   "source": [
    "chen_cell_activations = marker_model.predict(chen_data.X)\n",
    "saly.get_results(chen_data.obs['labels'], chen_cell_activations, markers, marker_aliases)"
   ]
  },
  {
   "cell_type": "code",
   "execution_count": 19,
   "metadata": {},
   "outputs": [
    {
     "name": "stdout",
     "output_type": "stream",
     "text": [
      "Correct predictions: 18353 out of 48266 (38.02%)\n",
      "\tNeuron: 96.24% (14650/15223) | Markers: 195\n",
      "\tOligodendrocyte: 0.09% (8/8630) | Markers: 82\n",
      "\tMuscle cell: 0.0% (0/621) | Markers: 77\n",
      "\tAstrocyte: 0.09% (6/7039) | Markers: 59\n",
      "\tEndothelial cell: 77.39% (2670/3450) | Markers: 173\n",
      "\tMacrophage: 46.55% (250/537) | Markers: 116\n",
      "\tMicroglia: 7.57% (769/10158) | Markers: 78\n",
      "\tOPC: 0.0% (0/1826) | Markers: 26\n",
      "\tPericyte: 0.0% (0/782) | Markers: 62\n"
     ]
    }
   ],
   "source": [
    "hrvatin_cell_activations = marker_model.predict(hrvatin_data.X)\n",
    "saly.get_results(hrvatin_data.obs['labels'], hrvatin_cell_activations, markers, marker_aliases)"
   ]
  },
  {
   "cell_type": "code",
   "execution_count": null,
   "metadata": {},
   "outputs": [],
   "source": []
  }
 ],
 "metadata": {
  "kernelspec": {
   "display_name": "Python 3",
   "language": "python",
   "name": "python3"
  },
  "language_info": {
   "codemirror_mode": {
    "name": "ipython",
    "version": 3
   },
   "file_extension": ".py",
   "mimetype": "text/x-python",
   "name": "python",
   "nbconvert_exporter": "python",
   "pygments_lexer": "ipython3",
   "version": "3.7.4"
  }
 },
 "nbformat": 4,
 "nbformat_minor": 2
}
