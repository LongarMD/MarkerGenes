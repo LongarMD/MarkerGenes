{
 "cells": [
  {
   "cell_type": "code",
   "execution_count": 1,
   "metadata": {},
   "outputs": [
    {
     "name": "stderr",
     "output_type": "stream",
     "text": [
      "Using TensorFlow backend.\n"
     ]
    }
   ],
   "source": [
    "import tensorflow as tf\n",
    "tf.logging.set_verbosity(tf.logging.ERROR)\n",
    "\n",
    "from os import path\n",
    "import sys\n",
    "sys.path.append(path.join(\"..\"))\n",
    "\n",
    "import saly\n",
    "import saly.backend as S\n",
    "import pandas as pd\n",
    "import numpy as np\n",
    "\n",
    "%load_ext autoreload\n",
    "%autoreload 2\n",
    "\n",
    "EPOCHS = 6\n",
    "SPECIES = 'Mouse'\n",
    "DATA_PATH = '/home/mlongar/Data/SingleCellGeneExpression/'\n",
    "DATASET_HRVATIN_PATH = DATA_PATH + 'hrvatin_2018.h5ad' \n",
    "DATASET_CHEN_PATH = DATA_PATH + 'chen_2017.h5ad'\n",
    "DATASET_BIG_PATH = DATA_PATH + '10x_mouse_1.3mln.h5ad'\n",
    "MARKER_PATH = DATA_PATH + 'panglao_gene_markers.tab.gz'"
   ]
  },
  {
   "cell_type": "code",
   "execution_count": 2,
   "metadata": {},
   "outputs": [
    {
     "name": "stdout",
     "output_type": "stream",
     "text": [
      "HRVATIN DATA\n",
      " (48266, 25186)\n"
     ]
    }
   ],
   "source": [
    "hrvatin_data = saly.load_h5ad(DATASET_HRVATIN_PATH)\n",
    "print(\"HRVATIN DATA\\n\", hrvatin_data.shape)"
   ]
  },
  {
   "cell_type": "code",
   "execution_count": 3,
   "metadata": {},
   "outputs": [
    {
     "name": "stdout",
     "output_type": "stream",
     "text": [
      "CHEN DATA\n",
      " (14437, 23284)\n"
     ]
    }
   ],
   "source": [
    "chen_data = saly.load_h5ad(DATASET_CHEN_PATH)\n",
    "print(\"CHEN DATA\\n\", chen_data.shape)"
   ]
  },
  {
   "cell_type": "code",
   "execution_count": 4,
   "metadata": {},
   "outputs": [
    {
     "name": "stdout",
     "output_type": "stream",
     "text": [
      "BIG DATA\n",
      " (1306127, 27932)\n"
     ]
    }
   ],
   "source": [
    "big_data = saly.load_h5ad(DATASET_BIG_PATH)\n",
    "print(\"BIG DATA\\n\", big_data.shape)"
   ]
  },
  {
   "cell_type": "code",
   "execution_count": 5,
   "metadata": {},
   "outputs": [
    {
     "name": "stdout",
     "output_type": "stream",
     "text": [
      "Dropped 4750 cell(s). New shape: (9687, 23284)\n"
     ]
    }
   ],
   "source": [
    "chen_data = saly.drop_rows(chen_data, ['tanycyte', 'unknown', 'ependymal cell', 'epithelial cell'])"
   ]
  },
  {
   "cell_type": "code",
   "execution_count": 6,
   "metadata": {},
   "outputs": [
    {
     "name": "stdout",
     "output_type": "stream",
     "text": [
      "Mutual markers: 7382\n"
     ]
    }
   ],
   "source": [
    "markers_db = saly.load_markers(MARKER_PATH, SPECIES)\n",
    "markers = saly.get_mutual_markers([hrvatin_data, chen_data, big_data], markers_db)\n",
    "print('Mutual markers:', len(markers))"
   ]
  },
  {
   "cell_type": "code",
   "execution_count": 7,
   "metadata": {},
   "outputs": [],
   "source": [
    "marker_aliases = {'Neuron' : 'Neurons',\n",
    "                'Oligodendrocyte' : 'Oligodendrocytes',\n",
    "                'Muscle cell' : 'Smooth muscle cells',\n",
    "                'Endothelial cell' : 'Endothelial cells',\n",
    "                'Astrocyte' : 'Astrocytes',\n",
    "                'Macrophage' : 'Macrophages',\n",
    "                'OPC' : 'Oligodendrocyte progenitor cells',\n",
    "                'Pericyte' : 'Pericytes'}\n",
    "\n",
    "saly.check_labels([hrvatin_data, chen_data], markers, marker_aliases)"
   ]
  },
  {
   "cell_type": "code",
   "execution_count": 8,
   "metadata": {},
   "outputs": [
    {
     "name": "stdout",
     "output_type": "stream",
     "text": [
      "Dropped 21107 gene(s). New shape: (48266, 4079)\n",
      "Dropped 19205 gene(s). New shape: (9687, 4079)\n",
      "Dropped 23853 gene(s). New shape: (1306127, 4079)\n"
     ]
    }
   ],
   "source": [
    "hrvatin_data = saly.drop_unused_genes(hrvatin_data, markers)\n",
    "chen_data = saly.drop_unused_genes(chen_data, markers)\n",
    "big_data = saly.drop_unused_genes(big_data, markers)\n",
    "\n",
    "saly.check_shape([hrvatin_data, chen_data, big_data])"
   ]
  },
  {
   "cell_type": "code",
   "execution_count": 9,
   "metadata": {},
   "outputs": [],
   "source": [
    "big_data = saly.mark_as_unlabelled(big_data.copy())"
   ]
  },
  {
   "cell_type": "code",
   "execution_count": 10,
   "metadata": {},
   "outputs": [],
   "source": [
    "train_data, _, _ = saly.preprocess_data(big_data, splits=10,\n",
    "                                       train=1, test=0, validation=0)"
   ]
  },
  {
   "cell_type": "code",
   "execution_count": 11,
   "metadata": {},
   "outputs": [],
   "source": [
    "chen_data = S.normalize_data(chen_data.copy())\n",
    "hrvatin_data = S.normalize_data(hrvatin_data.copy())"
   ]
  },
  {
   "cell_type": "code",
   "execution_count": 12,
   "metadata": {},
   "outputs": [],
   "source": [
    "model, marker_model, encoder_model = saly.build_model(hrvatin_data, markers, supervised=False);"
   ]
  },
  {
   "cell_type": "markdown",
   "metadata": {},
   "source": [
    "### Permute the genes"
   ]
  },
  {
   "cell_type": "code",
   "execution_count": 13,
   "metadata": {},
   "outputs": [],
   "source": [
    "train_data = S.shuffle_data(train_data, axis=1)"
   ]
  },
  {
   "cell_type": "code",
   "execution_count": 14,
   "metadata": {
    "scrolled": true
   },
   "outputs": [
    {
     "name": "stdout",
     "output_type": "stream",
     "text": [
      "Train on 1306127 samples, validate on 9687 samples\n",
      "Epoch 1/6\n",
      "1306127/1306127 [==============================] - 92s 70us/step - loss: 2081.7123 - cell_activations_loss: 0.0000e+00 - output_loss: 2.0817 - cell_activations_marker_prediction_metric: 0.0000e+00 - val_loss: 3452.1647 - val_cell_activations_loss: 0.0000e+00 - val_output_loss: 3.4522 - val_cell_activations_marker_prediction_metric: 0.1890\n",
      "Epoch 2/6\n",
      "1306127/1306127 [==============================] - 89s 68us/step - loss: 2027.3084 - cell_activations_loss: 0.0000e+00 - output_loss: 2.0273 - cell_activations_marker_prediction_metric: 0.0000e+00 - val_loss: 3467.7722 - val_cell_activations_loss: 0.0000e+00 - val_output_loss: 3.4678 - val_cell_activations_marker_prediction_metric: 0.0805\n",
      "Epoch 3/6\n",
      "1306127/1306127 [==============================] - 89s 68us/step - loss: 2022.2250 - cell_activations_loss: 0.0000e+00 - output_loss: 2.0222 - cell_activations_marker_prediction_metric: 0.0000e+00 - val_loss: 3484.1810 - val_cell_activations_loss: 0.0000e+00 - val_output_loss: 3.4842 - val_cell_activations_marker_prediction_metric: 0.1432\n",
      "Epoch 4/6\n",
      "1306127/1306127 [==============================] - 88s 68us/step - loss: 2018.7582 - cell_activations_loss: 0.0000e+00 - output_loss: 2.0188 - cell_activations_marker_prediction_metric: 0.0000e+00 - val_loss: 3496.2549 - val_cell_activations_loss: 0.0000e+00 - val_output_loss: 3.4963 - val_cell_activations_marker_prediction_metric: 0.0594\n",
      "Epoch 5/6\n",
      "1306127/1306127 [==============================] - 88s 68us/step - loss: 2015.5995 - cell_activations_loss: 0.0000e+00 - output_loss: 2.0156 - cell_activations_marker_prediction_metric: 0.0000e+00 - val_loss: 3506.2317 - val_cell_activations_loss: 0.0000e+00 - val_output_loss: 3.5062 - val_cell_activations_marker_prediction_metric: 0.0868\n",
      "Epoch 6/6\n",
      "1306127/1306127 [==============================] - 89s 68us/step - loss: 2012.9816 - cell_activations_loss: 0.0000e+00 - output_loss: 2.0130 - cell_activations_marker_prediction_metric: 0.0000e+00 - val_loss: 3508.1339 - val_cell_activations_loss: 0.0000e+00 - val_output_loss: 3.5081 - val_cell_activations_marker_prediction_metric: 0.0714\n"
     ]
    }
   ],
   "source": [
    "history = saly.train_model(model, train_data, markers, marker_aliases,\n",
    "                           6, validation_data=chen_data, verbose=1)"
   ]
  },
  {
   "cell_type": "code",
   "execution_count": 15,
   "metadata": {},
   "outputs": [
    {
     "name": "stdout",
     "output_type": "stream",
     "text": [
      "Correct predictions: 6623 out of 9687 (68.37%)\n",
      "\tNeuron: 42.07% (974/2315) | Markers: 197\n",
      "\tOligodendrocyte: 77.15% (2732/3541) | Markers: 85\n",
      "\tOPC: 95.48% (1711/1792) | Markers: 28\n",
      "\tAstrocyte: 57.4% (659/1148) | Markers: 61\n",
      "\tMicroglia: 70.99% (514/724) | Markers: 80\n",
      "\tMacrophage: 19.76% (33/167) | Markers: 130\n"
     ]
    },
    {
     "data": {
      "image/png": "[encoded data removed]",
      "text/plain": [
       "<Figure size 560x560 with 2 Axes>"
      ]
     },
     "metadata": {
      "needs_background": "light"
     },
     "output_type": "display_data"
    }
   ],
   "source": [
    "chen_baseline = saly.get_baseline(chen_data, markers)\n",
    "validation_baseline = saly.get_results(chen_data.obs['labels'], chen_baseline.X.toarray(), markers, marker_aliases)\n",
    "\n",
    "saly.plot_model_history(history, validation_baseline, supervised=False, labelled_training=False)"
   ]
  },
  {
   "cell_type": "code",
   "execution_count": 16,
   "metadata": {},
   "outputs": [
    {
     "name": "stdout",
     "output_type": "stream",
     "text": [
      "Correct predictions: 4245 out of 48266 (8.8%)\n",
      "\tNeuron: 0.29% (44/15223) | Markers: 197\n",
      "\tOligodendrocyte: 23.48% (2026/8630) | Markers: 85\n",
      "\tMuscle cell: 4.19% (26/621) | Markers: 77\n",
      "\tAstrocyte: 3.98% (280/7039) | Markers: 61\n",
      "\tEndothelial cell: 43.01% (1484/3450) | Markers: 178\n",
      "\tMacrophage: 71.69% (385/537) | Markers: 130\n",
      "\tMicroglia: 0.0% (0/10158) | Markers: 80\n",
      "\tOPC: 0.0% (0/1826) | Markers: 28\n",
      "\tPericyte: 0.0% (0/782) | Markers: 64\n"
     ]
    }
   ],
   "source": [
    "hrvatin_cell_activations = marker_model.predict(hrvatin_data.X)\n",
    "saly.get_results(hrvatin_data.obs['labels'], hrvatin_cell_activations, markers, marker_aliases);"
   ]
  },
  {
   "cell_type": "code",
   "execution_count": 17,
   "metadata": {},
   "outputs": [
    {
     "name": "stdout",
     "output_type": "stream",
     "text": [
      "Correct predictions: 692 out of 9687 (7.14%)\n",
      "\tNeuron: 2.94% (68/2315) | Markers: 197\n",
      "\tOligodendrocyte: 14.6% (517/3541) | Markers: 85\n",
      "\tOPC: 0.0% (0/1792) | Markers: 28\n",
      "\tAstrocyte: 0.17% (2/1148) | Markers: 61\n",
      "\tMicroglia: 0.0% (0/724) | Markers: 80\n",
      "\tMacrophage: 62.87% (105/167) | Markers: 130\n"
     ]
    }
   ],
   "source": [
    "chen_cell_activations = marker_model.predict(chen_data.X)\n",
    "saly.get_results(chen_data.obs['labels'], chen_cell_activations, markers, marker_aliases);"
   ]
  },
  {
   "cell_type": "code",
   "execution_count": null,
   "metadata": {},
   "outputs": [],
   "source": []
  }
 ],
 "metadata": {
  "kernelspec": {
   "display_name": "Python 3",
   "language": "python",
   "name": "python3"
  },
  "language_info": {
   "codemirror_mode": {
    "name": "ipython",
    "version": 3
   },
   "file_extension": ".py",
   "mimetype": "text/x-python",
   "name": "python",
   "nbconvert_exporter": "python",
   "pygments_lexer": "ipython3",
   "version": "3.7.4"
  }
 },
 "nbformat": 4,
 "nbformat_minor": 2
}
