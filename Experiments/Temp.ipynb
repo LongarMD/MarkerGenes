{
 "cells": [
  {
   "cell_type": "code",
   "execution_count": 8,
   "metadata": {},
   "outputs": [
    {
     "name": "stdout",
     "output_type": "stream",
     "text": [
      "The autoreload extension is already loaded. To reload it, use:\n",
      "  %reload_ext autoreload\n"
     ]
    }
   ],
   "source": [
    "import tensorflow as tf\n",
    "tf.logging.set_verbosity(tf.logging.ERROR)\n",
    "\n",
    "from os import path\n",
    "import sys\n",
    "sys.path.append(path.join(\"..\"))\n",
    "\n",
    "import saly\n",
    "import saly.backend as S\n",
    "import pandas as pd\n",
    "import numpy as np\n",
    "\n",
    "%load_ext autoreload\n",
    "%autoreload 2\n",
    "\n",
    "EPOCHS = 1\n",
    "SPECIES = 'Mouse'\n",
    "DATA_PATH = '/home/mlongar/Data/SingleCellGeneExpression/'\n",
    "DATASET_HRVATIN_PATH = DATA_PATH + 'hrvatin_2018.h5ad' \n",
    "DATASET_CHEN_PATH = DATA_PATH + 'chen_2017.h5ad'\n",
    "DATASET_BIG_PATH = DATA_PATH + '10x_mouse_1.3mln.h5ad'\n",
    "MARKER_PATH = DATA_PATH + 'panglao_gene_markers.tab.gz'"
   ]
  },
  {
   "cell_type": "code",
   "execution_count": 9,
   "metadata": {},
   "outputs": [
    {
     "name": "stdout",
     "output_type": "stream",
     "text": [
      "HRVATIN DATA\n",
      " (48266, 25186)\n",
      "CHEN DATA\n",
      " (14437, 23284)\n"
     ]
    }
   ],
   "source": [
    "hrvatin_data = saly.load_h5ad(DATASET_HRVATIN_PATH)\n",
    "chen_data = saly.load_h5ad(DATASET_CHEN_PATH)\n",
    "#big_data = saly.load_h5ad(DATASET_BIG_PATH)\n",
    "\n",
    "print(\"HRVATIN DATA\\n\", hrvatin_data.shape)\n",
    "print(\"CHEN DATA\\n\", chen_data.shape)\n",
    "# print(\"BIG DATA\\n\", big_data.shape)"
   ]
  },
  {
   "cell_type": "code",
   "execution_count": 10,
   "metadata": {},
   "outputs": [
    {
     "name": "stdout",
     "output_type": "stream",
     "text": [
      "Dropped 4750 cell(s). New shape: (9687, 23284)\n"
     ]
    }
   ],
   "source": [
    "chen_data = saly.drop_rows(chen_data, ['tanycyte', 'unknown', 'ependymal cell', 'epithelial cell'])"
   ]
  },
  {
   "cell_type": "code",
   "execution_count": 11,
   "metadata": {},
   "outputs": [
    {
     "name": "stdout",
     "output_type": "stream",
     "text": [
      "Mutual markers: 7388\n"
     ]
    }
   ],
   "source": [
    "markers_db = saly.load_markers(MARKER_PATH, SPECIES)\n",
    "markers = saly.get_mutual_markers([hrvatin_data, chen_data], markers_db)\n",
    "\n",
    "print('Mutual markers:', len(markers))"
   ]
  },
  {
   "cell_type": "code",
   "execution_count": 12,
   "metadata": {},
   "outputs": [],
   "source": [
    "marker_aliases = {'Neuron' : 'Neurons',\n",
    "                'Oligodendrocyte' : 'Oligodendrocytes',\n",
    "                'Muscle cell' : 'Smooth muscle cells',\n",
    "                'Endothelial cell' : 'Endothelial cells',\n",
    "                'Astrocyte' : 'Astrocytes',\n",
    "                'Macrophage' : 'Macrophages',\n",
    "                'OPC' : 'Oligodendrocyte progenitor cells',\n",
    "                'Pericyte' : 'Pericytes'}\n",
    "\n",
    "saly.check_labels([hrvatin_data, chen_data], markers, marker_aliases)"
   ]
  },
  {
   "cell_type": "code",
   "execution_count": 13,
   "metadata": {},
   "outputs": [
    {
     "name": "stdout",
     "output_type": "stream",
     "text": [
      "Dropped 21104 gene(s). New shape: (48266, 4082)\n",
      "Dropped 19202 gene(s). New shape: (9687, 4082)\n"
     ]
    }
   ],
   "source": [
    "hrvatin_data = saly.drop_unused_genes(hrvatin_data, markers)\n",
    "chen_data = saly.drop_unused_genes(chen_data, markers)\n",
    "\n",
    "saly.check_shape([hrvatin_data, chen_data])"
   ]
  },
  {
   "cell_type": "code",
   "execution_count": null,
   "metadata": {},
   "outputs": [
    {
     "name": "stdout",
     "output_type": "stream",
     "text": [
      "Split 0\n",
      "Column 0\n",
      "Column 500\n",
      "Column 1000\n",
      "Column 1500\n",
      "Column 2000\n",
      "Column 2500\n",
      "Column 3000\n",
      "Column 3500\n",
      "Column 4000\n"
     ]
    },
    {
     "name": "stderr",
     "output_type": "stream",
     "text": [
      "Trying to set attribute `.X` of view, making a copy.\n"
     ]
    },
    {
     "name": "stdout",
     "output_type": "stream",
     "text": [
      "Split 1\n",
      "Column 0\n",
      "Column 500\n",
      "Column 1000\n",
      "Column 1500\n",
      "Column 2000\n",
      "Column 2500\n",
      "Column 3000\n",
      "Column 3500\n",
      "Column 4000\n",
      "Split 2\n",
      "Column 0\n",
      "Column 500\n",
      "Column 1000\n",
      "Column 1500\n",
      "Column 2000\n",
      "Column 2500\n",
      "Column 3000\n",
      "Column 3500\n",
      "Column 4000\n"
     ]
    }
   ],
   "source": [
    "train_data, _, _ = saly.preprocess_data(hrvatin_data, splits=4,\n",
    "                                        train=1.0, validation=0.0, test=0.0)"
   ]
  },
  {
   "cell_type": "code",
   "execution_count": null,
   "metadata": {
    "scrolled": true
   },
   "outputs": [],
   "source": [
    "model, marker_model, encoder_model = saly.build_model(big_data, markers, supervised=False);"
   ]
  },
  {
   "cell_type": "code",
   "execution_count": null,
   "metadata": {},
   "outputs": [],
   "source": []
  }
 ],
 "metadata": {
  "kernelspec": {
   "display_name": "Python 3",
   "language": "python",
   "name": "python3"
  },
  "language_info": {
   "codemirror_mode": {
    "name": "ipython",
    "version": 3
   },
   "file_extension": ".py",
   "mimetype": "text/x-python",
   "name": "python",
   "nbconvert_exporter": "python",
   "pygments_lexer": "ipython3",
   "version": "3.7.4"
  }
 },
 "nbformat": 4,
 "nbformat_minor": 2
}
