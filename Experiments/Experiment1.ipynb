{
 "cells": [
  {
   "cell_type": "code",
   "execution_count": 1,
   "metadata": {},
   "outputs": [
    {
     "name": "stderr",
     "output_type": "stream",
     "text": [
      "Using TensorFlow backend.\n"
     ]
    }
   ],
   "source": [
    "import tensorflow as tf\n",
    "tf.logging.set_verbosity(tf.logging.ERROR)\n",
    "\n",
    "from os import path\n",
    "import sys\n",
    "sys.path.append(path.join(\"..\"))\n",
    "\n",
    "import saly\n",
    "import saly.backend as S\n",
    "import pandas as pd\n",
    "import numpy as np\n",
    "\n",
    "%load_ext autoreload\n",
    "%autoreload 2\n",
    "\n",
    "EPOCHS = 25\n",
    "SPECIES = 'Mouse'\n",
    "DATA_PATH = '/home/mlongar/Data/SingleCellGeneExpression/'\n",
    "DATASET_HRVATIN_PATH = DATA_PATH + 'hrvatin_2018.h5ad' \n",
    "DATASET_CHEN_PATH = DATA_PATH + 'chen_2017.h5ad'\n",
    "DATASET_BIG_PATH = DATA_PATH + '10x_mouse_1.3mln.h5ad'\n",
    "MARKER_PATH = DATA_PATH + 'panglao_gene_markers.tab.gz'"
   ]
  },
  {
   "cell_type": "code",
   "execution_count": 2,
   "metadata": {},
   "outputs": [
    {
     "name": "stdout",
     "output_type": "stream",
     "text": [
      "HRVATIN DATA\n",
      " (48266, 25186)\n"
     ]
    }
   ],
   "source": [
    "hrvatin_data = saly.load_h5ad(DATASET_HRVATIN_PATH)\n",
    "print(\"HRVATIN DATA\\n\", hrvatin_data.shape)"
   ]
  },
  {
   "cell_type": "code",
   "execution_count": 3,
   "metadata": {},
   "outputs": [
    {
     "name": "stdout",
     "output_type": "stream",
     "text": [
      "CHEN DATA\n",
      " (14437, 23284)\n"
     ]
    }
   ],
   "source": [
    "chen_data = saly.load_h5ad(DATASET_CHEN_PATH)\n",
    "print(\"CHEN DATA\\n\", chen_data.shape)"
   ]
  },
  {
   "cell_type": "code",
   "execution_count": 4,
   "metadata": {},
   "outputs": [
    {
     "name": "stdout",
     "output_type": "stream",
     "text": [
      "BIG DATA\n",
      " (1306127, 27932)\n"
     ]
    }
   ],
   "source": [
    "big_data = saly.load_h5ad(DATASET_BIG_PATH)\n",
    "print(\"BIG DATA\\n\", big_data.shape)"
   ]
  },
  {
   "cell_type": "code",
   "execution_count": 5,
   "metadata": {},
   "outputs": [
    {
     "name": "stdout",
     "output_type": "stream",
     "text": [
      "Dropped 4750 cell(s). New shape: (9687, 23284)\n"
     ]
    }
   ],
   "source": [
    "chen_data = saly.drop_rows(chen_data, ['tanycyte', 'unknown', 'ependymal cell', 'epithelial cell'])"
   ]
  },
  {
   "cell_type": "code",
   "execution_count": 6,
   "metadata": {},
   "outputs": [
    {
     "name": "stdout",
     "output_type": "stream",
     "text": [
      "Mutual markers: 7382\n"
     ]
    }
   ],
   "source": [
    "markers_db = saly.load_markers(MARKER_PATH, SPECIES)\n",
    "markers = saly.get_mutual_markers([hrvatin_data, chen_data, big_data], markers_db)\n",
    "print('Mutual markers:', len(markers))"
   ]
  },
  {
   "cell_type": "code",
   "execution_count": 7,
   "metadata": {},
   "outputs": [],
   "source": [
    "marker_aliases = {'Neuron' : 'Neurons',\n",
    "                'Oligodendrocyte' : 'Oligodendrocytes',\n",
    "                'Muscle cell' : 'Smooth muscle cells',\n",
    "                'Endothelial cell' : 'Endothelial cells',\n",
    "                'Astrocyte' : 'Astrocytes',\n",
    "                'Macrophage' : 'Macrophages',\n",
    "                'OPC' : 'Oligodendrocyte progenitor cells',\n",
    "                'Pericyte' : 'Pericytes'}\n",
    "\n",
    "saly.check_labels([hrvatin_data, chen_data], markers, marker_aliases)"
   ]
  },
  {
   "cell_type": "code",
   "execution_count": 8,
   "metadata": {},
   "outputs": [
    {
     "name": "stdout",
     "output_type": "stream",
     "text": [
      "Dropped 21107 gene(s). New shape: (48266, 4079)\n",
      "Dropped 19205 gene(s). New shape: (9687, 4079)\n",
      "Dropped 23853 gene(s). New shape: (1306127, 4079)\n"
     ]
    }
   ],
   "source": [
    "hrvatin_data = saly.drop_unused_genes(hrvatin_data, markers)\n",
    "chen_data = saly.drop_unused_genes(chen_data, markers)\n",
    "big_data = saly.drop_unused_genes(big_data, markers)\n",
    "\n",
    "saly.check_shape([hrvatin_data, chen_data, big_data])"
   ]
  },
  {
   "cell_type": "code",
   "execution_count": 9,
   "metadata": {
    "scrolled": true
   },
   "outputs": [],
   "source": [
    "big_data = saly.mark_as_unlabelled(big_data.copy())"
   ]
  },
  {
   "cell_type": "code",
   "execution_count": 10,
   "metadata": {},
   "outputs": [],
   "source": [
    "train_data, _, _ = saly.preprocess_data(big_data, splits=10,\n",
    "                                       train=1, test=0, validation=0)"
   ]
  },
  {
   "cell_type": "code",
   "execution_count": 11,
   "metadata": {},
   "outputs": [],
   "source": [
    "chen_data = S.normalize_data(chen_data.copy())\n",
    "hrvatin_data = S.normalize_data(hrvatin_data.copy())"
   ]
  },
  {
   "cell_type": "code",
   "execution_count": 16,
   "metadata": {},
   "outputs": [],
   "source": [
    "model, marker_model, encoder_model = saly.build_model(train_data, markers, supervised=False);"
   ]
  },
  {
   "cell_type": "code",
   "execution_count": 17,
   "metadata": {
    "scrolled": true
   },
   "outputs": [
    {
     "name": "stdout",
     "output_type": "stream",
     "text": [
      "Train on 1306127 samples, validate on 9687 samples\n",
      "Epoch 1/5\n",
      "1306127/1306127 [==============================] - 83s 64us/step - loss: 2266.3686 - cell_activations_loss: 0.0000e+00 - output_loss: 2.2664 - cell_activations_marker_prediction_metric: 0.0000e+00 - val_loss: 3030.9518 - val_cell_activations_loss: 0.0000e+00 - val_output_loss: 3.0310 - val_cell_activations_marker_prediction_metric: 0.7438\n",
      "Epoch 2/5\n",
      "1306127/1306127 [==============================] - 83s 63us/step - loss: 2081.8199 - cell_activations_loss: 0.0000e+00 - output_loss: 2.0818 - cell_activations_marker_prediction_metric: 0.0000e+00 - val_loss: 2991.6951 - val_cell_activations_loss: 0.0000e+00 - val_output_loss: 2.9917 - val_cell_activations_marker_prediction_metric: 0.7016\n",
      "Epoch 3/5\n",
      "1306127/1306127 [==============================] - 82s 63us/step - loss: 2061.0901 - cell_activations_loss: 0.0000e+00 - output_loss: 2.0611 - cell_activations_marker_prediction_metric: 0.0000e+00 - val_loss: 2949.4890 - val_cell_activations_loss: 0.0000e+00 - val_output_loss: 2.9495 - val_cell_activations_marker_prediction_metric: 0.7609\n",
      "Epoch 4/5\n",
      "1306127/1306127 [==============================] - 83s 64us/step - loss: 2047.3651 - cell_activations_loss: 0.0000e+00 - output_loss: 2.0474 - cell_activations_marker_prediction_metric: 0.0000e+00 - val_loss: 2925.8460 - val_cell_activations_loss: 0.0000e+00 - val_output_loss: 2.9258 - val_cell_activations_marker_prediction_metric: 0.8803\n",
      "Epoch 5/5\n",
      "1306127/1306127 [==============================] - 82s 63us/step - loss: 2039.0436 - cell_activations_loss: 0.0000e+00 - output_loss: 2.0390 - cell_activations_marker_prediction_metric: 0.0000e+00 - val_loss: 2922.6977 - val_cell_activations_loss: 0.0000e+00 - val_output_loss: 2.9227 - val_cell_activations_marker_prediction_metric: 0.9410\n"
     ]
    }
   ],
   "source": [
    "history = saly.train_model(model, train_data, markers, marker_aliases,\n",
    "                           5, validation_data=chen_data, verbose=1);"
   ]
  },
  {
   "cell_type": "code",
   "execution_count": 18,
   "metadata": {},
   "outputs": [
    {
     "data": {
      "image/png": "[encoded data removed]",
      "text/plain": [
       "<Figure size 560x560 with 2 Axes>"
      ]
     },
     "metadata": {
      "needs_background": "light"
     },
     "output_type": "display_data"
    }
   ],
   "source": [
    "saly.plot_model_history(history, supervised=False, labelled_training=False)"
   ]
  },
  {
   "cell_type": "code",
   "execution_count": 19,
   "metadata": {},
   "outputs": [
    {
     "name": "stdout",
     "output_type": "stream",
     "text": [
      "Test reconstruction loss: 3.07414337\n",
      "Test prediction accuracy: 88.105 %\n"
     ]
    },
    {
     "data": {
      "text/plain": [
       "[3074.143364553618, 0.0, 3.0741433661709086, 0.8810549869498033]"
      ]
     },
     "execution_count": 19,
     "metadata": {},
     "output_type": "execute_result"
    }
   ],
   "source": [
    "saly.test_model(model, hrvatin_data, markers, marker_aliases)"
   ]
  },
  {
   "cell_type": "code",
   "execution_count": 21,
   "metadata": {},
   "outputs": [],
   "source": [
    "from sklearn.manifold import TSNE\n",
    "tsne = TSNE()\n",
    "colours = S.load_label_colours('../Notebooks/Data/hrvatin_chen_label_colours.pickle')"
   ]
  },
  {
   "cell_type": "code",
   "execution_count": 22,
   "metadata": {},
   "outputs": [],
   "source": [
    "chen_cell_activations = marker_model.predict(chen_data.X)\n",
    "chen_bottleneck_activations = encoder_model.predict(chen_data.X)"
   ]
  },
  {
   "cell_type": "code",
   "execution_count": 26,
   "metadata": {
    "scrolled": true
   },
   "outputs": [
    {
     "name": "stdout",
     "output_type": "stream",
     "text": [
      "Correct predictions: 9115 out of 9687 (94.1%)\n"
     ]
    }
   ],
   "source": [
    "saly.get_results(chen_data.obs['labels'], chen_cell_activations, markers, marker_aliases)"
   ]
  },
  {
   "cell_type": "code",
   "execution_count": 27,
   "metadata": {},
   "outputs": [],
   "source": [
    "hrvatin_cell_activations = marker_model.predict(hrvatin_data.X)\n",
    "hrvatin_bottleneck_activations = encoder_model.predict(hrvatin_data.X)"
   ]
  },
  {
   "cell_type": "code",
   "execution_count": 28,
   "metadata": {},
   "outputs": [
    {
     "name": "stdout",
     "output_type": "stream",
     "text": [
      "Correct predictions: 42525 out of 48266 (88.11%)\n"
     ]
    }
   ],
   "source": [
    "saly.get_results(hrvatin_data.obs['labels'], hrvatin_cell_activations, markers, marker_aliases)"
   ]
  },
  {
   "cell_type": "code",
   "execution_count": null,
   "metadata": {},
   "outputs": [],
   "source": []
  }
 ],
 "metadata": {
  "kernelspec": {
   "display_name": "Python 3",
   "language": "python",
   "name": "python3"
  },
  "language_info": {
   "codemirror_mode": {
    "name": "ipython",
    "version": 3
   },
   "file_extension": ".py",
   "mimetype": "text/x-python",
   "name": "python",
   "nbconvert_exporter": "python",
   "pygments_lexer": "ipython3",
   "version": "3.7.4"
  }
 },
 "nbformat": 4,
 "nbformat_minor": 2
}
