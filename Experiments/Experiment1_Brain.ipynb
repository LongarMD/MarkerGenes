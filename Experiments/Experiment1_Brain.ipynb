{
 "cells": [
  {
   "cell_type": "code",
   "execution_count": 1,
   "metadata": {},
   "outputs": [
    {
     "name": "stderr",
     "output_type": "stream",
     "text": [
      "Using TensorFlow backend.\n"
     ]
    }
   ],
   "source": [
    "import tensorflow as tf\n",
    "tf.logging.set_verbosity(tf.logging.ERROR)\n",
    "\n",
    "from os import path\n",
    "import sys\n",
    "sys.path.append(path.join(\"..\"))\n",
    "\n",
    "import saly\n",
    "import saly.backend as S\n",
    "import pandas as pd\n",
    "import numpy as np\n",
    "\n",
    "%load_ext autoreload\n",
    "%autoreload 2\n",
    "\n",
    "EPOCHS = 15\n",
    "SPECIES = 'Mouse'\n",
    "DATA_PATH = '/home/mlongar/Data/SingleCellGeneExpression/'\n",
    "DATASET_HRVATIN_PATH = DATA_PATH + 'hrvatin_2018.h5ad' \n",
    "DATASET_CHEN_PATH = DATA_PATH + 'chen_2017.h5ad'\n",
    "DATASET_BIG_PATH = DATA_PATH + '10x_mouse_1.3mln.h5ad'\n",
    "MARKER_PATH = DATA_PATH + 'panglao_gene_markers.tab.gz'"
   ]
  },
  {
   "cell_type": "code",
   "execution_count": 2,
   "metadata": {},
   "outputs": [
    {
     "name": "stdout",
     "output_type": "stream",
     "text": [
      "HRVATIN DATA\n",
      " (48266, 25186)\n"
     ]
    }
   ],
   "source": [
    "hrvatin_data = saly.load_h5ad(DATASET_HRVATIN_PATH)\n",
    "print(\"HRVATIN DATA\\n\", hrvatin_data.shape)"
   ]
  },
  {
   "cell_type": "code",
   "execution_count": 3,
   "metadata": {},
   "outputs": [
    {
     "name": "stdout",
     "output_type": "stream",
     "text": [
      "CHEN DATA\n",
      " (14437, 23284)\n"
     ]
    }
   ],
   "source": [
    "chen_data = saly.load_h5ad(DATASET_CHEN_PATH)\n",
    "print(\"CHEN DATA\\n\", chen_data.shape)"
   ]
  },
  {
   "cell_type": "code",
   "execution_count": 4,
   "metadata": {},
   "outputs": [
    {
     "name": "stdout",
     "output_type": "stream",
     "text": [
      "BIG DATA\n",
      " (1306127, 27932)\n"
     ]
    }
   ],
   "source": [
    "big_data = saly.load_h5ad(DATASET_BIG_PATH)\n",
    "print(\"BIG DATA\\n\", big_data.shape)"
   ]
  },
  {
   "cell_type": "code",
   "execution_count": 5,
   "metadata": {},
   "outputs": [
    {
     "name": "stdout",
     "output_type": "stream",
     "text": [
      "Dropped 4750 cell(s). New shape: (9687, 23284)\n"
     ]
    }
   ],
   "source": [
    "chen_data = saly.drop_rows(chen_data, ['tanycyte', 'unknown', 'ependymal cell', 'epithelial cell'])"
   ]
  },
  {
   "cell_type": "code",
   "execution_count": 6,
   "metadata": {},
   "outputs": [
    {
     "name": "stdout",
     "output_type": "stream",
     "text": [
      "Mutual markers: 7382\n"
     ]
    }
   ],
   "source": [
    "markers_db = saly.load_markers(MARKER_PATH, SPECIES)\n",
    "markers = saly.get_mutual_markers([hrvatin_data, chen_data, big_data], markers_db)\n",
    "print('Mutual markers:', len(markers))"
   ]
  },
  {
   "cell_type": "code",
   "execution_count": 7,
   "metadata": {},
   "outputs": [
    {
     "data": {
      "image/png": "[encoded data removed]",
      "text/plain": [
       "<Figure size 432x288 with 1 Axes>"
      ]
     },
     "metadata": {
      "needs_background": "light"
     },
     "output_type": "display_data"
    }
   ],
   "source": [
    "saly.plot_marker_genes(markers)"
   ]
  },
  {
   "cell_type": "code",
   "execution_count": 8,
   "metadata": {},
   "outputs": [],
   "source": [
    "marker_aliases = {'Neuron' : 'Neurons',\n",
    "                'Oligodendrocyte' : 'Oligodendrocytes',\n",
    "                'Muscle cell' : 'Smooth muscle cells',\n",
    "                'Endothelial cell' : 'Endothelial cells',\n",
    "                'Astrocyte' : 'Astrocytes',\n",
    "                'Macrophage' : 'Macrophages',\n",
    "                'OPC' : 'Oligodendrocyte progenitor cells',\n",
    "                'Pericyte' : 'Pericytes'}\n",
    "\n",
    "saly.check_labels([hrvatin_data, chen_data], markers, marker_aliases)"
   ]
  },
  {
   "cell_type": "code",
   "execution_count": 9,
   "metadata": {},
   "outputs": [
    {
     "name": "stdout",
     "output_type": "stream",
     "text": [
      "Dropped 21107 gene(s). New shape: (48266, 4079)\n",
      "Dropped 19205 gene(s). New shape: (9687, 4079)\n",
      "Dropped 23853 gene(s). New shape: (1306127, 4079)\n"
     ]
    }
   ],
   "source": [
    "hrvatin_data = saly.drop_unused_genes(hrvatin_data, markers)\n",
    "chen_data = saly.drop_unused_genes(chen_data, markers)\n",
    "big_data = saly.drop_unused_genes(big_data, markers)\n",
    "\n",
    "saly.check_shape([hrvatin_data, chen_data, big_data])"
   ]
  },
  {
   "cell_type": "code",
   "execution_count": 10,
   "metadata": {
    "scrolled": true
   },
   "outputs": [],
   "source": [
    "big_data = saly.mark_as_unlabelled(big_data.copy())"
   ]
  },
  {
   "cell_type": "code",
   "execution_count": 11,
   "metadata": {},
   "outputs": [],
   "source": [
    "train_data, _, _ = saly.preprocess_data(big_data, splits=10,\n",
    "                                       train=1, test=0, validation=0)"
   ]
  },
  {
   "cell_type": "code",
   "execution_count": 12,
   "metadata": {},
   "outputs": [],
   "source": [
    "chen_data = S.normalize_data(chen_data.copy())\n",
    "hrvatin_data = S.normalize_data(hrvatin_data.copy())"
   ]
  },
  {
   "cell_type": "code",
   "execution_count": 13,
   "metadata": {},
   "outputs": [],
   "source": [
    "model, marker_model, encoder_model = saly.build_model(train_data, markers, supervised=False);"
   ]
  },
  {
   "cell_type": "code",
   "execution_count": 14,
   "metadata": {},
   "outputs": [
    {
     "name": "stdout",
     "output_type": "stream",
     "text": [
      "Correct predictions: 7294 out of 9687 (75.3%)\n",
      "\tNeuron: 99.7% (2308/2315) | Markers: 197\n",
      "\tOligodendrocyte: 97.66% (3458/3541) | Markers: 85\n",
      "\tOPC: 0.0% (0/1792) | Markers: 28\n",
      "\tAstrocyte: 80.66% (926/1148) | Markers: 61\n",
      "\tMicroglia: 64.5% (467/724) | Markers: 80\n",
      "\tMacrophage: 80.84% (135/167) | Markers: 130\n"
     ]
    }
   ],
   "source": [
    "chen_cell_activations = marker_model.predict(chen_data.X)\n",
    "saly.get_results(chen_data.obs['labels'], chen_cell_activations, markers, marker_aliases)"
   ]
  },
  {
   "cell_type": "code",
   "execution_count": 15,
   "metadata": {},
   "outputs": [
    {
     "name": "stdout",
     "output_type": "stream",
     "text": [
      "Correct predictions: 44062 out of 48266 (91.29%)\n",
      "\tNeuron: 97.7% (14873/15223) | Markers: 197\n",
      "\tOligodendrocyte: 93.56% (8074/8630) | Markers: 85\n",
      "\tMuscle cell: 0.0% (0/621) | Markers: 77\n",
      "\tAstrocyte: 96.33% (6781/7039) | Markers: 61\n",
      "\tEndothelial cell: 99.97% (3449/3450) | Markers: 178\n",
      "\tMacrophage: 98.51% (529/537) | Markers: 130\n",
      "\tMicroglia: 97.84% (9939/10158) | Markers: 80\n",
      "\tOPC: 4.11% (75/1826) | Markers: 28\n",
      "\tPericyte: 43.73% (342/782) | Markers: 64\n"
     ]
    }
   ],
   "source": [
    "hrvatin_cell_activations = marker_model.predict(hrvatin_data.X)\n",
    "saly.get_results(hrvatin_data.obs['labels'], hrvatin_cell_activations, markers, marker_aliases)"
   ]
  },
  {
   "cell_type": "code",
   "execution_count": null,
   "metadata": {
    "scrolled": true
   },
   "outputs": [
    {
     "name": "stdout",
     "output_type": "stream",
     "text": [
      "Train on 1306127 samples, validate on 9687 samples\n",
      "Epoch 1/6\n",
      "1306127/1306127 [==============================] - 87s 67us/step - loss: 2193.8222 - cell_activations_loss: 0.0000e+00 - output_loss: 2.1938 - cell_activations_marker_prediction_metric: 0.0000e+00 - val_loss: 3059.8809 - val_cell_activations_loss: 0.0000e+00 - val_output_loss: 3.0599 - val_cell_activations_marker_prediction_metric: 0.7528\n",
      "Epoch 2/6\n",
      "1306127/1306127 [==============================] - 84s 64us/step - loss: 2062.3790 - cell_activations_loss: 0.0000e+00 - output_loss: 2.0624 - cell_activations_marker_prediction_metric: 0.0000e+00 - val_loss: 2993.0350 - val_cell_activations_loss: 0.0000e+00 - val_output_loss: 2.9930 - val_cell_activations_marker_prediction_metric: 0.6913\n",
      "Epoch 3/6\n",
      "1306127/1306127 [==============================] - 84s 65us/step - loss: 2037.5316 - cell_activations_loss: 0.0000e+00 - output_loss: 2.0375 - cell_activations_marker_prediction_metric: 0.0000e+00 - val_loss: 2933.7752 - val_cell_activations_loss: 0.0000e+00 - val_output_loss: 2.9338 - val_cell_activations_marker_prediction_metric: 0.7011\n",
      "Epoch 4/6\n",
      "1306127/1306127 [==============================] - 84s 64us/step - loss: 2028.0366 - cell_activations_loss: 0.0000e+00 - output_loss: 2.0280 - cell_activations_marker_prediction_metric: 0.0000e+00 - val_loss: 2937.6916 - val_cell_activations_loss: 0.0000e+00 - val_output_loss: 2.9377 - val_cell_activations_marker_prediction_metric: 0.7452\n",
      "Epoch 5/6\n",
      "1306127/1306127 [==============================] - 84s 64us/step - loss: 2023.7213 - cell_activations_loss: 0.0000e+00 - output_loss: 2.0237 - cell_activations_marker_prediction_metric: 0.0000e+00 - val_loss: 2919.1975 - val_cell_activations_loss: 0.0000e+00 - val_output_loss: 2.9192 - val_cell_activations_marker_prediction_metric: 0.7845\n",
      "Epoch 6/6\n",
      "1125120/1306127 [========================>.....] - ETA: 11s - loss: 2018.7104 - cell_activations_loss: 0.0000e+00 - output_loss: 2.0187 - cell_activations_marker_prediction_metric: 0.0000e+00"
     ]
    }
   ],
   "source": [
    "history = saly.train_model(model, train_data, markers, marker_aliases,\n",
    "                           6, validation_data=chen_data, verbose=1)"
   ]
  },
  {
   "cell_type": "code",
   "execution_count": null,
   "metadata": {},
   "outputs": [],
   "source": [
    "saly.plot_model_history(history, supervised=False, labelled_training=False)"
   ]
  },
  {
   "cell_type": "code",
   "execution_count": null,
   "metadata": {
    "scrolled": true
   },
   "outputs": [],
   "source": [
    "chen_cell_activations = marker_model.predict(chen_data.X)\n",
    "saly.get_results(chen_data.obs['labels'], chen_cell_activations, markers, marker_aliases)"
   ]
  },
  {
   "cell_type": "code",
   "execution_count": null,
   "metadata": {},
   "outputs": [],
   "source": [
    "hrvatin_cell_activations = marker_model.predict(hrvatin_data.X)\n",
    "saly.get_results(hrvatin_data.obs['labels'], hrvatin_cell_activations, markers, marker_aliases)"
   ]
  },
  {
   "cell_type": "code",
   "execution_count": null,
   "metadata": {},
   "outputs": [],
   "source": []
  }
 ],
 "metadata": {
  "kernelspec": {
   "display_name": "Python 3",
   "language": "python",
   "name": "python3"
  },
  "language_info": {
   "codemirror_mode": {
    "name": "ipython",
    "version": 3
   },
   "file_extension": ".py",
   "mimetype": "text/x-python",
   "name": "python",
   "nbconvert_exporter": "python",
   "pygments_lexer": "ipython3",
   "version": "3.7.4"
  }
 },
 "nbformat": 4,
 "nbformat_minor": 2
}
