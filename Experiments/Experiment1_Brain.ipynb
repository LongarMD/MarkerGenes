{
 "cells": [
  {
   "cell_type": "code",
   "execution_count": 1,
   "metadata": {},
   "outputs": [
    {
     "name": "stderr",
     "output_type": "stream",
     "text": [
      "Using TensorFlow backend.\n"
     ]
    }
   ],
   "source": [
    "import tensorflow as tf\n",
    "tf.logging.set_verbosity(tf.logging.ERROR)\n",
    "\n",
    "from os import path\n",
    "import sys\n",
    "sys.path.append(path.join(\"..\"))\n",
    "\n",
    "import saly\n",
    "import saly.backend as S\n",
    "import pandas as pd\n",
    "import numpy as np\n",
    "\n",
    "%load_ext autoreload\n",
    "%autoreload 2\n",
    "\n",
    "EPOCHS = 15\n",
    "SPECIES = 'Mouse'\n",
    "DATA_PATH = '/home/mlongar/Data/SingleCellGeneExpression/'\n",
    "DATASET_HRVATIN_PATH = DATA_PATH + 'hrvatin_2018.h5ad' \n",
    "DATASET_CHEN_PATH = DATA_PATH + 'chen_2017.h5ad'\n",
    "DATASET_BIG_PATH = DATA_PATH + '10x_mouse_1.3mln.h5ad'\n",
    "MARKER_PATH = DATA_PATH + 'panglao_gene_markers.tab.gz'"
   ]
  },
  {
   "cell_type": "code",
   "execution_count": 2,
   "metadata": {},
   "outputs": [
    {
     "name": "stdout",
     "output_type": "stream",
     "text": [
      "HRVATIN DATA\n",
      " (48266, 25186)\n"
     ]
    }
   ],
   "source": [
    "hrvatin_data = saly.load_h5ad(DATASET_HRVATIN_PATH)\n",
    "print(\"HRVATIN DATA\\n\", hrvatin_data.shape)"
   ]
  },
  {
   "cell_type": "code",
   "execution_count": 3,
   "metadata": {
    "scrolled": true
   },
   "outputs": [
    {
     "name": "stdout",
     "output_type": "stream",
     "text": [
      "CHEN DATA\n",
      " (14437, 23284)\n"
     ]
    }
   ],
   "source": [
    "chen_data = saly.load_h5ad(DATASET_CHEN_PATH)\n",
    "print(\"CHEN DATA\\n\", chen_data.shape)"
   ]
  },
  {
   "cell_type": "code",
   "execution_count": 4,
   "metadata": {},
   "outputs": [
    {
     "name": "stdout",
     "output_type": "stream",
     "text": [
      "BIG DATA\n",
      " (1306127, 27932)\n"
     ]
    }
   ],
   "source": [
    "big_data = saly.load_h5ad(DATASET_BIG_PATH)\n",
    "print(\"BIG DATA\\n\", big_data.shape)"
   ]
  },
  {
   "cell_type": "code",
   "execution_count": 5,
   "metadata": {},
   "outputs": [
    {
     "name": "stdout",
     "output_type": "stream",
     "text": [
      "Dropped 4750 cell(s). New shape: (9687, 23284)\n"
     ]
    }
   ],
   "source": [
    "chen_data = saly.drop_rows(chen_data, ['tanycyte', 'unknown', 'ependymal cell', 'epithelial cell'])"
   ]
  },
  {
   "cell_type": "code",
   "execution_count": 6,
   "metadata": {},
   "outputs": [
    {
     "name": "stdout",
     "output_type": "stream",
     "text": [
      "Mutual markers: 7382\n"
     ]
    }
   ],
   "source": [
    "markers_db = saly.load_markers(MARKER_PATH, SPECIES)\n",
    "markers = saly.get_mutual_markers([hrvatin_data, chen_data, big_data], markers_db)\n",
    "print('Mutual markers:', len(markers))"
   ]
  },
  {
   "cell_type": "code",
   "execution_count": 7,
   "metadata": {},
   "outputs": [
    {
     "data": {
      "image/png": "[encoded data removed]",
      "text/plain": [
       "<Figure size 432x288 with 1 Axes>"
      ]
     },
     "metadata": {
      "needs_background": "light"
     },
     "output_type": "display_data"
    }
   ],
   "source": [
    "saly.plot_marker_genes(markers)"
   ]
  },
  {
   "cell_type": "code",
   "execution_count": 8,
   "metadata": {},
   "outputs": [],
   "source": [
    "marker_aliases = {'Neuron' : 'Neurons',\n",
    "                'Oligodendrocyte' : 'Oligodendrocytes',\n",
    "                'Muscle cell' : 'Smooth muscle cells',\n",
    "                'Endothelial cell' : 'Endothelial cells',\n",
    "                'Astrocyte' : 'Astrocytes',\n",
    "                'Macrophage' : 'Macrophages',\n",
    "                'OPC' : 'Oligodendrocyte progenitor cells',\n",
    "                'Pericyte' : 'Pericytes'}\n",
    "\n",
    "saly.check_labels([hrvatin_data, chen_data], markers, marker_aliases)"
   ]
  },
  {
   "cell_type": "code",
   "execution_count": 9,
   "metadata": {},
   "outputs": [
    {
     "name": "stdout",
     "output_type": "stream",
     "text": [
      "Dropped 21107 gene(s). New shape: (48266, 4079)\n",
      "Dropped 19205 gene(s). New shape: (9687, 4079)\n",
      "Dropped 23853 gene(s). New shape: (1306127, 4079)\n"
     ]
    }
   ],
   "source": [
    "hrvatin_data = saly.drop_unused_genes(hrvatin_data, markers)\n",
    "chen_data = saly.drop_unused_genes(chen_data, markers)\n",
    "big_data = saly.drop_unused_genes(big_data, markers)\n",
    "\n",
    "saly.check_shape([hrvatin_data, chen_data, big_data])"
   ]
  },
  {
   "cell_type": "code",
   "execution_count": 10,
   "metadata": {
    "scrolled": true
   },
   "outputs": [],
   "source": [
    "big_data = saly.mark_as_unlabelled(big_data.copy())"
   ]
  },
  {
   "cell_type": "code",
   "execution_count": 11,
   "metadata": {},
   "outputs": [],
   "source": [
    "train_data, _, _ = saly.preprocess_data(big_data, splits=10,\n",
    "                                       train=1, test=0, validation=0)"
   ]
  },
  {
   "cell_type": "code",
   "execution_count": 12,
   "metadata": {},
   "outputs": [],
   "source": [
    "chen_data = S.normalize_data(chen_data.copy())\n",
    "hrvatin_data = S.normalize_data(hrvatin_data.copy())"
   ]
  },
  {
   "cell_type": "code",
   "execution_count": 64,
   "metadata": {},
   "outputs": [],
   "source": [
    "model, marker_model, encoder_model = saly.build_model(train_data, markers, supervised=False);"
   ]
  },
  {
   "cell_type": "code",
   "execution_count": 65,
   "metadata": {},
   "outputs": [
    {
     "name": "stdout",
     "output_type": "stream",
     "text": [
      "Correct predictions: 7294 out of 9687 (75.3%)\n",
      "\tNeuron: 99.7% (2308/2315) | Markers: 197\n",
      "\tOligodendrocyte: 97.66% (3458/3541) | Markers: 85\n",
      "\tOPC: 0.0% (0/1792) | Markers: 28\n",
      "\tAstrocyte: 80.66% (926/1148) | Markers: 61\n",
      "\tMicroglia: 64.5% (467/724) | Markers: 80\n",
      "\tMacrophage: 80.84% (135/167) | Markers: 130\n"
     ]
    }
   ],
   "source": [
    "chen_cell_activations = marker_model.predict(chen_data.X)\n",
    "saly.get_results(chen_data.obs['labels'], chen_cell_activations, markers, marker_aliases)"
   ]
  },
  {
   "cell_type": "code",
   "execution_count": 66,
   "metadata": {},
   "outputs": [
    {
     "name": "stdout",
     "output_type": "stream",
     "text": [
      "Correct predictions: 44062 out of 48266 (91.29%)\n",
      "\tNeuron: 97.7% (14873/15223) | Markers: 197\n",
      "\tOligodendrocyte: 93.56% (8074/8630) | Markers: 85\n",
      "\tMuscle cell: 0.0% (0/621) | Markers: 77\n",
      "\tAstrocyte: 96.33% (6781/7039) | Markers: 61\n",
      "\tEndothelial cell: 99.97% (3449/3450) | Markers: 178\n",
      "\tMacrophage: 98.51% (529/537) | Markers: 130\n",
      "\tMicroglia: 97.84% (9939/10158) | Markers: 80\n",
      "\tOPC: 4.11% (75/1826) | Markers: 28\n",
      "\tPericyte: 43.73% (342/782) | Markers: 64\n"
     ]
    }
   ],
   "source": [
    "hrvatin_cell_activations = marker_model.predict(hrvatin_data.X)\n",
    "saly.get_results(hrvatin_data.obs['labels'], hrvatin_cell_activations, markers, marker_aliases)"
   ]
  },
  {
   "cell_type": "code",
   "execution_count": 67,
   "metadata": {},
   "outputs": [
    {
     "name": "stdout",
     "output_type": "stream",
     "text": [
      "Train on 1306127 samples, validate on 9687 samples\n",
      "Epoch 1/6\n",
      "1306127/1306127 [==============================] - 85s 65us/step - loss: 2154.5818 - cell_activations_loss: 0.0000e+00 - output_loss: 2.1546 - cell_activations_marker_prediction_metric: 0.0000e+00 - val_loss: 2944.7494 - val_cell_activations_loss: 0.0000e+00 - val_output_loss: 2.9447 - val_cell_activations_marker_prediction_metric: 0.7607\n",
      "Epoch 2/6\n",
      "1306127/1306127 [==============================] - 81s 62us/step - loss: 2047.1038 - cell_activations_loss: 0.0000e+00 - output_loss: 2.0471 - cell_activations_marker_prediction_metric: 0.0000e+00 - val_loss: 2915.1838 - val_cell_activations_loss: 0.0000e+00 - val_output_loss: 2.9152 - val_cell_activations_marker_prediction_metric: 0.7088\n",
      "Epoch 3/6\n",
      "1306127/1306127 [==============================] - 80s 62us/step - loss: 2023.6533 - cell_activations_loss: 0.0000e+00 - output_loss: 2.0237 - cell_activations_marker_prediction_metric: 0.0000e+00 - val_loss: 2904.4831 - val_cell_activations_loss: 0.0000e+00 - val_output_loss: 2.9045 - val_cell_activations_marker_prediction_metric: 0.7063\n",
      "Epoch 4/6\n",
      "1306127/1306127 [==============================] - 83s 63us/step - loss: 2013.7505 - cell_activations_loss: 0.0000e+00 - output_loss: 2.0138 - cell_activations_marker_prediction_metric: 0.0000e+00 - val_loss: 2883.5327 - val_cell_activations_loss: 0.0000e+00 - val_output_loss: 2.8835 - val_cell_activations_marker_prediction_metric: 0.7378\n",
      "Epoch 5/6\n",
      "1306127/1306127 [==============================] - 83s 63us/step - loss: 2007.3546 - cell_activations_loss: 0.0000e+00 - output_loss: 2.0074 - cell_activations_marker_prediction_metric: 0.0000e+00 - val_loss: 2888.1123 - val_cell_activations_loss: 0.0000e+00 - val_output_loss: 2.8881 - val_cell_activations_marker_prediction_metric: 0.7841\n",
      "Epoch 6/6\n",
      "1306127/1306127 [==============================] - 84s 64us/step - loss: 2003.0095 - cell_activations_loss: 0.0000e+00 - output_loss: 2.0030 - cell_activations_marker_prediction_metric: 0.0000e+00 - val_loss: 2888.6439 - val_cell_activations_loss: 0.0000e+00 - val_output_loss: 2.8886 - val_cell_activations_marker_prediction_metric: 0.8243\n"
     ]
    }
   ],
   "source": [
    "history = saly.train_model(model, train_data, markers, marker_aliases,\n",
    "                           6, validation_data=chen_data, verbose=1)"
   ]
  },
  {
   "cell_type": "code",
   "execution_count": 68,
   "metadata": {},
   "outputs": [
    {
     "data": {
      "image/png": "[encoded data removed]",
      "text/plain": [
       "<Figure size 560x560 with 2 Axes>"
      ]
     },
     "metadata": {
      "needs_background": "light"
     },
     "output_type": "display_data"
    }
   ],
   "source": [
    "saly.plot_model_history(history, supervised=False, labelled_training=False)"
   ]
  },
  {
   "cell_type": "code",
   "execution_count": 69,
   "metadata": {},
   "outputs": [],
   "source": [
    "from scipy.sparse import lil_matrix\n",
    "from anndata import AnnData\n",
    "\n",
    "def get_baseline(data, markers):\n",
    "    by_type = S.sort_markers_by_type(markers)\n",
    "    matrix = lil_matrix((data.shape[0], len(by_type)))\n",
    "\n",
    "    for i, c_type in enumerate(by_type):\n",
    "        column_matrix = len(data[:, by_type[c_type]].X.shape) > 1\n",
    "\n",
    "        if column_matrix:\n",
    "            result = data[:, by_type[c_type]].X.sum(axis=1)\n",
    "            result = result / len(by_type[c_type])\n",
    "            matrix[:, i] = np.reshape(result, matrix[:, i].shape)\n",
    "        else:\n",
    "            matrix[:, i] = np.zeros(matrix[:, i].shape)\n",
    "\n",
    "    var = pd.DataFrame(index=[c_type for c_type in by_type])\n",
    "    return AnnData(X=matrix.tocsc(), obs=data.obs, var=var)"
   ]
  },
  {
   "cell_type": "code",
   "execution_count": 70,
   "metadata": {
    "scrolled": true
   },
   "outputs": [
    {
     "name": "stdout",
     "output_type": "stream",
     "text": [
      "Correct predictions: 6623 out of 9687 (68.37%)\n",
      "\tNeuron: 42.07% (974/2315) | Markers: 197\n",
      "\tOligodendrocyte: 77.15% (2732/3541) | Markers: 85\n",
      "\tOPC: 95.48% (1711/1792) | Markers: 28\n",
      "\tAstrocyte: 57.4% (659/1148) | Markers: 61\n",
      "\tMicroglia: 70.99% (514/724) | Markers: 80\n",
      "\tMacrophage: 19.76% (33/167) | Markers: 130\n"
     ]
    }
   ],
   "source": [
    "chen_baseline = get_baseline(chen_data, markers)\n",
    "saly.get_results(chen_data.obs['labels'], chen_baseline.X.toarray(), markers, marker_aliases)"
   ]
  },
  {
   "cell_type": "code",
   "execution_count": 71,
   "metadata": {
    "scrolled": true
   },
   "outputs": [
    {
     "name": "stdout",
     "output_type": "stream",
     "text": [
      "Correct predictions: 7985 out of 9687 (82.43%)\n",
      "\tNeuron: 99.65% (2307/2315) | Markers: 197\n",
      "\tOligodendrocyte: 95.96% (3398/3541) | Markers: 85\n",
      "\tOPC: 64.79% (1161/1792) | Markers: 28\n",
      "\tAstrocyte: 81.62% (937/1148) | Markers: 61\n",
      "\tMicroglia: 17.4% (126/724) | Markers: 80\n",
      "\tMacrophage: 33.53% (56/167) | Markers: 130\n"
     ]
    }
   ],
   "source": [
    "chen_cell_activations = marker_model.predict(chen_data.X)\n",
    "saly.get_results(chen_data.obs['labels'], chen_cell_activations, markers, marker_aliases)"
   ]
  },
  {
   "cell_type": "code",
   "execution_count": 72,
   "metadata": {},
   "outputs": [
    {
     "name": "stdout",
     "output_type": "stream",
     "text": [
      "Correct predictions: 25021 out of 48266 (51.84%)\n",
      "\tNeuron: 10.37% (1579/15223) | Markers: 197\n",
      "\tOligodendrocyte: 63.82% (5508/8630) | Markers: 85\n",
      "\tMuscle cell: 0.0% (0/621) | Markers: 77\n",
      "\tAstrocyte: 75.72% (5330/7039) | Markers: 61\n",
      "\tEndothelial cell: 50.61% (1746/3450) | Markers: 178\n",
      "\tMacrophage: 1.68% (9/537) | Markers: 130\n",
      "\tMicroglia: 89.09% (9050/10158) | Markers: 80\n",
      "\tOPC: 97.81% (1786/1826) | Markers: 28\n",
      "\tPericyte: 1.66% (13/782) | Markers: 64\n"
     ]
    }
   ],
   "source": [
    "hrvatin_baseline = get_baseline(hrvatin_data, markers)\n",
    "saly.get_results(hrvatin_data.obs['labels'], hrvatin_baseline.X.toarray(), markers, marker_aliases)"
   ]
  },
  {
   "cell_type": "code",
   "execution_count": 73,
   "metadata": {},
   "outputs": [
    {
     "name": "stdout",
     "output_type": "stream",
     "text": [
      "Correct predictions: 35767 out of 48266 (74.1%)\n",
      "\tNeuron: 99.96% (15217/15223) | Markers: 197\n",
      "\tOligodendrocyte: 89.34% (7710/8630) | Markers: 85\n",
      "\tMuscle cell: 0.0% (0/621) | Markers: 77\n",
      "\tAstrocyte: 96.7% (6807/7039) | Markers: 61\n",
      "\tEndothelial cell: 100.0% (3450/3450) | Markers: 178\n",
      "\tMacrophage: 29.61% (159/537) | Markers: 130\n",
      "\tMicroglia: 0.0% (0/10158) | Markers: 80\n",
      "\tOPC: 95.02% (1735/1826) | Markers: 28\n",
      "\tPericyte: 88.11% (689/782) | Markers: 64\n"
     ]
    }
   ],
   "source": [
    "hrvatin_cell_activations = marker_model.predict(hrvatin_data.X)\n",
    "saly.get_results(hrvatin_data.obs['labels'], hrvatin_cell_activations, markers, marker_aliases)"
   ]
  },
  {
   "cell_type": "code",
   "execution_count": null,
   "metadata": {},
   "outputs": [],
   "source": []
  }
 ],
 "metadata": {
  "kernelspec": {
   "display_name": "Python 3",
   "language": "python",
   "name": "python3"
  },
  "language_info": {
   "codemirror_mode": {
    "name": "ipython",
    "version": 3
   },
   "file_extension": ".py",
   "mimetype": "text/x-python",
   "name": "python",
   "nbconvert_exporter": "python",
   "pygments_lexer": "ipython3",
   "version": "3.7.4"
  }
 },
 "nbformat": 4,
 "nbformat_minor": 2
}
