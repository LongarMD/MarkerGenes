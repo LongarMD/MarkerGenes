{
 "cells": [
  {
   "cell_type": "markdown",
   "metadata": {},
   "source": [
    "In this notebook, we used two datasets of pancreatic cells. For gene markers, we used the Panglao Cell Type Marker database.\n",
    "\n",
    "We used the Baron (2016) dataset for training the neural network (NN) because it has more cells and classes, and we used the Xin (2016) dataset for testing purposes because all of its classes are present in the Baron dataset."
   ]
  },
  {
   "cell_type": "code",
   "execution_count": 1,
   "metadata": {},
   "outputs": [],
   "source": [
    "EPOCHS = 100\n",
    "INTERMEDIATE_DIM = 100\n",
    "BOTTLENECK = 25"
   ]
  },
  {
   "cell_type": "code",
   "execution_count": 2,
   "metadata": {},
   "outputs": [],
   "source": [
    "from utility import *\n",
    "\n",
    "from anndata import read_h5ad\n",
    "import pandas as pd\n",
    "import numpy as np\n",
    "from Orange.data import Table\n",
    "import matplotlib.pyplot as plt\n",
    "%matplotlib inline\n",
    "\n",
    "SPECIES = 'Human'\n",
    "DATASET_BARON_PATH = '/home/mlongar/Data/SingleCellGeneExpression/baron_2016h.h5ad'\n",
    "DATASET_XIN_PATH = '/home/mlongar/Data/SingleCellGeneExpression/xin_2016.h5ad'\n",
    "MARKER_PATH = '/home/mlongar/Data/SingleCellGeneExpression/panglao_gene_markers.tab.gz'"
   ]
  },
  {
   "cell_type": "markdown",
   "metadata": {},
   "source": [
    "# Load the data"
   ]
  },
  {
   "cell_type": "code",
   "execution_count": 3,
   "metadata": {},
   "outputs": [],
   "source": [
    "baron_dataset = read_h5ad(DATASET_BARON_PATH)\n",
    "baron_data = baron_dataset.to_df()\n",
    "baron_labels = baron_dataset.obs[\"labels\"]\n",
    "\n",
    "xin_dataset = read_h5ad(DATASET_XIN_PATH)\n",
    "xin_data = xin_dataset.to_df()\n",
    "xin_labels = xin_dataset.obs[\"labels\"]\n",
    "\n",
    "markers_db = Table(MARKER_PATH)"
   ]
  },
  {
   "cell_type": "markdown",
   "metadata": {},
   "source": [
    "### Baron"
   ]
  },
  {
   "cell_type": "code",
   "execution_count": 4,
   "metadata": {},
   "outputs": [
    {
     "data": {
      "text/html": [
       "<div>\n",
       "<style scoped>\n",
       "    .dataframe tbody tr th:only-of-type {\n",
       "        vertical-align: middle;\n",
       "    }\n",
       "\n",
       "    .dataframe tbody tr th {\n",
       "        vertical-align: top;\n",
       "    }\n",
       "\n",
       "    .dataframe thead th {\n",
       "        text-align: right;\n",
       "    }\n",
       "</style>\n",
       "<table border=\"1\" class=\"dataframe\">\n",
       "  <thead>\n",
       "    <tr style=\"text-align: right;\">\n",
       "      <th>index</th>\n",
       "      <th>A1BG</th>\n",
       "      <th>A1CF</th>\n",
       "      <th>A2M</th>\n",
       "      <th>A2ML1</th>\n",
       "      <th>A4GALT</th>\n",
       "      <th>A4GNT</th>\n",
       "      <th>AA06</th>\n",
       "      <th>AAAS</th>\n",
       "      <th>AACS</th>\n",
       "      <th>AACSP1</th>\n",
       "      <th>...</th>\n",
       "      <th>ZWILCH</th>\n",
       "      <th>ZWINT</th>\n",
       "      <th>ZXDA</th>\n",
       "      <th>ZXDB</th>\n",
       "      <th>ZXDC</th>\n",
       "      <th>ZYG11B</th>\n",
       "      <th>ZYX</th>\n",
       "      <th>ZZEF1</th>\n",
       "      <th>ZZZ3</th>\n",
       "      <th>PK</th>\n",
       "    </tr>\n",
       "    <tr>\n",
       "      <th>index</th>\n",
       "      <th></th>\n",
       "      <th></th>\n",
       "      <th></th>\n",
       "      <th></th>\n",
       "      <th></th>\n",
       "      <th></th>\n",
       "      <th></th>\n",
       "      <th></th>\n",
       "      <th></th>\n",
       "      <th></th>\n",
       "      <th></th>\n",
       "      <th></th>\n",
       "      <th></th>\n",
       "      <th></th>\n",
       "      <th></th>\n",
       "      <th></th>\n",
       "      <th></th>\n",
       "      <th></th>\n",
       "      <th></th>\n",
       "      <th></th>\n",
       "      <th></th>\n",
       "    </tr>\n",
       "  </thead>\n",
       "  <tbody>\n",
       "    <tr>\n",
       "      <th>human1_lib1.final_cell_0001</th>\n",
       "      <td>0.0</td>\n",
       "      <td>4.0</td>\n",
       "      <td>0.0</td>\n",
       "      <td>0.0</td>\n",
       "      <td>0.0</td>\n",
       "      <td>0.0</td>\n",
       "      <td>0.0</td>\n",
       "      <td>0.0</td>\n",
       "      <td>0.0</td>\n",
       "      <td>0.0</td>\n",
       "      <td>...</td>\n",
       "      <td>0.0</td>\n",
       "      <td>0.0</td>\n",
       "      <td>0.0</td>\n",
       "      <td>0.0</td>\n",
       "      <td>0.0</td>\n",
       "      <td>0.0</td>\n",
       "      <td>2.0</td>\n",
       "      <td>0.0</td>\n",
       "      <td>0.0</td>\n",
       "      <td>1.0</td>\n",
       "    </tr>\n",
       "    <tr>\n",
       "      <th>human1_lib1.final_cell_0002</th>\n",
       "      <td>0.0</td>\n",
       "      <td>0.0</td>\n",
       "      <td>0.0</td>\n",
       "      <td>0.0</td>\n",
       "      <td>0.0</td>\n",
       "      <td>0.0</td>\n",
       "      <td>0.0</td>\n",
       "      <td>0.0</td>\n",
       "      <td>2.0</td>\n",
       "      <td>0.0</td>\n",
       "      <td>...</td>\n",
       "      <td>0.0</td>\n",
       "      <td>0.0</td>\n",
       "      <td>0.0</td>\n",
       "      <td>0.0</td>\n",
       "      <td>0.0</td>\n",
       "      <td>1.0</td>\n",
       "      <td>4.0</td>\n",
       "      <td>0.0</td>\n",
       "      <td>1.0</td>\n",
       "      <td>0.0</td>\n",
       "    </tr>\n",
       "    <tr>\n",
       "      <th>human1_lib1.final_cell_0003</th>\n",
       "      <td>0.0</td>\n",
       "      <td>0.0</td>\n",
       "      <td>0.0</td>\n",
       "      <td>0.0</td>\n",
       "      <td>0.0</td>\n",
       "      <td>0.0</td>\n",
       "      <td>0.0</td>\n",
       "      <td>0.0</td>\n",
       "      <td>0.0</td>\n",
       "      <td>0.0</td>\n",
       "      <td>...</td>\n",
       "      <td>0.0</td>\n",
       "      <td>0.0</td>\n",
       "      <td>0.0</td>\n",
       "      <td>0.0</td>\n",
       "      <td>0.0</td>\n",
       "      <td>0.0</td>\n",
       "      <td>0.0</td>\n",
       "      <td>0.0</td>\n",
       "      <td>0.0</td>\n",
       "      <td>0.0</td>\n",
       "    </tr>\n",
       "    <tr>\n",
       "      <th>human1_lib1.final_cell_0004</th>\n",
       "      <td>0.0</td>\n",
       "      <td>0.0</td>\n",
       "      <td>0.0</td>\n",
       "      <td>0.0</td>\n",
       "      <td>0.0</td>\n",
       "      <td>0.0</td>\n",
       "      <td>0.0</td>\n",
       "      <td>1.0</td>\n",
       "      <td>0.0</td>\n",
       "      <td>0.0</td>\n",
       "      <td>...</td>\n",
       "      <td>1.0</td>\n",
       "      <td>0.0</td>\n",
       "      <td>0.0</td>\n",
       "      <td>0.0</td>\n",
       "      <td>0.0</td>\n",
       "      <td>1.0</td>\n",
       "      <td>3.0</td>\n",
       "      <td>1.0</td>\n",
       "      <td>0.0</td>\n",
       "      <td>0.0</td>\n",
       "    </tr>\n",
       "    <tr>\n",
       "      <th>human1_lib1.final_cell_0005</th>\n",
       "      <td>0.0</td>\n",
       "      <td>0.0</td>\n",
       "      <td>0.0</td>\n",
       "      <td>0.0</td>\n",
       "      <td>0.0</td>\n",
       "      <td>0.0</td>\n",
       "      <td>0.0</td>\n",
       "      <td>0.0</td>\n",
       "      <td>0.0</td>\n",
       "      <td>0.0</td>\n",
       "      <td>...</td>\n",
       "      <td>0.0</td>\n",
       "      <td>0.0</td>\n",
       "      <td>0.0</td>\n",
       "      <td>0.0</td>\n",
       "      <td>0.0</td>\n",
       "      <td>0.0</td>\n",
       "      <td>1.0</td>\n",
       "      <td>0.0</td>\n",
       "      <td>0.0</td>\n",
       "      <td>1.0</td>\n",
       "    </tr>\n",
       "  </tbody>\n",
       "</table>\n",
       "<p>5 rows × 20125 columns</p>\n",
       "</div>"
      ],
      "text/plain": [
       "index                        A1BG  A1CF  A2M  A2ML1  A4GALT  A4GNT  AA06  \\\n",
       "index                                                                      \n",
       "human1_lib1.final_cell_0001   0.0   4.0  0.0    0.0     0.0    0.0   0.0   \n",
       "human1_lib1.final_cell_0002   0.0   0.0  0.0    0.0     0.0    0.0   0.0   \n",
       "human1_lib1.final_cell_0003   0.0   0.0  0.0    0.0     0.0    0.0   0.0   \n",
       "human1_lib1.final_cell_0004   0.0   0.0  0.0    0.0     0.0    0.0   0.0   \n",
       "human1_lib1.final_cell_0005   0.0   0.0  0.0    0.0     0.0    0.0   0.0   \n",
       "\n",
       "index                        AAAS  AACS  AACSP1  ...  ZWILCH  ZWINT  ZXDA  \\\n",
       "index                                            ...                        \n",
       "human1_lib1.final_cell_0001   0.0   0.0     0.0  ...     0.0    0.0   0.0   \n",
       "human1_lib1.final_cell_0002   0.0   2.0     0.0  ...     0.0    0.0   0.0   \n",
       "human1_lib1.final_cell_0003   0.0   0.0     0.0  ...     0.0    0.0   0.0   \n",
       "human1_lib1.final_cell_0004   1.0   0.0     0.0  ...     1.0    0.0   0.0   \n",
       "human1_lib1.final_cell_0005   0.0   0.0     0.0  ...     0.0    0.0   0.0   \n",
       "\n",
       "index                        ZXDB  ZXDC  ZYG11B  ZYX  ZZEF1  ZZZ3   PK  \n",
       "index                                                                   \n",
       "human1_lib1.final_cell_0001   0.0   0.0     0.0  2.0    0.0   0.0  1.0  \n",
       "human1_lib1.final_cell_0002   0.0   0.0     1.0  4.0    0.0   1.0  0.0  \n",
       "human1_lib1.final_cell_0003   0.0   0.0     0.0  0.0    0.0   0.0  0.0  \n",
       "human1_lib1.final_cell_0004   0.0   0.0     1.0  3.0    1.0   0.0  0.0  \n",
       "human1_lib1.final_cell_0005   0.0   0.0     0.0  1.0    0.0   0.0  1.0  \n",
       "\n",
       "[5 rows x 20125 columns]"
      ]
     },
     "execution_count": 4,
     "metadata": {},
     "output_type": "execute_result"
    }
   ],
   "source": [
    "baron_data.head()"
   ]
  },
  {
   "cell_type": "code",
   "execution_count": 5,
   "metadata": {},
   "outputs": [
    {
     "name": "stdout",
     "output_type": "stream",
     "text": [
      "(8569, 20125)\n"
     ]
    },
    {
     "data": {
      "text/plain": [
       "[Acinar cells, Beta cells, Delta cells, PaSC, Ductal cells, Alpha cells, Other, PP cells, Endothelial cell]\n",
       "Categories (9, object): [Acinar cells, Beta cells, Delta cells, PaSC, ..., Alpha cells, Other, PP cells, Endothelial cell]"
      ]
     },
     "execution_count": 5,
     "metadata": {},
     "output_type": "execute_result"
    }
   ],
   "source": [
    "print(baron_data.shape)\n",
    "baron_labels.unique()"
   ]
  },
  {
   "cell_type": "markdown",
   "metadata": {},
   "source": [
    "Baron has 8569 cells and 20125 genes.\n",
    "\n",
    "The cells are classified into 9 classes: Acinar cells, Alpha cells, Beta cells, Delta cells, Ductal cells, Endothelial cells, ***Other***, PaSC (i.e. Pancreatic stellate cells) and PP cells (i.e. Gamma cells)."
   ]
  },
  {
   "cell_type": "markdown",
   "metadata": {},
   "source": [
    "### Xin"
   ]
  },
  {
   "cell_type": "code",
   "execution_count": 6,
   "metadata": {},
   "outputs": [
    {
     "data": {
      "text/html": [
       "<div>\n",
       "<style scoped>\n",
       "    .dataframe tbody tr th:only-of-type {\n",
       "        vertical-align: middle;\n",
       "    }\n",
       "\n",
       "    .dataframe tbody tr th {\n",
       "        vertical-align: top;\n",
       "    }\n",
       "\n",
       "    .dataframe thead th {\n",
       "        text-align: right;\n",
       "    }\n",
       "</style>\n",
       "<table border=\"1\" class=\"dataframe\">\n",
       "  <thead>\n",
       "    <tr style=\"text-align: right;\">\n",
       "      <th>index</th>\n",
       "      <th>A1BG</th>\n",
       "      <th>A2M</th>\n",
       "      <th>A2MP1</th>\n",
       "      <th>NAT1</th>\n",
       "      <th>NAT2</th>\n",
       "      <th>AACP</th>\n",
       "      <th>SERPINA3</th>\n",
       "      <th>AADAC</th>\n",
       "      <th>AAMP</th>\n",
       "      <th>AANAT</th>\n",
       "      <th>...</th>\n",
       "      <th>LOC101929766</th>\n",
       "      <th>LOC101929767</th>\n",
       "      <th>LOC101929768</th>\n",
       "      <th>LOC101929769</th>\n",
       "      <th>LOC101929770</th>\n",
       "      <th>LOC101929771</th>\n",
       "      <th>LOC101930100</th>\n",
       "      <th>LOC102723951</th>\n",
       "      <th>LOC102724004</th>\n",
       "      <th>LOC102724238</th>\n",
       "    </tr>\n",
       "    <tr>\n",
       "      <th>index</th>\n",
       "      <th></th>\n",
       "      <th></th>\n",
       "      <th></th>\n",
       "      <th></th>\n",
       "      <th></th>\n",
       "      <th></th>\n",
       "      <th></th>\n",
       "      <th></th>\n",
       "      <th></th>\n",
       "      <th></th>\n",
       "      <th></th>\n",
       "      <th></th>\n",
       "      <th></th>\n",
       "      <th></th>\n",
       "      <th></th>\n",
       "      <th></th>\n",
       "      <th></th>\n",
       "      <th></th>\n",
       "      <th></th>\n",
       "      <th></th>\n",
       "      <th></th>\n",
       "    </tr>\n",
       "  </thead>\n",
       "  <tbody>\n",
       "    <tr>\n",
       "      <th>Sample_1</th>\n",
       "      <td>47.339600</td>\n",
       "      <td>0.0</td>\n",
       "      <td>0.0</td>\n",
       "      <td>0.000000</td>\n",
       "      <td>0.0</td>\n",
       "      <td>0.0</td>\n",
       "      <td>0.0000</td>\n",
       "      <td>0.0</td>\n",
       "      <td>31.204700</td>\n",
       "      <td>0.0</td>\n",
       "      <td>...</td>\n",
       "      <td>0.0</td>\n",
       "      <td>5.1983</td>\n",
       "      <td>0.0</td>\n",
       "      <td>0.0</td>\n",
       "      <td>0.0</td>\n",
       "      <td>0.0</td>\n",
       "      <td>0.00</td>\n",
       "      <td>0.2423</td>\n",
       "      <td>0.2423</td>\n",
       "      <td>0.0000</td>\n",
       "    </tr>\n",
       "    <tr>\n",
       "      <th>Sample_2</th>\n",
       "      <td>24.045799</td>\n",
       "      <td>0.0</td>\n",
       "      <td>0.0</td>\n",
       "      <td>0.000000</td>\n",
       "      <td>0.0</td>\n",
       "      <td>0.0</td>\n",
       "      <td>14.0425</td>\n",
       "      <td>0.0</td>\n",
       "      <td>0.000000</td>\n",
       "      <td>0.0</td>\n",
       "      <td>...</td>\n",
       "      <td>0.0</td>\n",
       "      <td>0.1064</td>\n",
       "      <td>0.0</td>\n",
       "      <td>0.0</td>\n",
       "      <td>0.0</td>\n",
       "      <td>0.0</td>\n",
       "      <td>0.00</td>\n",
       "      <td>0.0000</td>\n",
       "      <td>0.0000</td>\n",
       "      <td>0.0000</td>\n",
       "    </tr>\n",
       "    <tr>\n",
       "      <th>Sample_3</th>\n",
       "      <td>2.274300</td>\n",
       "      <td>0.0</td>\n",
       "      <td>0.0</td>\n",
       "      <td>0.000000</td>\n",
       "      <td>0.0</td>\n",
       "      <td>0.0</td>\n",
       "      <td>0.8412</td>\n",
       "      <td>0.0</td>\n",
       "      <td>7.821400</td>\n",
       "      <td>0.0</td>\n",
       "      <td>...</td>\n",
       "      <td>0.0</td>\n",
       "      <td>0.3188</td>\n",
       "      <td>0.0</td>\n",
       "      <td>0.0</td>\n",
       "      <td>0.0</td>\n",
       "      <td>0.0</td>\n",
       "      <td>3.13</td>\n",
       "      <td>0.0000</td>\n",
       "      <td>0.0000</td>\n",
       "      <td>15.1863</td>\n",
       "    </tr>\n",
       "    <tr>\n",
       "      <th>Sample_4</th>\n",
       "      <td>0.000000</td>\n",
       "      <td>0.0</td>\n",
       "      <td>0.0</td>\n",
       "      <td>0.000000</td>\n",
       "      <td>0.0</td>\n",
       "      <td>0.0</td>\n",
       "      <td>0.0000</td>\n",
       "      <td>0.0</td>\n",
       "      <td>0.000000</td>\n",
       "      <td>0.0</td>\n",
       "      <td>...</td>\n",
       "      <td>0.0</td>\n",
       "      <td>0.0000</td>\n",
       "      <td>0.0</td>\n",
       "      <td>0.0</td>\n",
       "      <td>0.0</td>\n",
       "      <td>0.0</td>\n",
       "      <td>0.00</td>\n",
       "      <td>0.0000</td>\n",
       "      <td>0.0000</td>\n",
       "      <td>0.0000</td>\n",
       "    </tr>\n",
       "    <tr>\n",
       "      <th>Sample_5</th>\n",
       "      <td>0.000000</td>\n",
       "      <td>0.0</td>\n",
       "      <td>0.0</td>\n",
       "      <td>130.979599</td>\n",
       "      <td>0.0</td>\n",
       "      <td>0.0</td>\n",
       "      <td>0.0000</td>\n",
       "      <td>0.0</td>\n",
       "      <td>120.683197</td>\n",
       "      <td>0.0</td>\n",
       "      <td>...</td>\n",
       "      <td>0.0</td>\n",
       "      <td>0.0000</td>\n",
       "      <td>0.0</td>\n",
       "      <td>0.0</td>\n",
       "      <td>0.0</td>\n",
       "      <td>0.0</td>\n",
       "      <td>0.00</td>\n",
       "      <td>0.0000</td>\n",
       "      <td>0.0000</td>\n",
       "      <td>0.0000</td>\n",
       "    </tr>\n",
       "  </tbody>\n",
       "</table>\n",
       "<p>5 rows × 39851 columns</p>\n",
       "</div>"
      ],
      "text/plain": [
       "index          A1BG  A2M  A2MP1        NAT1  NAT2  AACP  SERPINA3  AADAC  \\\n",
       "index                                                                      \n",
       "Sample_1  47.339600  0.0    0.0    0.000000   0.0   0.0    0.0000    0.0   \n",
       "Sample_2  24.045799  0.0    0.0    0.000000   0.0   0.0   14.0425    0.0   \n",
       "Sample_3   2.274300  0.0    0.0    0.000000   0.0   0.0    0.8412    0.0   \n",
       "Sample_4   0.000000  0.0    0.0    0.000000   0.0   0.0    0.0000    0.0   \n",
       "Sample_5   0.000000  0.0    0.0  130.979599   0.0   0.0    0.0000    0.0   \n",
       "\n",
       "index           AAMP  AANAT  ...  LOC101929766  LOC101929767  LOC101929768  \\\n",
       "index                        ...                                             \n",
       "Sample_1   31.204700    0.0  ...           0.0        5.1983           0.0   \n",
       "Sample_2    0.000000    0.0  ...           0.0        0.1064           0.0   \n",
       "Sample_3    7.821400    0.0  ...           0.0        0.3188           0.0   \n",
       "Sample_4    0.000000    0.0  ...           0.0        0.0000           0.0   \n",
       "Sample_5  120.683197    0.0  ...           0.0        0.0000           0.0   \n",
       "\n",
       "index     LOC101929769  LOC101929770  LOC101929771  LOC101930100  \\\n",
       "index                                                              \n",
       "Sample_1           0.0           0.0           0.0          0.00   \n",
       "Sample_2           0.0           0.0           0.0          0.00   \n",
       "Sample_3           0.0           0.0           0.0          3.13   \n",
       "Sample_4           0.0           0.0           0.0          0.00   \n",
       "Sample_5           0.0           0.0           0.0          0.00   \n",
       "\n",
       "index     LOC102723951  LOC102724004  LOC102724238  \n",
       "index                                               \n",
       "Sample_1        0.2423        0.2423        0.0000  \n",
       "Sample_2        0.0000        0.0000        0.0000  \n",
       "Sample_3        0.0000        0.0000       15.1863  \n",
       "Sample_4        0.0000        0.0000        0.0000  \n",
       "Sample_5        0.0000        0.0000        0.0000  \n",
       "\n",
       "[5 rows x 39851 columns]"
      ]
     },
     "execution_count": 6,
     "metadata": {},
     "output_type": "execute_result"
    }
   ],
   "source": [
    "xin_data.head()"
   ]
  },
  {
   "cell_type": "code",
   "execution_count": 7,
   "metadata": {},
   "outputs": [
    {
     "name": "stdout",
     "output_type": "stream",
     "text": [
      "(1492, 39851)\n"
     ]
    },
    {
     "data": {
      "text/plain": [
       "[Beta cells, Alpha cells, Delta cells, PP cells]\n",
       "Categories (4, object): [Beta cells, Alpha cells, Delta cells, PP cells]"
      ]
     },
     "execution_count": 7,
     "metadata": {},
     "output_type": "execute_result"
    }
   ],
   "source": [
    "print(xin_data.shape)\n",
    "xin_labels.unique()"
   ]
  },
  {
   "cell_type": "markdown",
   "metadata": {},
   "source": [
    "Xin has 1492 cells and 39851 genes.\n",
    "\n",
    "The cells are classified into 4 classes: Alpha cells, Beta cells, Delta cells and PP cells (i.e. Gamma cells)."
   ]
  },
  {
   "cell_type": "markdown",
   "metadata": {},
   "source": [
    "# Drop rows"
   ]
  },
  {
   "cell_type": "markdown",
   "metadata": {},
   "source": [
    "We removed every cell classified as 'Other' from the Baron dataset."
   ]
  },
  {
   "cell_type": "code",
   "execution_count": 8,
   "metadata": {},
   "outputs": [],
   "source": [
    "to_drop = get_rows_to_drop(['Other'], baron_labels.to_list())"
   ]
  },
  {
   "cell_type": "code",
   "execution_count": 9,
   "metadata": {},
   "outputs": [],
   "source": [
    "baron_data = baron_data.drop(baron_data.index[to_drop], axis=0)\n",
    "baron_labels = baron_labels.drop(baron_labels.index[to_drop], axis=0)"
   ]
  },
  {
   "cell_type": "code",
   "execution_count": 10,
   "metadata": {},
   "outputs": [
    {
     "name": "stdout",
     "output_type": "stream",
     "text": [
      "Dropped 118 cells.\n",
      "(8451, 20125)\n"
     ]
    }
   ],
   "source": [
    "print(\"Dropped {0} cells.\".format(len(to_drop)))\n",
    "print(baron_data.shape)"
   ]
  },
  {
   "cell_type": "markdown",
   "metadata": {},
   "source": [
    "This removed 118 cells from Baron, leaving us with 8451 left."
   ]
  },
  {
   "cell_type": "markdown",
   "metadata": {},
   "source": [
    "# Load marker genes"
   ]
  },
  {
   "cell_type": "markdown",
   "metadata": {},
   "source": [
    "#### Load only the human marker genes"
   ]
  },
  {
   "cell_type": "code",
   "execution_count": 11,
   "metadata": {},
   "outputs": [],
   "source": [
    "markers = get_markers_by_species(SPECIES, markers_db)"
   ]
  },
  {
   "cell_type": "code",
   "execution_count": 12,
   "metadata": {},
   "outputs": [
    {
     "data": {
      "text/plain": [
       "array(['Human', 'CTRB1', 'Acinar cells', 'PanglaoDB',\n",
       "       'https://panglaodb.se/', '1504', 'chymotrypsinogen B1'],\n",
       "      dtype=object)"
      ]
     },
     "execution_count": 12,
     "metadata": {},
     "output_type": "execute_result"
    }
   ],
   "source": [
    "# Example marker gene\n",
    "markers[0]"
   ]
  },
  {
   "cell_type": "markdown",
   "metadata": {},
   "source": [
    "#### Get the marker genes found in the datasets"
   ]
  },
  {
   "cell_type": "code",
   "execution_count": 13,
   "metadata": {
    "scrolled": true
   },
   "outputs": [],
   "source": [
    "baron_used_markers = get_used_markers(baron_data, markers)\n",
    "xin_used_markers = get_used_markers(xin_data, markers)"
   ]
  },
  {
   "cell_type": "markdown",
   "metadata": {},
   "source": [
    "#### Only keep the markers found in both datasets"
   ]
  },
  {
   "cell_type": "markdown",
   "metadata": {},
   "source": [
    "We do this because we want to train the network only on the marker genes found in both datasets, and drop the rest."
   ]
  },
  {
   "cell_type": "code",
   "execution_count": 14,
   "metadata": {},
   "outputs": [],
   "source": [
    "mutual_markers = get_mutual_markers(baron_used_markers, xin_used_markers)"
   ]
  },
  {
   "cell_type": "code",
   "execution_count": 15,
   "metadata": {},
   "outputs": [
    {
     "name": "stdout",
     "output_type": "stream",
     "text": [
      "7618 7610\n",
      "7545\n"
     ]
    }
   ],
   "source": [
    "print(len(baron_used_markers), len(xin_used_markers))\n",
    "print(len(mutual_markers))"
   ]
  },
  {
   "cell_type": "markdown",
   "metadata": {},
   "source": [
    "Baron has 7618 markers, and Xin has 7610.\n",
    "\n",
    "We used only those found in both datasets (7545)."
   ]
  },
  {
   "cell_type": "markdown",
   "metadata": {},
   "source": [
    "*Note that in this context* ***Marker ≠ Marker*** *Gene because multiple cell types (i.e. markers) can have the same marker gene and so in this context, the number 7545 means 7545 connections in the partially-connected Marker Layer between the cell types and the genes.*"
   ]
  },
  {
   "cell_type": "markdown",
   "metadata": {},
   "source": [
    "#### Sort the markers by cell type"
   ]
  },
  {
   "cell_type": "code",
   "execution_count": 16,
   "metadata": {},
   "outputs": [],
   "source": [
    "markers_by_type = sort_markers_by_type(markers=mutual_markers)"
   ]
  },
  {
   "cell_type": "code",
   "execution_count": 17,
   "metadata": {},
   "outputs": [
    {
     "data": {
      "text/plain": [
       "['ABCG2',\n",
       " 'ALCAM',\n",
       " 'FOXF2',\n",
       " 'FOXL2',\n",
       " 'FOXQ1',\n",
       " 'GFAP',\n",
       " 'GPR37L1',\n",
       " 'LEF1',\n",
       " 'PPARD',\n",
       " 'SLC13A4',\n",
       " 'SLC19A1',\n",
       " 'SLC23A2',\n",
       " 'SLC38A3',\n",
       " 'TNFRSF19',\n",
       " 'TNFRSF21',\n",
       " 'ZIC3']"
      ]
     },
     "execution_count": 17,
     "metadata": {},
     "output_type": "execute_result"
    }
   ],
   "source": [
    "# Example entry\n",
    "markers_by_type['Endothelial cells (blood brain barrier)']"
   ]
  },
  {
   "cell_type": "markdown",
   "metadata": {},
   "source": [
    "#### Get a list of used marker genes"
   ]
  },
  {
   "cell_type": "code",
   "execution_count": 18,
   "metadata": {
    "scrolled": true
   },
   "outputs": [],
   "source": [
    "used_genes = get_used_genes(markers_by_type)"
   ]
  },
  {
   "cell_type": "markdown",
   "metadata": {},
   "source": [
    "#### Get a list of used cell types"
   ]
  },
  {
   "cell_type": "code",
   "execution_count": 19,
   "metadata": {},
   "outputs": [],
   "source": [
    "cell_types = get_cell_types(markers_by_type)"
   ]
  },
  {
   "cell_type": "markdown",
   "metadata": {},
   "source": [
    "### Make sure every class is in the marker layer"
   ]
  },
  {
   "cell_type": "markdown",
   "metadata": {},
   "source": [
    "Because some cell types are differently labelled in the marker database, we created a dictionary of aliases.\n",
    "\n",
    "We also make sure to print out any label that cannot be found in either the list of used cell types or in the dictionary of aliases."
   ]
  },
  {
   "cell_type": "code",
   "execution_count": 20,
   "metadata": {},
   "outputs": [],
   "source": [
    "marker_aliases = {'PaSC' : 'Pancreatic stellate cells',\n",
    "                'PP cells' : 'Gamma (PP) cells',\n",
    "                'Endothelial cell' : 'Endothelial cells'}\n",
    "\n",
    "check_for_unknown(baron_labels, cell_types, marker_aliases)\n",
    "check_for_unknown(xin_labels, cell_types, marker_aliases)"
   ]
  },
  {
   "cell_type": "markdown",
   "metadata": {},
   "source": [
    "# Drop unused genes"
   ]
  },
  {
   "cell_type": "markdown",
   "metadata": {},
   "source": [
    "We used only the genes found in both datasets and the marker gene database, and therefore, we will connect with the partially-connected marker layer."
   ]
  },
  {
   "cell_type": "code",
   "execution_count": 25,
   "metadata": {
    "scrolled": true
   },
   "outputs": [],
   "source": [
    "baron_unused_genes = [gene for gene in baron_data.columns if gene not in used_genes]\n",
    "xin_unused_genes = [gene for gene in xin_data.columns if gene not in used_genes]"
   ]
  },
  {
   "cell_type": "code",
   "execution_count": 27,
   "metadata": {},
   "outputs": [
    {
     "data": {
      "text/plain": [
       "True"
      ]
     },
     "execution_count": 27,
     "metadata": {},
     "output_type": "execute_result"
    }
   ],
   "source": [
    "# Make sure the new number of genes is the same\n",
    "baron_data.shape[1] - len(baron_unused_genes) == xin_data.shape[1] - len(xin_unused_genes)"
   ]
  },
  {
   "cell_type": "code",
   "execution_count": 28,
   "metadata": {},
   "outputs": [],
   "source": [
    "baron_data = baron_data.drop(baron_unused_genes, axis=1)\n",
    "xin_data = xin_data.drop(xin_unused_genes, axis=1)"
   ]
  },
  {
   "cell_type": "markdown",
   "metadata": {},
   "source": [
    "The number of genes left is 4173."
   ]
  },
  {
   "cell_type": "markdown",
   "metadata": {},
   "source": [
    "## Sort columns by name"
   ]
  },
  {
   "cell_type": "code",
   "execution_count": 30,
   "metadata": {},
   "outputs": [],
   "source": [
    "baron_data = baron_data.reindex(sorted(baron_data.columns), axis=1)\n",
    "xin_data = xin_data.reindex(sorted(xin_data.columns), axis=1)"
   ]
  },
  {
   "cell_type": "code",
   "execution_count": 33,
   "metadata": {},
   "outputs": [
    {
     "data": {
      "text/plain": [
       "array([ True,  True,  True, ...,  True,  True,  True])"
      ]
     },
     "execution_count": 33,
     "metadata": {},
     "output_type": "execute_result"
    }
   ],
   "source": [
    "# Make sure the genes are in the same order in both datasets\n",
    "baron_data.columns.values == xin_data.columns.values"
   ]
  },
  {
   "cell_type": "markdown",
   "metadata": {},
   "source": [
    "# Data transformation"
   ]
  },
  {
   "cell_type": "markdown",
   "metadata": {},
   "source": [
    "#### Shuffle the Baron data"
   ]
  },
  {
   "cell_type": "code",
   "execution_count": 35,
   "metadata": {},
   "outputs": [],
   "source": [
    "idx = np.random.permutation(baron_data.index)\n",
    "data_x = baron_data.reindex(idx)\n",
    "data_y = baron_labels.reindex(idx)"
   ]
  },
  {
   "cell_type": "markdown",
   "metadata": {},
   "source": [
    "#### Log10 transformation"
   ]
  },
  {
   "cell_type": "code",
   "execution_count": 36,
   "metadata": {},
   "outputs": [],
   "source": [
    "data_x = np.log10(data_x + 1)\n",
    "xin_data = np.log10(xin_data + 1)"
   ]
  },
  {
   "cell_type": "markdown",
   "metadata": {},
   "source": [
    "#### Split the data"
   ]
  },
  {
   "cell_type": "code",
   "execution_count": 37,
   "metadata": {},
   "outputs": [],
   "source": [
    "seventy = int(data_x.shape[0] * 0.7)\n",
    "fifteen = int(data_x.shape[0] * 0.15)"
   ]
  },
  {
   "cell_type": "code",
   "execution_count": 38,
   "metadata": {},
   "outputs": [],
   "source": [
    "train_x = data_x[:seventy]\n",
    "train_y = data_y[:seventy]\n",
    "\n",
    "test_x = data_x[seventy:seventy+fifteen]\n",
    "test_y = data_y[seventy:seventy+fifteen]\n",
    "\n",
    "validation_x = data_x[seventy+fifteen:]\n",
    "validation_y = data_y[seventy+fifteen:]"
   ]
  },
  {
   "cell_type": "markdown",
   "metadata": {},
   "source": [
    "# Building the model"
   ]
  },
  {
   "cell_type": "markdown",
   "metadata": {},
   "source": [
    "Tukaj sem definiral delnopovezan sloj markerjev.\n",
    "\n",
    "Sloj ima vozlišče za vsak celčni tip, katerega geni so prisotni v obeh bazah. V tem primeru je v sloju markerjev 179 vozlišč, ki predstavlja 179 celičnih tipov. Vsako vozlišče (torej celični tip) je na vhodu povezano samo z geni, ki so njegovi markerji."
   ]
  },
  {
   "cell_type": "markdown",
   "metadata": {},
   "source": [
    "Do delnopovezanega sloja sem prišel tako, da sem vzel polnopovezan sloj in mu dodal masko (matrika enk in ničel), ki jo pomnožim z matriko uteži."
   ]
  },
  {
   "cell_type": "markdown",
   "metadata": {},
   "source": [
    "Mrežo sem treniral 100 epoh."
   ]
  },
  {
   "cell_type": "markdown",
   "metadata": {},
   "source": [
    "### Arhitektura\n",
    "|Layer|Nodes|\n",
    "|-----|------|\n",
    "|Input|4173 (genes)|\n",
    "|Markers|179 (cell types)|\n",
    "|Dense layer|100|\n",
    "|**Bottleneck**|**25**|\n",
    "|Dense layer|100|\n",
    "|*Dropout*|*10%*|\n",
    "|Output|4173 (genes)|"
   ]
  },
  {
   "cell_type": "code",
   "execution_count": null,
   "metadata": {},
   "outputs": [],
   "source": [
    "from keras import backend as K\n",
    "from keras.layers import Layer\n",
    "from keras import activations, initializers, regularizers, constraints\n",
    "from keras.engine.base_layer import InputSpec\n",
    "from tensorflow import convert_to_tensor\n",
    "import tensorflow as tf\n",
    "\n",
    "class Markers(Layer):\n",
    "\n",
    "    def __init__(self, units, weight_mask,\n",
    "                 activation=None,\n",
    "                 use_bias=True,\n",
    "                 kernel_initializer='glorot_uniform',\n",
    "                 bias_initializer='zeros',\n",
    "                 kernel_regularizer=None,\n",
    "                 bias_regularizer=None,\n",
    "                 activity_regularizer=None,\n",
    "                 kernel_constraint=None,\n",
    "                 bias_constraint=None,\n",
    "                 **kwargs):\n",
    "        if 'input_shape' not in kwargs and 'input_dim' in kwargs:\n",
    "            kwargs['input_shape'] = (kwargs.pop('input_dim'),)\n",
    "        super(Markers, self).__init__(**kwargs)\n",
    "        self.units = units\n",
    "        self.activation = activations.get(activation)\n",
    "        self.use_bias = use_bias\n",
    "        self.kernel_initializer = initializers.get(kernel_initializer)\n",
    "        self.bias_initializer = initializers.get(bias_initializer)\n",
    "        self.kernel_regularizer = regularizers.get(kernel_regularizer)\n",
    "        self.bias_regularizer = regularizers.get(bias_regularizer)\n",
    "        self.activity_regularizer = regularizers.get(activity_regularizer)\n",
    "        self.kernel_constraint = constraints.get(kernel_constraint)\n",
    "        self.bias_constraint = constraints.get(bias_constraint)\n",
    "        self.input_spec = InputSpec(min_ndim=2)\n",
    "        self.supports_masking = True\n",
    "        \n",
    "        weight_mask = convert_to_tensor(np.transpose(weight_mask), dtype=tf.float32)\n",
    "        self.weight_mask = weight_mask\n",
    "\n",
    "    def build(self, input_shape):\n",
    "        assert len(input_shape) >= 2\n",
    "        input_dim = input_shape[-1]\n",
    "\n",
    "        self.kernel = self.add_weight(shape=(input_dim, self.units),\n",
    "                                      initializer=self.kernel_initializer,\n",
    "                                      name='kernel',\n",
    "                                      regularizer=self.kernel_regularizer,\n",
    "                                      constraint=self.kernel_constraint)\n",
    "        if self.use_bias:\n",
    "            self.bias = self.add_weight(shape=(self.units,),\n",
    "                                        initializer=self.bias_initializer,\n",
    "                                        name='bias',\n",
    "                                        regularizer=self.bias_regularizer,\n",
    "                                        constraint=self.bias_constraint)\n",
    "        else:\n",
    "            self.bias = None\n",
    "        self.input_spec = InputSpec(min_ndim=2, axes={-1: input_dim})\n",
    "        self.built = True\n",
    "\n",
    "    def call(self, inputs):\n",
    "        conns = tf.multiply(self.kernel, self.weight_mask)\n",
    "        output = K.dot(inputs, conns)\n",
    "        if self.use_bias:\n",
    "            output = K.bias_add(output, self.bias, data_format='channels_last')\n",
    "        if self.activation is not None:\n",
    "            output = self.activation(output)\n",
    "        return output\n",
    "\n",
    "    def compute_output_shape(self, input_shape):\n",
    "        assert input_shape and len(input_shape) >= 2\n",
    "        assert input_shape[-1]\n",
    "        output_shape = list(input_shape)\n",
    "        output_shape[-1] = self.units\n",
    "        return tuple(output_shape)\n",
    "\n",
    "    def get_config(self):\n",
    "        config = {\n",
    "            'units': self.units,\n",
    "            'activation': activations.serialize(self.activation),\n",
    "            'use_bias': self.use_bias,\n",
    "            'kernel_initializer': initializers.serialize(self.kernel_initializer),\n",
    "            'bias_initializer': initializers.serialize(self.bias_initializer),\n",
    "            'kernel_regularizer': regularizers.serialize(self.kernel_regularizer),\n",
    "            'bias_regularizer': regularizers.serialize(self.bias_regularizer),\n",
    "            'activity_regularizer':\n",
    "                regularizers.serialize(self.activity_regularizer),\n",
    "            'kernel_constraint': constraints.serialize(self.kernel_constraint),\n",
    "            'bias_constraint': constraints.serialize(self.bias_constraint)\n",
    "        }\n",
    "        base_config = super(Markers, self).get_config()\n",
    "        return dict(list(base_config.items()) + list(config.items()))\n"
   ]
  },
  {
   "cell_type": "code",
   "execution_count": null,
   "metadata": {},
   "outputs": [],
   "source": [
    "def get_weight_mask(types, n_dim, num_types, data=data):\n",
    "    mask = np.zeros(shape=(num_types, n_dim))\n",
    "    for i, cell_type in enumerate(types):\n",
    "        for gene in types[cell_type]:\n",
    "            gene_index = data.columns.get_loc(gene)\n",
    "            mask[i][gene_index] = 1.0\n",
    "    return mask"
   ]
  },
  {
   "cell_type": "code",
   "execution_count": null,
   "metadata": {},
   "outputs": [],
   "source": [
    "from keras.layers import Input, Dense, Add, Dropout\n",
    "from keras.models import Model\n",
    "\n",
    "def build_model(input_dim, marker_dim, bottleneck_dim, types=cell_types):\n",
    "    weight_mask = get_weight_mask(types=types, num_types=num_types, n_dim=input_dim)\n",
    "    \n",
    "    input_layer = Input(shape=(input_dim,))\n",
    "    marker_layer = Markers(marker_dim, weight_mask=weight_mask, activation='relu')(input_layer)\n",
    "    \n",
    "    dense_in_1 = Dense(100, activation='relu')(marker_layer)\n",
    "    bottleneck_layer = Dense(bottleneck_dim, activation='relu', name='Bottleneck')(dense_in_1)\n",
    "    dense_out_1 = Dense(100, activation='relu')(bottleneck_layer)\n",
    "    dropout = Dropout(0.1)(dense_out_1)\n",
    "    \n",
    "    output_layer = Dense(input_dim, activation='relu', name='Output')(dropout)\n",
    "    \n",
    "    model = Model(input_layer, output_layer)\n",
    "    model.compile(loss='mse', optimizer='adam')\n",
    "    \n",
    "    marker_model = Model(input_layer, marker_layer)\n",
    "    marker_model.compile(loss='mse', optimizer='adam')\n",
    "    \n",
    "    encoder_model = Model(input_layer, bottleneck_layer)\n",
    "    encoder_model.compile(loss='mse', optimizer='adam')\n",
    "    \n",
    "    return model, marker_model, encoder_model\n",
    "\n",
    "def train_model(model, data, validation_data, test_data, epochs=30, batch_size=256, verbose=1, callbacks=[]):\n",
    "    history = model.fit(data, data,\n",
    "               epochs=epochs, batch_size=batch_size,\n",
    "               validation_data=(validation_data, validation_data),\n",
    "               callbacks=callbacks,\n",
    "               verbose=verbose)\n",
    "    loss = model.evaluate(test_data, test_data)\n",
    "    return (history, loss)\n",
    "\n",
    "def draw_history(history):\n",
    "    loss = history.history['loss']\n",
    "    val_loss = history.history['val_loss']\n",
    "\n",
    "    epochs = range(1, len(loss) + 1)\n",
    "\n",
    "    plt.plot(epochs, loss, 'bo', label='Training loss')\n",
    "    plt.plot(epochs, val_loss, 'b', label='Validation loss', c='orange')\n",
    "    plt.title('Training and validation loss')\n",
    "    plt.xlabel('Epochs')\n",
    "    plt.ylabel('Loss')\n",
    "    plt.legend()\n",
    "\n",
    "    plt.show()"
   ]
  },
  {
   "cell_type": "markdown",
   "metadata": {},
   "source": [
    "#### Create the model"
   ]
  },
  {
   "cell_type": "code",
   "execution_count": null,
   "metadata": {},
   "outputs": [],
   "source": [
    "n_genes = train_x.shape[1]\n",
    "num_types = len(cell_types)\n",
    "\n",
    "model, marker_model, encoder_model = build_model(input_dim=n_genes,\n",
    "                                                 marker_dim=num_types,\n",
    "                                                 bottleneck_dim=BOTTLENECK,\n",
    "                                                 types=cell_types)"
   ]
  },
  {
   "cell_type": "code",
   "execution_count": null,
   "metadata": {
    "scrolled": false
   },
   "outputs": [],
   "source": [
    "model.summary()"
   ]
  },
  {
   "cell_type": "markdown",
   "metadata": {},
   "source": [
    "# Train the model"
   ]
  },
  {
   "cell_type": "code",
   "execution_count": null,
   "metadata": {
    "scrolled": false
   },
   "outputs": [],
   "source": [
    "history, loss = train_model(model, train_x, validation_x, test_x, epochs=EPOCHS, verbose=0, callbacks=[])#tensorboard\n",
    "draw_history(history)"
   ]
  },
  {
   "cell_type": "code",
   "execution_count": null,
   "metadata": {
    "scrolled": true
   },
   "outputs": [],
   "source": [
    "print(\"Test loss: \", loss)"
   ]
  },
  {
   "cell_type": "markdown",
   "metadata": {},
   "source": [
    "#### Save the model"
   ]
  },
  {
   "cell_type": "code",
   "execution_count": null,
   "metadata": {},
   "outputs": [],
   "source": [
    "model.save('markersonly_comparison.h5')\n",
    "marker_model.save('markersonly_comparison_marker.h5')\n",
    "encoder_model.save('markersonly_comparison_encoder.h5')\n",
    "\n",
    "model.save_weights('markersonly_comparison_weights.h5')\n",
    "marker_model.save_weights('markersonly_comparison_marker_weights.h5')\n",
    "encoder_model.save_weights('markersonly_comparison_encoder_weights.h5')"
   ]
  },
  {
   "cell_type": "markdown",
   "metadata": {},
   "source": [
    "# Data analysis"
   ]
  },
  {
   "cell_type": "code",
   "execution_count": null,
   "metadata": {},
   "outputs": [],
   "source": [
    "def get_results(cell_types, cell_activations, graph_labels):\n",
    "    types_list = list(cell_types.items())\n",
    "    top3s = []\n",
    "    top3s_act = []\n",
    "    for cell in cell_activations:\n",
    "        top3 = cell.argsort()[-3:][::-1]\n",
    "        top3types = [types_list[i][0] for i in top3]\n",
    "        top3s.append(top3types)\n",
    "        \n",
    "        act = np.zeros((len(cell_activations[0]),))\n",
    "        for i in top3:\n",
    "            act[i] = cell[i]\n",
    "        top3s_act.append(act)\n",
    "\n",
    "    n = 0\n",
    "    correct = 0\n",
    "    for i in range(len(top3s)):\n",
    "        prediction = top3s[i][0]\n",
    "        label = graph_labels.iloc[i]\n",
    "\n",
    "        if str(prediction) == 'nan' or str(label) == 'nan':\n",
    "            continue\n",
    "\n",
    "        if prediction == label:\n",
    "            correct += 1\n",
    "\n",
    "        elif label in marker_names.keys():\n",
    "            if marker_names[label] == prediction:\n",
    "                correct += 1\n",
    "        n += 1\n",
    "\n",
    "    print(\"Correct predictions: {c} out of {n} ({p}%)\".format(c=correct, n=n, p=round(100 * (correct/n), 2)))\n",
    "    print(\"Dropped {d} cells\".format(d=len(cell_activations) - n))\n",
    "    return top3s_act"
   ]
  },
  {
   "cell_type": "code",
   "execution_count": null,
   "metadata": {},
   "outputs": [],
   "source": [
    "cell_activations = marker_model.predict(test_x)\n",
    "bottleneck_activations = encoder_model.predict(test_x)\n",
    "graph_labels = test_y"
   ]
  },
  {
   "cell_type": "markdown",
   "metadata": {},
   "source": [
    "**Mreža pravilno klasificira 82% testnih podatkov (iz baze na kateri se je učila)**"
   ]
  },
  {
   "cell_type": "code",
   "execution_count": null,
   "metadata": {
    "scrolled": false
   },
   "outputs": [],
   "source": [
    "top3 = get_results(cell_types, cell_activations, graph_labels)"
   ]
  },
  {
   "cell_type": "markdown",
   "metadata": {},
   "source": [
    "Spodnji graf prikazuje aktivacije tipov celic. Razvidno je, da izstopa samo en celični tip, ostali tipi pa izrecno manj."
   ]
  },
  {
   "cell_type": "code",
   "execution_count": null,
   "metadata": {
    "scrolled": true
   },
   "outputs": [],
   "source": [
    "import seaborn as sns\n",
    "sns.distplot(cell_activations[0])"
   ]
  },
  {
   "cell_type": "markdown",
   "metadata": {},
   "source": [
    "### New data"
   ]
  },
  {
   "cell_type": "code",
   "execution_count": null,
   "metadata": {},
   "outputs": [],
   "source": [
    "new_cell_activations = marker_model.predict(new_data_x)\n",
    "new_bottleneck_activations = encoder_model.predict(new_data_x)\n",
    "new_graph_labels = new_labels"
   ]
  },
  {
   "cell_type": "markdown",
   "metadata": {},
   "source": [
    "**Mreža pravilno klasificira 86% čisto novih podatkov iz druge baze**"
   ]
  },
  {
   "cell_type": "code",
   "execution_count": null,
   "metadata": {},
   "outputs": [],
   "source": [
    "new_top3 = get_results(cell_types, new_cell_activations, new_graph_labels)"
   ]
  },
  {
   "cell_type": "markdown",
   "metadata": {},
   "source": [
    "## Graphs"
   ]
  },
  {
   "cell_type": "code",
   "execution_count": null,
   "metadata": {},
   "outputs": [],
   "source": [
    "import random\n",
    "\n",
    "def get_random_color(pastel_factor = 0.5):\n",
    "    pastel_factor = random.uniform(0, 1.0)\n",
    "    return [(x+pastel_factor)/(1.0+pastel_factor) for x in [random.uniform(0,1.0) for i in [1,2,3]]]\n",
    "\n",
    "colours = {}\n",
    "for label in graph_labels.unique():\n",
    "    colour = (get_random_color())\n",
    "    colours.update({label:colour})\n",
    "    \n",
    "fig = plt.figure()\n",
    "ax = fig.add_subplot(111)\n",
    "\n",
    "x = list(range(0, len(colours.values()) * 2, 2))\n",
    "y = [0]*len(x)\n",
    "c = list(colours.values())\n",
    "\n",
    "ax.scatter(x,y,s=400,c=c)\n",
    "ax.set_title('Plot with Different Marker Color, matplotlib and plotly')\n",
    "\n",
    "plt.show()"
   ]
  },
  {
   "cell_type": "code",
   "execution_count": null,
   "metadata": {},
   "outputs": [],
   "source": [
    "import pickle\n",
    "\n",
    "pickle_in = open(\"Data/Marker_Colours.pickle\",\"rb\")\n",
    "colours = pickle.load(pickle_in)"
   ]
  },
  {
   "cell_type": "code",
   "execution_count": null,
   "metadata": {},
   "outputs": [],
   "source": [
    "pickle_out = open(\"Data/Marker_Colours.pickle\",\"wb\")\n",
    "pickle.dump(colours, pickle_out)\n",
    "pickle_out.close()"
   ]
  },
  {
   "cell_type": "code",
   "execution_count": null,
   "metadata": {},
   "outputs": [],
   "source": [
    "from sklearn.manifold import TSNE\n",
    "from sklearn.decomposition import PCA\n",
    "from collections import OrderedDict\n",
    "import operator\n",
    "\n",
    "tnse = TSNE()\n",
    "pca = PCA()\n",
    "    \n",
    "def draw_graph(x, y, model, colours, graph_name=''):\n",
    "    tsne_out = model.fit_transform(x)\n",
    "    \n",
    "    plt.clf()\n",
    "    plt.figure(figsize=(8, 8), dpi=80, facecolor='w', edgecolor='k')\n",
    "\n",
    "    for i, entry in enumerate(tsne_out):\n",
    "        plt.scatter(entry[0], entry[1], color=colours[y.iloc[i]], label=y.iloc[i])\n",
    "    \n",
    "    handles, plt_labels = plt.gca().get_legend_handles_labels()\n",
    "    by_label = OrderedDict(zip(plt_labels, handles))\n",
    "    by_label = OrderedDict(sorted(by_label.items()))\n",
    "\n",
    "    plt.legend(by_label.values(), by_label.keys(), bbox_to_anchor=(0., 1, 0, .1))\n",
    "\n",
    "    plt.title(graph_name)\n",
    "    plt.axis('off')\n",
    "    plt.show()"
   ]
  },
  {
   "cell_type": "code",
   "execution_count": null,
   "metadata": {
    "scrolled": false
   },
   "outputs": [],
   "source": [
    "draw_graph(cell_activations, graph_labels, tnse, colours, graph_name='TSNE of marker activations')"
   ]
  },
  {
   "cell_type": "markdown",
   "metadata": {},
   "source": [
    "# New Data"
   ]
  },
  {
   "cell_type": "code",
   "execution_count": null,
   "metadata": {
    "scrolled": false
   },
   "outputs": [],
   "source": [
    "draw_graph(new_cell_activations, new_graph_labels, tnse, colours, graph_name='TSNE of marker activations')"
   ]
  },
  {
   "cell_type": "markdown",
   "metadata": {},
   "source": [
    "# Combined data"
   ]
  },
  {
   "cell_type": "code",
   "execution_count": null,
   "metadata": {
    "scrolled": false
   },
   "outputs": [],
   "source": [
    "def draw_comparison(x, y, new_alpha = 1.0, preloaded_tsne=None, title=''):\n",
    "    if preloaded_tsne is None:\n",
    "        tsne_out = tnse.fit_transform(x)\n",
    "    else:\n",
    "        tsne_out = preloaded_tsne\n",
    "\n",
    "    plt.clf()\n",
    "    plt.figure(figsize=(8, 8), dpi=80, facecolor='w', edgecolor='k')\n",
    "\n",
    "    for i, entry in enumerate(tsne_out):\n",
    "        colour = colours[y.iloc[i]]\n",
    "        alpha = 1.0\n",
    "        marker = '.'\n",
    "        if(i <= test_x.shape[0]):\n",
    "            alpha = new_alpha\n",
    "            marker = 'x'\n",
    "        plt.scatter(entry[0], entry[1], color=colour, label=y.iloc[i], alpha=alpha, marker=marker)\n",
    "\n",
    "    handles, plt_labels = plt.gca().get_legend_handles_labels()\n",
    "    by_label = OrderedDict(zip(plt_labels, handles))\n",
    "    by_label = OrderedDict(sorted(by_label.items()))\n",
    "\n",
    "    plt.legend(by_label.values(), by_label.keys(), bbox_to_anchor=(0., 1, 0, .1))\n",
    "\n",
    "    plt.title(title)\n",
    "    plt.axis('off')\n",
    "    plt.show()\n",
    "    \n",
    "    #return tsne_out"
   ]
  },
  {
   "cell_type": "markdown",
   "metadata": {},
   "source": [
    "**Na spodnjem grafu lahko opaziš, da se batch effect še vedno opazi, tudi na aktivacijah markerjev**"
   ]
  },
  {
   "cell_type": "code",
   "execution_count": null,
   "metadata": {},
   "outputs": [],
   "source": [
    "x = test_x.append(new_data_x)\n",
    "y = test_y.append(new_labels)\n",
    "compare_cell_activations = encoder_model.predict(x)\n",
    "tsne_out = draw_comparison(compare_cell_activations, y, new_alpha=0.2, title='Combined TSNE of marker activations')"
   ]
  },
  {
   "cell_type": "code",
   "execution_count": null,
   "metadata": {},
   "outputs": [],
   "source": [
    "draw_comparison(np.vstack((top3, new_top3)), y, new_alpha=0.2, title='Combined TSNE of top 3 activations')"
   ]
  },
  {
   "cell_type": "markdown",
   "metadata": {},
   "source": [
    "# Reconstruction"
   ]
  },
  {
   "cell_type": "markdown",
   "metadata": {},
   "source": [
    "**Tukaj sem vzel nove podatke in jih vrgel v avtoenkoder.**\n",
    "\n",
    "**Nato sem vzel izhodne podatke avtoenkoderja ter vzel njihove aktivacije sloja markerjev.**\n",
    "\n",
    "**Tako sem dobil nove rezultate, ki so bili konsistentno boljši. V tem primeru za 11%.**"
   ]
  },
  {
   "cell_type": "markdown",
   "metadata": {},
   "source": [
    "Moja hipoteza je, da se tako delno znebimo batch effecta in zato dobimo boljše rezultate."
   ]
  },
  {
   "cell_type": "code",
   "execution_count": null,
   "metadata": {},
   "outputs": [],
   "source": [
    "reconstruction = model.predict(new_data_x)\n",
    "reconstruction = pd.DataFrame(reconstruction, columns=new_data_x.columns)\n",
    "reconstructed_cell_activations = marker_model.predict(reconstruction)"
   ]
  },
  {
   "cell_type": "code",
   "execution_count": null,
   "metadata": {},
   "outputs": [],
   "source": [
    "draw_graph(reconstructed_cell_activations, new_graph_labels, tnse, colours,\n",
    "           graph_name='TSNE of reconstructed marker activations')"
   ]
  },
  {
   "cell_type": "code",
   "execution_count": null,
   "metadata": {},
   "outputs": [],
   "source": [
    "_ = get_results(cell_types, reconstructed_cell_activations, new_graph_labels)"
   ]
  },
  {
   "cell_type": "markdown",
   "metadata": {},
   "source": [
    "Tudi pri teh podatkih batch effect še vedno ostane."
   ]
  },
  {
   "cell_type": "code",
   "execution_count": null,
   "metadata": {},
   "outputs": [],
   "source": [
    "x = test_x.append(reconstruction)\n",
    "y = test_y.append(new_labels)\n",
    "compare_cell_activations = encoder_model.predict(x)\n",
    "tsne_out = draw_comparison(compare_cell_activations, y, new_alpha=0.2, title='Combined TSNE of marker activations')"
   ]
  },
  {
   "cell_type": "markdown",
   "metadata": {},
   "source": [
    "# Save the data"
   ]
  },
  {
   "cell_type": "code",
   "execution_count": null,
   "metadata": {},
   "outputs": [],
   "source": [
    "in_data = pd.DataFrame(new_data_x)\n",
    "out_data = pd.DataFrame(data=model.predict(new_data_x))\n",
    "in_data.to_pickle('Data/in_data_markersonly.pickle')\n",
    "out_data.to_pickle('Data/out_data_markersonly.pickle')"
   ]
  },
  {
   "cell_type": "markdown",
   "metadata": {},
   "source": [
    "# HTML"
   ]
  },
  {
   "cell_type": "code",
   "execution_count": null,
   "metadata": {},
   "outputs": [],
   "source": [
    "%%html\n",
    "<style>\n",
    "table {float:left}\n",
    "</style>"
   ]
  }
 ],
 "metadata": {
  "kernelspec": {
   "display_name": "Python 3",
   "language": "python",
   "name": "python3"
  },
  "language_info": {
   "codemirror_mode": {
    "name": "ipython",
    "version": 3
   },
   "file_extension": ".py",
   "mimetype": "text/x-python",
   "name": "python",
   "nbconvert_exporter": "python",
   "pygments_lexer": "ipython3",
   "version": "3.7.3"
  }
 },
 "nbformat": 4,
 "nbformat_minor": 2
}
