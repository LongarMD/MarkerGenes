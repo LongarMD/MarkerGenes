{
 "cells": [
  {
   "cell_type": "markdown",
   "metadata": {},
   "source": [
    "Tukaj sem uporabil 2 dataseta celic mišjih možganov. Za markerje sem uporabil bazo Panglao Gene Markers.\n",
    "\n",
    "Dataset Hrvatin (2018) sem uporabil za treniranje mreže, ker ima več celic in razredov."
   ]
  },
  {
   "cell_type": "code",
   "execution_count": 1,
   "metadata": {},
   "outputs": [],
   "source": [
    "from anndata import read_h5ad\n",
    "import pandas as pd\n",
    "import numpy as np\n",
    "import matplotlib.pyplot as plt\n",
    "from Orange.data import Table\n",
    "from tensorflow.python.keras.callbacks import TensorBoard\n",
    "from time import time\n",
    "%matplotlib inline\n",
    "\n",
    "SPECIES = 'Mouse'\n",
    "DATASET_1_PATH = '/home/mlongar/Data/SingleCellGeneExpression/hrvatin_2018.h5ad'\n",
    "DATASET_2_PATH = '/home/mlongar/Data/SingleCellGeneExpression/chen_2017.h5ad'\n",
    "MARKER_PATH = '/home/mlongar/Data/SingleCellGeneExpression/panglao_gene_markers.tab.gz'"
   ]
  },
  {
   "cell_type": "code",
   "execution_count": 2,
   "metadata": {},
   "outputs": [],
   "source": [
    "EPOCHS = 60\n",
    "BOTTLENECK = 25"
   ]
  },
  {
   "cell_type": "markdown",
   "metadata": {},
   "source": [
    "# Load the data"
   ]
  },
  {
   "cell_type": "code",
   "execution_count": 3,
   "metadata": {},
   "outputs": [],
   "source": [
    "dataset = read_h5ad(DATASET_1_PATH)\n",
    "data = dataset.to_df()\n",
    "labels = dataset.obs[\"labels\"]\n",
    "\n",
    "new_dataset = read_h5ad(DATASET_2_PATH)\n",
    "new_data = new_dataset.to_df()\n",
    "new_labels = new_dataset.obs[\"labels\"]\n",
    "\n",
    "markers = Table(MARKER_PATH)"
   ]
  },
  {
   "cell_type": "code",
   "execution_count": 4,
   "metadata": {},
   "outputs": [
    {
     "name": "stdout",
     "output_type": "stream",
     "text": [
      "(48266, 25186)\n",
      "(14437, 23284)\n"
     ]
    }
   ],
   "source": [
    "print(data.shape)\n",
    "print(new_data.shape)"
   ]
  },
  {
   "cell_type": "markdown",
   "metadata": {},
   "source": [
    "Hrvatin ima 48266 celic in 25186 genov.\n",
    "\n",
    "Chen ima 14437 celic in 23284 genov."
   ]
  },
  {
   "cell_type": "markdown",
   "metadata": {},
   "source": [
    "# Drop rows"
   ]
  },
  {
   "cell_type": "markdown",
   "metadata": {},
   "source": [
    "Iz podatkov sem odstranil vse neklasificirane celice.\n",
    "\n",
    "Iz 2. dataseta sem tudi odstranil vse razrede, ki jih ni v 1. (učnem) datasetu."
   ]
  },
  {
   "cell_type": "code",
   "execution_count": 5,
   "metadata": {},
   "outputs": [],
   "source": [
    "to_drop = []\n",
    "new_to_drop = []\n",
    "for i, c_type in enumerate(labels.tolist()):\n",
    "    if c_type == 'Other':\n",
    "        to_drop.append(i)\n",
    "for i, c_type in enumerate(new_labels.tolist()):\n",
    "    if c_type == 'unknown' or c_type == 'tanycyte' or c_type == 'ependymal cell' or c_type == 'epithelial cell':\n",
    "        new_to_drop.append(i)"
   ]
  },
  {
   "cell_type": "code",
   "execution_count": 6,
   "metadata": {},
   "outputs": [],
   "source": [
    "data = data.drop(data.index[to_drop], axis=0)\n",
    "labels = labels.drop(labels.index[to_drop], axis=0)\n",
    "\n",
    "new_data = new_data.drop(new_data.index[new_to_drop], axis=0)\n",
    "new_labels = new_labels.drop(new_labels.index[new_to_drop], axis=0)"
   ]
  },
  {
   "cell_type": "code",
   "execution_count": 7,
   "metadata": {
    "scrolled": true
   },
   "outputs": [
    {
     "name": "stdout",
     "output_type": "stream",
     "text": [
      "(48266,)\n",
      "(48266, 25186)\n",
      "\n",
      "\n",
      "(9687,)\n",
      "(9687, 23284)\n"
     ]
    }
   ],
   "source": [
    "print(labels.shape)\n",
    "print(data.shape)\n",
    "\n",
    "print('\\n')\n",
    "\n",
    "print(new_labels.shape)\n",
    "print(new_data.shape)"
   ]
  },
  {
   "cell_type": "markdown",
   "metadata": {},
   "source": [
    "# Load marker genes"
   ]
  },
  {
   "cell_type": "markdown",
   "metadata": {},
   "source": [
    "#### Load only the specified marker genes"
   ]
  },
  {
   "cell_type": "code",
   "execution_count": 8,
   "metadata": {},
   "outputs": [],
   "source": [
    "markers_db = []\n",
    "for meta in markers.metas:\n",
    "    if meta[0] == SPECIES:\n",
    "        markers_db.append(meta)"
   ]
  },
  {
   "cell_type": "markdown",
   "metadata": {},
   "source": [
    "#### Get the used marker genes"
   ]
  },
  {
   "cell_type": "code",
   "execution_count": 9,
   "metadata": {},
   "outputs": [],
   "source": [
    "def get_used_markers(data, markers=markers_db):\n",
    "    used_markers = []\n",
    "    for i, gene_name in enumerate(data.columns):\n",
    "        for marker in markers:\n",
    "            if gene_name == marker[1]:\n",
    "                used_markers.append((gene_name, marker))\n",
    "    return used_markers\n",
    "\n",
    "used_markers = get_used_markers(data)\n",
    "new_used_markers = get_used_markers(new_data)"
   ]
  },
  {
   "cell_type": "code",
   "execution_count": 10,
   "metadata": {},
   "outputs": [],
   "source": [
    "markers_to_keep = []\n",
    "for marker in used_markers:\n",
    "    marker_found = False\n",
    "    for new_marker in new_used_markers:\n",
    "        if marker[0] == new_marker[0] and marker[1][2] == new_marker[1][2]:\n",
    "            markers_to_keep.append(marker)"
   ]
  },
  {
   "cell_type": "code",
   "execution_count": 11,
   "metadata": {},
   "outputs": [
    {
     "name": "stdout",
     "output_type": "stream",
     "text": [
      "7675 7477\n",
      "7390\n"
     ]
    }
   ],
   "source": [
    "print(len(used_markers), len(new_used_markers))\n",
    "print(len(markers_to_keep))"
   ]
  },
  {
   "cell_type": "markdown",
   "metadata": {},
   "source": [
    "### Get the cell types"
   ]
  },
  {
   "cell_type": "code",
   "execution_count": 12,
   "metadata": {},
   "outputs": [],
   "source": [
    "from collections import OrderedDict\n",
    "\n",
    "def get_cell_types(used_markers):\n",
    "    cell_types = OrderedDict()\n",
    "    for marker in used_markers:\n",
    "        c_type = marker[1][2]\n",
    "        gene_name = marker[0]\n",
    "        if c_type in cell_types:\n",
    "            if gene_name not in cell_types[c_type]:\n",
    "                cell_types[c_type].append(gene_name)\n",
    "        else:\n",
    "            cell_types[c_type] = [gene_name]\n",
    "    return cell_types\n",
    "\n",
    "cell_types = get_cell_types(markers_to_keep)\n",
    "#cell_types = get_cell_types(used_markers)"
   ]
  },
  {
   "cell_type": "markdown",
   "metadata": {},
   "source": [
    "### Make sure every class is in the marker layer"
   ]
  },
  {
   "cell_type": "code",
   "execution_count": 13,
   "metadata": {},
   "outputs": [],
   "source": [
    "def get_used_genes(cell_types):\n",
    "    used_genes = []\n",
    "    for c_type in cell_types:\n",
    "        genes = cell_types[c_type]\n",
    "        for gene in genes:\n",
    "            if gene not in used_genes:\n",
    "                used_genes.append(gene)\n",
    "    return used_genes\n",
    "\n",
    "used_genes = get_used_genes(cell_types)"
   ]
  },
  {
   "cell_type": "code",
   "execution_count": 14,
   "metadata": {},
   "outputs": [],
   "source": [
    "marker_names = {'Neuron' : 'Neurons',\n",
    "                'Oligodendrocyte' : 'Oligodendrocytes',\n",
    "                'Muscle cell' : 'Smooth muscle cells',\n",
    "                'Endothelial cell' : 'Endothelial cells',\n",
    "                'Astrocyte' : 'Astrocytes',\n",
    "                'Macrophage' : 'Macrophages',\n",
    "                'OPC' : 'Oligodendrocyte progenitor cells',\n",
    "                'Pericyte' : 'Pericytes'}\n",
    "\n",
    "used_types = []\n",
    "for c_type in cell_types:\n",
    "    used_types.append(c_type)\n",
    "\n",
    "for c_type in labels.unique():\n",
    "    if c_type not in used_types and c_type not in list(marker_names.keys()):\n",
    "        print(c_type)\n",
    "for c_type in new_labels.unique():\n",
    "    if c_type not in used_types and c_type not in list(marker_names.keys()):\n",
    "        print(c_type)"
   ]
  },
  {
   "cell_type": "markdown",
   "metadata": {},
   "source": [
    "# Gene selection"
   ]
  },
  {
   "cell_type": "code",
   "execution_count": 15,
   "metadata": {
    "scrolled": false
   },
   "outputs": [],
   "source": [
    "gene_mask = np.zeros(len(data.columns), dtype=bool)\n",
    "new_gene_mask = np.zeros(len(new_data.columns), dtype=bool)"
   ]
  },
  {
   "cell_type": "code",
   "execution_count": 16,
   "metadata": {
    "scrolled": true
   },
   "outputs": [],
   "source": [
    "to_drop = []\n",
    "for i, keep in enumerate(gene_mask):\n",
    "    gene_name = data.columns[i]\n",
    "    if keep == False and gene_name not in used_genes:\n",
    "        to_drop.append(data.columns[i])\n",
    "\n",
    "new_to_drop = []\n",
    "for i, keep in enumerate(new_gene_mask):\n",
    "    gene_name = new_data.columns[i]\n",
    "    if keep == False and gene_name not in used_genes:\n",
    "        new_to_drop.append(new_data.columns[i])"
   ]
  },
  {
   "cell_type": "code",
   "execution_count": 17,
   "metadata": {},
   "outputs": [
    {
     "data": {
      "text/plain": [
       "4082"
      ]
     },
     "execution_count": 17,
     "metadata": {},
     "output_type": "execute_result"
    }
   ],
   "source": [
    "data.shape[1] - len(to_drop)"
   ]
  },
  {
   "cell_type": "code",
   "execution_count": 18,
   "metadata": {},
   "outputs": [
    {
     "data": {
      "text/plain": [
       "4082"
      ]
     },
     "execution_count": 18,
     "metadata": {},
     "output_type": "execute_result"
    }
   ],
   "source": [
    "new_data.shape[1] - len(new_to_drop)"
   ]
  },
  {
   "cell_type": "markdown",
   "metadata": {},
   "source": [
    "## Drop unused genes"
   ]
  },
  {
   "cell_type": "code",
   "execution_count": 19,
   "metadata": {},
   "outputs": [],
   "source": [
    "data = data.drop(to_drop, axis=1)\n",
    "new_data = new_data.drop(new_to_drop, axis=1)"
   ]
  },
  {
   "cell_type": "markdown",
   "metadata": {},
   "source": [
    "## Sort columns by name"
   ]
  },
  {
   "cell_type": "code",
   "execution_count": 20,
   "metadata": {},
   "outputs": [],
   "source": [
    "data = data.reindex(sorted(data.columns), axis=1)\n",
    "new_data = new_data.reindex(sorted(new_data.columns), axis=1)"
   ]
  },
  {
   "cell_type": "code",
   "execution_count": 21,
   "metadata": {},
   "outputs": [
    {
     "data": {
      "text/plain": [
       "array([ True,  True,  True, ...,  True,  True,  True])"
      ]
     },
     "execution_count": 21,
     "metadata": {},
     "output_type": "execute_result"
    }
   ],
   "source": [
    "new_data.columns.values == data.columns.values"
   ]
  },
  {
   "cell_type": "markdown",
   "metadata": {},
   "source": [
    "# Data transformation"
   ]
  },
  {
   "cell_type": "markdown",
   "metadata": {},
   "source": [
    "#### Shuffle the data"
   ]
  },
  {
   "cell_type": "code",
   "execution_count": 22,
   "metadata": {},
   "outputs": [],
   "source": [
    "idx = np.random.permutation(data.index)\n",
    "data_x = data.reindex(idx)\n",
    "data_y = labels.reindex(idx)"
   ]
  },
  {
   "cell_type": "markdown",
   "metadata": {},
   "source": [
    "#### Log10 transformation"
   ]
  },
  {
   "cell_type": "code",
   "execution_count": 23,
   "metadata": {},
   "outputs": [],
   "source": [
    "data_x = np.log10(data_x + 1)\n",
    "new_data_x = np.log10(new_data + 1)"
   ]
  },
  {
   "cell_type": "markdown",
   "metadata": {},
   "source": [
    "#### Split the data"
   ]
  },
  {
   "cell_type": "code",
   "execution_count": 24,
   "metadata": {},
   "outputs": [],
   "source": [
    "seventy = int(data_x.shape[0] * 0.7)\n",
    "fifteen = int(data_x.shape[0] * 0.15)"
   ]
  },
  {
   "cell_type": "code",
   "execution_count": 25,
   "metadata": {},
   "outputs": [],
   "source": [
    "train_x = data_x[:seventy]\n",
    "train_y = data_y[:seventy]\n",
    "\n",
    "test_x = data_x[seventy:seventy+fifteen]\n",
    "test_y = data_y[seventy:seventy+fifteen]\n",
    "\n",
    "validation_x = data_x[seventy+fifteen:]\n",
    "validation_y = data_y[seventy+fifteen:]"
   ]
  },
  {
   "cell_type": "code",
   "execution_count": 26,
   "metadata": {
    "scrolled": true
   },
   "outputs": [
    {
     "data": {
      "text/plain": [
       "(48266, 4082)"
      ]
     },
     "execution_count": 26,
     "metadata": {},
     "output_type": "execute_result"
    }
   ],
   "source": [
    "data.shape"
   ]
  },
  {
   "cell_type": "code",
   "execution_count": 27,
   "metadata": {},
   "outputs": [
    {
     "data": {
      "text/plain": [
       "(9687, 4082)"
      ]
     },
     "execution_count": 27,
     "metadata": {},
     "output_type": "execute_result"
    }
   ],
   "source": [
    "new_data.shape"
   ]
  },
  {
   "cell_type": "markdown",
   "metadata": {},
   "source": [
    "# Build the model"
   ]
  },
  {
   "cell_type": "code",
   "execution_count": 28,
   "metadata": {},
   "outputs": [
    {
     "name": "stderr",
     "output_type": "stream",
     "text": [
      "Using TensorFlow backend.\n"
     ]
    }
   ],
   "source": [
    "from keras import backend as K\n",
    "from keras.layers import Layer\n",
    "from keras import activations, initializers, regularizers, constraints\n",
    "from keras.engine.base_layer import InputSpec\n",
    "from tensorflow import convert_to_tensor\n",
    "import tensorflow as tf\n",
    "\n",
    "class Markers(Layer):\n",
    "\n",
    "    def __init__(self, units, weight_mask,\n",
    "                 activation=None,\n",
    "                 use_bias=True,\n",
    "                 kernel_initializer='glorot_uniform',\n",
    "                 bias_initializer='zeros',\n",
    "                 kernel_regularizer=None,\n",
    "                 bias_regularizer=None,\n",
    "                 activity_regularizer=None,\n",
    "                 kernel_constraint=None,\n",
    "                 bias_constraint=None,\n",
    "                 **kwargs):\n",
    "        if 'input_shape' not in kwargs and 'input_dim' in kwargs:\n",
    "            kwargs['input_shape'] = (kwargs.pop('input_dim'),)\n",
    "        super(Markers, self).__init__(**kwargs)\n",
    "        self.units = units\n",
    "        self.activation = activations.get(activation)\n",
    "        self.use_bias = use_bias\n",
    "        self.kernel_initializer = initializers.get(kernel_initializer)\n",
    "        self.bias_initializer = initializers.get(bias_initializer)\n",
    "        self.kernel_regularizer = regularizers.get(kernel_regularizer)\n",
    "        self.bias_regularizer = regularizers.get(bias_regularizer)\n",
    "        self.activity_regularizer = regularizers.get(activity_regularizer)\n",
    "        self.kernel_constraint = constraints.get(kernel_constraint)\n",
    "        self.bias_constraint = constraints.get(bias_constraint)\n",
    "        self.input_spec = InputSpec(min_ndim=2)\n",
    "        self.supports_masking = True\n",
    "        \n",
    "        weight_mask = convert_to_tensor(np.transpose(weight_mask), dtype=tf.float32)\n",
    "        self.weight_mask = weight_mask\n",
    "\n",
    "    def build(self, input_shape):\n",
    "        assert len(input_shape) >= 2\n",
    "        input_dim = input_shape[-1]\n",
    "\n",
    "        self.kernel = self.add_weight(shape=(input_dim, self.units),\n",
    "                                      initializer=self.kernel_initializer,\n",
    "                                      name='kernel',\n",
    "                                      regularizer=self.kernel_regularizer,\n",
    "                                      constraint=self.kernel_constraint)\n",
    "        if self.use_bias:\n",
    "            self.bias = self.add_weight(shape=(self.units,),\n",
    "                                        initializer=self.bias_initializer,\n",
    "                                        name='bias',\n",
    "                                        regularizer=self.bias_regularizer,\n",
    "                                        constraint=self.bias_constraint)\n",
    "        else:\n",
    "            self.bias = None\n",
    "        self.input_spec = InputSpec(min_ndim=2, axes={-1: input_dim})\n",
    "        self.built = True\n",
    "\n",
    "    def call(self, inputs):\n",
    "        conns = tf.multiply(self.kernel, self.weight_mask)\n",
    "        output = K.dot(inputs, conns)\n",
    "        if self.use_bias:\n",
    "            output = K.bias_add(output, self.bias, data_format='channels_last')\n",
    "        if self.activation is not None:\n",
    "            output = self.activation(output)\n",
    "        return output\n",
    "\n",
    "    def compute_output_shape(self, input_shape):\n",
    "        assert input_shape and len(input_shape) >= 2\n",
    "        assert input_shape[-1]\n",
    "        output_shape = list(input_shape)\n",
    "        output_shape[-1] = self.units\n",
    "        return tuple(output_shape)\n",
    "\n",
    "    def get_config(self):\n",
    "        config = {\n",
    "            'units': self.units,\n",
    "            'activation': activations.serialize(self.activation),\n",
    "            'use_bias': self.use_bias,\n",
    "            'kernel_initializer': initializers.serialize(self.kernel_initializer),\n",
    "            'bias_initializer': initializers.serialize(self.bias_initializer),\n",
    "            'kernel_regularizer': regularizers.serialize(self.kernel_regularizer),\n",
    "            'bias_regularizer': regularizers.serialize(self.bias_regularizer),\n",
    "            'activity_regularizer':\n",
    "                regularizers.serialize(self.activity_regularizer),\n",
    "            'kernel_constraint': constraints.serialize(self.kernel_constraint),\n",
    "            'bias_constraint': constraints.serialize(self.bias_constraint)\n",
    "        }\n",
    "        base_config = super(Markers, self).get_config()\n",
    "        return dict(list(base_config.items()) + list(config.items()))\n"
   ]
  },
  {
   "cell_type": "code",
   "execution_count": 29,
   "metadata": {},
   "outputs": [],
   "source": [
    "def get_weight_mask(types, n_dim, num_types, data=data):\n",
    "    mask = np.zeros(shape=(num_types, n_dim))\n",
    "    for i, cell_type in enumerate(types):\n",
    "        for gene in types[cell_type]:\n",
    "            gene_index = data.columns.get_loc(gene)\n",
    "            mask[i][gene_index] = 1.0\n",
    "    return mask"
   ]
  },
  {
   "cell_type": "code",
   "execution_count": 30,
   "metadata": {},
   "outputs": [],
   "source": [
    "from keras.layers import Input, Dense, Add, Dropout\n",
    "from keras.models import Model\n",
    "\n",
    "def build_model(input_dim, marker_dim, bottleneck_dim, types=cell_types):\n",
    "    weight_mask = get_weight_mask(types=types, num_types=num_types, n_dim=input_dim)\n",
    "    \n",
    "    input_layer = Input(shape=(input_dim,))\n",
    "    marker_layer = Markers(marker_dim, weight_mask=weight_mask, activation='relu')(input_layer)\n",
    "    \n",
    "    dense_in_1 = Dense(100, activation='relu')(marker_layer)\n",
    "    bottleneck_layer = Dense(bottleneck_dim, activation='relu', name='Bottleneck')(dense_in_1)\n",
    "    dense_out_1 = Dense(100, activation='relu')(bottleneck_layer)\n",
    "    dropout = Dropout(0.1)(dense_out_1)\n",
    "    \n",
    "    output_layer = Dense(input_dim, activation='relu', name='Output')(dropout)\n",
    "    \n",
    "    model = Model(input_layer, output_layer)\n",
    "    model.compile(loss='mse', optimizer='adam')\n",
    "    \n",
    "    marker_model = Model(input_layer, marker_layer)\n",
    "    marker_model.compile(loss='mse', optimizer='adam')\n",
    "    \n",
    "    encoder_model = Model(input_layer, bottleneck_layer)\n",
    "    encoder_model.compile(loss='mse', optimizer='adam')\n",
    "    \n",
    "    return model, marker_model, encoder_model\n",
    "\n",
    "def train_model(model, data, validation_data, test_data, epochs=30, batch_size=256, verbose=1, callbacks=[]):\n",
    "    history = model.fit(data, data,\n",
    "               epochs=epochs, batch_size=batch_size,\n",
    "               validation_data=(validation_data, validation_data),\n",
    "               callbacks=callbacks,\n",
    "               verbose=verbose)\n",
    "    loss = model.evaluate(test_data, test_data)\n",
    "    return (history, loss)\n",
    "\n",
    "def draw_history(history):\n",
    "    loss = history.history['loss']\n",
    "    val_loss = history.history['val_loss']\n",
    "\n",
    "    epochs = range(1, len(loss) + 1)\n",
    "\n",
    "    plt.plot(epochs, loss, 'bo', label='Training loss')\n",
    "    plt.plot(epochs, val_loss, 'b', label='Validation loss', c='orange')\n",
    "    plt.title('Training and validation loss')\n",
    "    plt.xlabel('Epochs')\n",
    "    plt.ylabel('Loss')\n",
    "    plt.legend()\n",
    "\n",
    "    plt.show()"
   ]
  },
  {
   "cell_type": "markdown",
   "metadata": {},
   "source": [
    "#### Create the model"
   ]
  },
  {
   "cell_type": "code",
   "execution_count": 31,
   "metadata": {
    "scrolled": true
   },
   "outputs": [
    {
     "name": "stdout",
     "output_type": "stream",
     "text": [
      "WARNING:tensorflow:From /home/mlongar/miniconda3/lib/python3.7/site-packages/tensorflow/python/framework/op_def_library.py:263: colocate_with (from tensorflow.python.framework.ops) is deprecated and will be removed in a future version.\n",
      "Instructions for updating:\n",
      "Colocations handled automatically by placer.\n",
      "WARNING:tensorflow:From /home/mlongar/miniconda3/lib/python3.7/site-packages/keras/backend/tensorflow_backend.py:3445: calling dropout (from tensorflow.python.ops.nn_ops) with keep_prob is deprecated and will be removed in a future version.\n",
      "Instructions for updating:\n",
      "Please use `rate` instead of `keep_prob`. Rate should be set to `rate = 1 - keep_prob`.\n"
     ]
    }
   ],
   "source": [
    "n_genes = train_x.shape[1]\n",
    "num_types = len(cell_types)\n",
    "\n",
    "model, marker_model, encoder_model = build_model(input_dim=n_genes,\n",
    "                                                 marker_dim=num_types,\n",
    "                                                 bottleneck_dim=BOTTLENECK,\n",
    "                                                 types=cell_types)"
   ]
  },
  {
   "cell_type": "code",
   "execution_count": 32,
   "metadata": {
    "scrolled": false
   },
   "outputs": [
    {
     "name": "stdout",
     "output_type": "stream",
     "text": [
      "_________________________________________________________________\n",
      "Layer (type)                 Output Shape              Param #   \n",
      "=================================================================\n",
      "input_1 (InputLayer)         (None, 4082)              0         \n",
      "_________________________________________________________________\n",
      "markers_1 (Markers)          (None, 179)               730857    \n",
      "_________________________________________________________________\n",
      "dense_1 (Dense)              (None, 100)               18000     \n",
      "_________________________________________________________________\n",
      "Bottleneck (Dense)           (None, 25)                2525      \n",
      "_________________________________________________________________\n",
      "dense_2 (Dense)              (None, 100)               2600      \n",
      "_________________________________________________________________\n",
      "dropout_1 (Dropout)          (None, 100)               0         \n",
      "_________________________________________________________________\n",
      "Output (Dense)               (None, 4082)              412282    \n",
      "=================================================================\n",
      "Total params: 1,166,264\n",
      "Trainable params: 1,166,264\n",
      "Non-trainable params: 0\n",
      "_________________________________________________________________\n"
     ]
    }
   ],
   "source": [
    "model.summary()"
   ]
  },
  {
   "cell_type": "markdown",
   "metadata": {},
   "source": [
    "# Train the model"
   ]
  },
  {
   "cell_type": "code",
   "execution_count": 33,
   "metadata": {
    "scrolled": false
   },
   "outputs": [
    {
     "name": "stdout",
     "output_type": "stream",
     "text": [
      "WARNING:tensorflow:From /home/mlongar/miniconda3/lib/python3.7/site-packages/tensorflow/python/ops/math_ops.py:3066: to_int32 (from tensorflow.python.ops.math_ops) is deprecated and will be removed in a future version.\n",
      "Instructions for updating:\n",
      "Use tf.cast instead.\n",
      "7239/7239 [==============================] - 2s 243us/step\n"
     ]
    }
   ],
   "source": [
    "history, loss = train_model(model, train_x, validation_x, test_x, epochs=EPOCHS, verbose=0, callbacks=[])#tensorboard"
   ]
  },
  {
   "cell_type": "code",
   "execution_count": 34,
   "metadata": {},
   "outputs": [
    {
     "data": {
      "image/png": "[encoded data removed]",
      "text/plain": [
       "<Figure size 432x288 with 1 Axes>"
      ]
     },
     "metadata": {
      "needs_background": "light"
     },
     "output_type": "display_data"
    }
   ],
   "source": [
    "draw_history(history)"
   ]
  },
  {
   "cell_type": "code",
   "execution_count": 35,
   "metadata": {
    "scrolled": true
   },
   "outputs": [
    {
     "name": "stdout",
     "output_type": "stream",
     "text": [
      "Test loss:  0.006485266103442037\n"
     ]
    }
   ],
   "source": [
    "print(\"Test loss: \", loss)"
   ]
  },
  {
   "cell_type": "markdown",
   "metadata": {},
   "source": [
    "#### Save the model"
   ]
  },
  {
   "cell_type": "code",
   "execution_count": 36,
   "metadata": {},
   "outputs": [],
   "source": [
    "model.save('markersonly_comparison.h5')\n",
    "marker_model.save('markersonly_comparison_marker.h5')\n",
    "encoder_model.save('markersonly_comparison_encoder.h5')\n",
    "\n",
    "model.save_weights('markersonly_comparison_weights.h5')\n",
    "marker_model.save_weights('markersonly_comparison_marker_weights.h5')\n",
    "encoder_model.save_weights('markersonly_comparison_encoder_weights.h5')"
   ]
  },
  {
   "cell_type": "markdown",
   "metadata": {},
   "source": [
    "# Data analysis"
   ]
  },
  {
   "cell_type": "code",
   "execution_count": 37,
   "metadata": {},
   "outputs": [],
   "source": [
    "def get_results(cell_types, cell_activations, graph_labels):\n",
    "    types_list = list(cell_types.items())\n",
    "    top3s = []\n",
    "    top3s_act = []\n",
    "    for cell in cell_activations:\n",
    "        top3 = cell.argsort()[-3:][::-1]\n",
    "        top3types = [types_list[i][0] for i in top3]\n",
    "        top3s.append(top3types)\n",
    "        \n",
    "        act = np.zeros((len(cell_activations[0]),))\n",
    "        for i in top3:\n",
    "            act[i] = cell[i]\n",
    "        top3s_act.append(act)\n",
    "\n",
    "    n = 0\n",
    "    correct = 0\n",
    "    for i in range(len(top3s)):\n",
    "        prediction = top3s[i][0]\n",
    "        label = graph_labels.iloc[i]\n",
    "\n",
    "        if str(prediction) == 'nan' or str(label) == 'nan':\n",
    "            continue\n",
    "\n",
    "        if prediction == label:\n",
    "            correct += 1\n",
    "\n",
    "        elif label in marker_names.keys():\n",
    "            if marker_names[label] == prediction:\n",
    "                correct += 1\n",
    "        n += 1\n",
    "\n",
    "    print(\"Correct predictions: {c} out of {n} ({p}%)\".format(c=correct, n=n, p=round(100 * (correct/n), 2)))\n",
    "    print(\"Dropped {d} cells\".format(d=len(cell_activations) - n))\n",
    "    return top3s_act"
   ]
  },
  {
   "cell_type": "code",
   "execution_count": 38,
   "metadata": {},
   "outputs": [],
   "source": [
    "cell_activations = marker_model.predict(test_x)\n",
    "bottleneck_activations = encoder_model.predict(test_x)\n",
    "graph_labels = test_y"
   ]
  },
  {
   "cell_type": "code",
   "execution_count": 39,
   "metadata": {
    "scrolled": false
   },
   "outputs": [
    {
     "name": "stdout",
     "output_type": "stream",
     "text": [
      "Correct predictions: 6539 out of 7239 (90.33%)\n",
      "Dropped 0 cells\n"
     ]
    }
   ],
   "source": [
    "top3 = get_results(cell_types, cell_activations, graph_labels)"
   ]
  },
  {
   "cell_type": "code",
   "execution_count": 40,
   "metadata": {
    "scrolled": true
   },
   "outputs": [
    {
     "data": {
      "text/plain": [
       "<matplotlib.axes._subplots.AxesSubplot at 0x7fd31cf4c2e8>"
      ]
     },
     "execution_count": 40,
     "metadata": {},
     "output_type": "execute_result"
    },
    {
     "data": {
      "image/png": "[encoded data removed]",
      "text/plain": [
       "<Figure size 432x288 with 1 Axes>"
      ]
     },
     "metadata": {
      "needs_background": "light"
     },
     "output_type": "display_data"
    }
   ],
   "source": [
    "import seaborn as sns\n",
    "sns.distplot(cell_activations[21])"
   ]
  },
  {
   "cell_type": "markdown",
   "metadata": {},
   "source": [
    "### New data"
   ]
  },
  {
   "cell_type": "code",
   "execution_count": 41,
   "metadata": {},
   "outputs": [],
   "source": [
    "new_cell_activations = marker_model.predict(new_data_x)\n",
    "new_bottleneck_activations = encoder_model.predict(new_data_x)\n",
    "new_graph_labels = new_labels"
   ]
  },
  {
   "cell_type": "code",
   "execution_count": 42,
   "metadata": {},
   "outputs": [
    {
     "name": "stdout",
     "output_type": "stream",
     "text": [
      "Correct predictions: 8512 out of 9687 (87.87%)\n",
      "Dropped 0 cells\n"
     ]
    }
   ],
   "source": [
    "new_top3 = get_results(cell_types, new_cell_activations, new_graph_labels)"
   ]
  },
  {
   "cell_type": "markdown",
   "metadata": {},
   "source": [
    "## Graphs"
   ]
  },
  {
   "cell_type": "code",
   "execution_count": 43,
   "metadata": {},
   "outputs": [
    {
     "data": {
      "image/png": "[encoded data removed]",
      "text/plain": [
       "<Figure size 432x288 with 1 Axes>"
      ]
     },
     "metadata": {
      "needs_background": "light"
     },
     "output_type": "display_data"
    }
   ],
   "source": [
    "import random\n",
    "from time import time\n",
    "\n",
    "def get_random_color(pastel_factor = 0.5):\n",
    "    pastel_factor = random.uniform(0, 1.0)\n",
    "    return [(x+pastel_factor)/(1.0+pastel_factor) for x in [random.uniform(0,1.0) for i in [1,2,3]]]\n",
    "\n",
    "colours = {}\n",
    "for label in graph_labels.unique():\n",
    "    random.seed = time() + random.randint(-1000, 1000)\n",
    "    colour = (get_random_color())\n",
    "    colours.update({label:colour})\n",
    "    \n",
    "fig = plt.figure()\n",
    "ax = fig.add_subplot(111)\n",
    "\n",
    "x = list(range(0, len(colours.values()) * 2, 2))\n",
    "y = [0]*len(x)\n",
    "c = list(colours.values())\n",
    "\n",
    "ax.scatter(x,y,s=400,c=c)\n",
    "\n",
    "plt.show()"
   ]
  },
  {
   "cell_type": "code",
   "execution_count": 44,
   "metadata": {},
   "outputs": [],
   "source": [
    "import pickle\n",
    "\n",
    "pickle_in = open(\"Data/Marker_Colours.pickle\",\"rb\")\n",
    "colours = pickle.load(pickle_in)"
   ]
  },
  {
   "cell_type": "code",
   "execution_count": 45,
   "metadata": {},
   "outputs": [],
   "source": [
    "pickle_out = open(\"Data/Marker_Colours.pickle\",\"wb\")\n",
    "pickle.dump(colours, pickle_out)\n",
    "pickle_out.close()"
   ]
  },
  {
   "cell_type": "code",
   "execution_count": 46,
   "metadata": {},
   "outputs": [],
   "source": [
    "from sklearn.manifold import TSNE\n",
    "from sklearn.decomposition import PCA\n",
    "from collections import OrderedDict\n",
    "import operator\n",
    "\n",
    "tnse = TSNE()\n",
    "pca = PCA()\n",
    "    \n",
    "def draw_graph(x, y, model, colours, graph_name='', subset=1.0):\n",
    "    subset_indices = list(range(0, len(x)))\n",
    "    subset_indices = random.sample(subset_indices, k=int(len(x) * subset))\n",
    "    new_x = []\n",
    "    new_y = []\n",
    "    for i in range(len(x)):\n",
    "        if i in subset_indices:\n",
    "            new_x.append(x[i])\n",
    "            new_y.append(y[i])\n",
    "\n",
    "    tsne_out = model.fit_transform(new_x)\n",
    "    \n",
    "    plt.clf()\n",
    "    plt.figure(figsize=(8, 8), dpi=80, facecolor='w', edgecolor='k')\n",
    "\n",
    "    for i, entry in enumerate(tsne_out):\n",
    "        plt.scatter(entry[0], entry[1], color=colours[new_y[i]], label=new_y[i])\n",
    "    \n",
    "    handles, plt_labels = plt.gca().get_legend_handles_labels()\n",
    "    by_label = OrderedDict(zip(plt_labels, handles))\n",
    "    by_label = OrderedDict(sorted(by_label.items()))\n",
    "\n",
    "    plt.legend(by_label.values(), by_label.keys(), bbox_to_anchor=(0., 1, 0, .1))\n",
    "\n",
    "    plt.title(graph_name)\n",
    "    plt.axis('off')\n",
    "    plt.show()"
   ]
  },
  {
   "cell_type": "code",
   "execution_count": 47,
   "metadata": {},
   "outputs": [
    {
     "data": {
      "text/plain": [
       "<Figure size 432x288 with 0 Axes>"
      ]
     },
     "metadata": {},
     "output_type": "display_data"
    },
    {
     "data": {
      "image/png": "[encoded data removed]",
      "text/plain": [
       "<Figure size 640x640 with 1 Axes>"
      ]
     },
     "metadata": {},
     "output_type": "display_data"
    }
   ],
   "source": [
    "draw_graph(cell_activations, graph_labels, tnse, colours, graph_name='TSNE of marker activations', subset=0.15)"
   ]
  },
  {
   "cell_type": "markdown",
   "metadata": {},
   "source": [
    "# New Data"
   ]
  },
  {
   "cell_type": "code",
   "execution_count": 48,
   "metadata": {
    "scrolled": false
   },
   "outputs": [
    {
     "data": {
      "text/plain": [
       "<Figure size 432x288 with 0 Axes>"
      ]
     },
     "metadata": {},
     "output_type": "display_data"
    },
    {
     "data": {
      "image/png": "[encoded data removed]",
      "text/plain": [
       "<Figure size 640x640 with 1 Axes>"
      ]
     },
     "metadata": {},
     "output_type": "display_data"
    }
   ],
   "source": [
    "draw_graph(new_cell_activations, new_graph_labels, tnse, colours, subset=0.15,\n",
    "           graph_name='TSNE of new marker activations')"
   ]
  },
  {
   "cell_type": "markdown",
   "metadata": {},
   "source": [
    "# Save the data"
   ]
  },
  {
   "cell_type": "code",
   "execution_count": 49,
   "metadata": {},
   "outputs": [],
   "source": [
    "in_data = pd.DataFrame(new_data_x)\n",
    "out_data = pd.DataFrame(data=model.predict(new_data_x))\n",
    "in_data.to_pickle('Data/in_data_markersonly.pickle')\n",
    "out_data.to_pickle('Data/out_data_markersonly.pickle')"
   ]
  },
  {
   "cell_type": "markdown",
   "metadata": {},
   "source": [
    "# Reconstruction"
   ]
  },
  {
   "cell_type": "code",
   "execution_count": 50,
   "metadata": {},
   "outputs": [],
   "source": [
    "reconstruction = model.predict(new_data_x)\n",
    "reconstruction = pd.DataFrame(reconstruction, columns=new_data_x.columns)\n",
    "reconstructed_cell_activations = marker_model.predict(reconstruction)"
   ]
  },
  {
   "cell_type": "markdown",
   "metadata": {},
   "source": [
    "**V tem primeru se je klasifikacijska točnost na rekonstuiranih podatkih povečala za 4%.**"
   ]
  },
  {
   "cell_type": "code",
   "execution_count": 51,
   "metadata": {
    "scrolled": false
   },
   "outputs": [
    {
     "name": "stdout",
     "output_type": "stream",
     "text": [
      "Correct predictions: 9069 out of 9687 (93.62%)\n",
      "Dropped 0 cells\n"
     ]
    }
   ],
   "source": [
    "_ = get_results(cell_types, reconstructed_cell_activations, new_graph_labels)"
   ]
  },
  {
   "cell_type": "code",
   "execution_count": 52,
   "metadata": {},
   "outputs": [
    {
     "data": {
      "text/plain": [
       "<Figure size 432x288 with 0 Axes>"
      ]
     },
     "metadata": {},
     "output_type": "display_data"
    },
    {
     "data": {
      "image/png": "[encoded data removed]",
      "text/plain": [
       "<Figure size 640x640 with 1 Axes>"
      ]
     },
     "metadata": {},
     "output_type": "display_data"
    }
   ],
   "source": [
    "draw_graph(reconstructed_cell_activations, new_graph_labels, tnse, colours, subset=0.15,\n",
    "           graph_name='TSNE of reconstructed marker activations')"
   ]
  },
  {
   "cell_type": "code",
   "execution_count": null,
   "metadata": {},
   "outputs": [],
   "source": []
  }
 ],
 "metadata": {
  "kernelspec": {
   "display_name": "Python 3",
   "language": "python",
   "name": "python3"
  },
  "language_info": {
   "codemirror_mode": {
    "name": "ipython",
    "version": 3
   },
   "file_extension": ".py",
   "mimetype": "text/x-python",
   "name": "python",
   "nbconvert_exporter": "python",
   "pygments_lexer": "ipython3",
   "version": "3.7.3"
  }
 },
 "nbformat": 4,
 "nbformat_minor": 2
}
