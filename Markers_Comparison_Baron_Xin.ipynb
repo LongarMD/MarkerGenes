{
 "cells": [
  {
   "cell_type": "code",
   "execution_count": 1,
   "metadata": {
    "tags": [
     "remove_cell",
     "hide_input"
    ]
   },
   "outputs": [
    {
     "data": {
      "text/html": [
       "<style>\n",
       "table {float:left}\n",
       "</style>\n"
      ],
      "text/plain": [
       "<IPython.core.display.HTML object>"
      ]
     },
     "metadata": {},
     "output_type": "display_data"
    }
   ],
   "source": [
    "%%html\n",
    "<style>\n",
    "table {float:left}\n",
    "</style>"
   ]
  },
  {
   "cell_type": "markdown",
   "metadata": {},
   "source": [
    "In this notebook, we used two datasets of pancreatic cells. For gene markers, we used the Panglao Cell Type Marker database.\n",
    "\n",
    "We used the Baron (2016) dataset for training the neural network (NN) because it has more cells and classes, and we used the Xin (2016) dataset for testing purposes because all of its classes are present in the Baron dataset."
   ]
  },
  {
   "cell_type": "code",
   "execution_count": 2,
   "metadata": {},
   "outputs": [],
   "source": [
    "EPOCHS = 50"
   ]
  },
  {
   "cell_type": "code",
   "execution_count": 3,
   "metadata": {},
   "outputs": [
    {
     "name": "stderr",
     "output_type": "stream",
     "text": [
      "Using TensorFlow backend.\n"
     ]
    }
   ],
   "source": [
    "import Autolib as ali\n",
    "import Autolib.backend as A\n",
    "import pandas as pd\n",
    "import numpy as np\n",
    "import matplotlib.pyplot as plt\n",
    "%matplotlib inline\n",
    "\n",
    "SPECIES = 'Human'\n",
    "DATASET_BARON_PATH = 'D:/Data/SingleCellGeneExpression/baron_2016h.h5ad' # /home/mlongar/\n",
    "DATASET_XIN_PATH = 'D:/Data/SingleCellGeneExpression/xin_2016.h5ad'\n",
    "MARKER_PATH = 'D:/Data/SingleCellGeneExpression/panglao_gene_markers.tab.gz'"
   ]
  },
  {
   "cell_type": "markdown",
   "metadata": {},
   "source": [
    "# Load the data"
   ]
  },
  {
   "cell_type": "code",
   "execution_count": 4,
   "metadata": {},
   "outputs": [],
   "source": [
    "baron_data, baron_labels = ali.load_h5ad(DATASET_BARON_PATH)\n",
    "xin_data, xin_labels = ali.load_h5ad(DATASET_XIN_PATH)"
   ]
  },
  {
   "cell_type": "markdown",
   "metadata": {},
   "source": [
    "### Baron"
   ]
  },
  {
   "cell_type": "code",
   "execution_count": 5,
   "metadata": {},
   "outputs": [
    {
     "name": "stdout",
     "output_type": "stream",
     "text": [
      "(8569, 20125)\n"
     ]
    },
    {
     "data": {
      "text/plain": [
       "[Acinar cells, Beta cells, Delta cells, PaSC, Ductal cells, Alpha cells, Other, PP cells, Endothelial cell]\n",
       "Categories (9, object): [Acinar cells, Beta cells, Delta cells, PaSC, ..., Alpha cells, Other, PP cells, Endothelial cell]"
      ]
     },
     "execution_count": 5,
     "metadata": {},
     "output_type": "execute_result"
    }
   ],
   "source": [
    "print(baron_data.shape)\n",
    "baron_labels.unique()"
   ]
  },
  {
   "cell_type": "markdown",
   "metadata": {},
   "source": [
    "Baron has 8569 cells and 20125 genes.\n",
    "\n",
    "The cells are classified into 9 classes: Acinar cells, Alpha cells, Beta cells, Delta cells, Ductal cells, Endothelial cells, ***Other***, PaSC (i.e. Pancreatic stellate cells) and PP cells (i.e. Gamma cells)."
   ]
  },
  {
   "cell_type": "markdown",
   "metadata": {},
   "source": [
    "### Xin"
   ]
  },
  {
   "cell_type": "code",
   "execution_count": 6,
   "metadata": {},
   "outputs": [
    {
     "name": "stdout",
     "output_type": "stream",
     "text": [
      "(1492, 39851)\n"
     ]
    },
    {
     "data": {
      "text/plain": [
       "[Beta cells, Alpha cells, Delta cells, PP cells]\n",
       "Categories (4, object): [Beta cells, Alpha cells, Delta cells, PP cells]"
      ]
     },
     "execution_count": 6,
     "metadata": {},
     "output_type": "execute_result"
    }
   ],
   "source": [
    "print(xin_data.shape)\n",
    "xin_labels.unique()"
   ]
  },
  {
   "cell_type": "markdown",
   "metadata": {},
   "source": [
    "Xin has 1492 cells and 39851 genes.\n",
    "\n",
    "The cells are classified into 4 classes: Alpha cells, Beta cells, Delta cells and PP cells (i.e. Gamma cells)."
   ]
  },
  {
   "cell_type": "markdown",
   "metadata": {},
   "source": [
    "# Drop rows"
   ]
  },
  {
   "cell_type": "markdown",
   "metadata": {},
   "source": [
    "We removed every cell classified as 'Other' from the Baron dataset."
   ]
  },
  {
   "cell_type": "code",
   "execution_count": 7,
   "metadata": {},
   "outputs": [
    {
     "name": "stdout",
     "output_type": "stream",
     "text": [
      "Dropped 118 cell(s). New shape: (8451, 20125)\n"
     ]
    }
   ],
   "source": [
    "baron_data, baron_labels = ali.drop_rows(baron_data, baron_labels, ['Other'])"
   ]
  },
  {
   "cell_type": "markdown",
   "metadata": {},
   "source": [
    "This removed 118 cells from Baron, leaving us with 8451 left."
   ]
  },
  {
   "cell_type": "markdown",
   "metadata": {},
   "source": [
    "# Load marker genes"
   ]
  },
  {
   "cell_type": "markdown",
   "metadata": {},
   "source": [
    "We make sure to only load the Human marker genes."
   ]
  },
  {
   "cell_type": "code",
   "execution_count": 8,
   "metadata": {},
   "outputs": [],
   "source": [
    "markers_db = ali.load_markers(MARKER_PATH, SPECIES)"
   ]
  },
  {
   "cell_type": "markdown",
   "metadata": {},
   "source": [
    "#### Get the markers and only keep those found in both datasets"
   ]
  },
  {
   "cell_type": "code",
   "execution_count": 9,
   "metadata": {
    "scrolled": true
   },
   "outputs": [],
   "source": [
    "markers = ali.get_mutual_markers([baron_data.columns, xin_data.columns], markers_db)"
   ]
  },
  {
   "cell_type": "markdown",
   "metadata": {},
   "source": [
    "We do this because we want to train the network only on the marker genes found in both datasets, and drop the rest."
   ]
  },
  {
   "cell_type": "code",
   "execution_count": 10,
   "metadata": {},
   "outputs": [
    {
     "name": "stdout",
     "output_type": "stream",
     "text": [
      "7545\n"
     ]
    }
   ],
   "source": [
    "#print(len(A.get_used_markers(baron_data.columns, markers_db)), len(A.get_used_markers(xin_data.columns, markers_db)))\n",
    "print(len(markers))"
   ]
  },
  {
   "cell_type": "markdown",
   "metadata": {},
   "source": [
    "Baron has 7618 markers, and Xin has 7610.\n",
    "\n",
    "We used only those found in both datasets (7545)."
   ]
  },
  {
   "cell_type": "markdown",
   "metadata": {},
   "source": [
    "*Note that in this context* ***Marker ≠ Marker Gene*** *because multiple cell types (i.e. markers) can have the same marker gene and so in this context, the number 7545 means 7545 connections in the partially-connected Marker Layer between the cell types and the genes.*"
   ]
  },
  {
   "cell_type": "markdown",
   "metadata": {},
   "source": [
    "### Make sure every class is in the marker layer"
   ]
  },
  {
   "cell_type": "markdown",
   "metadata": {},
   "source": [
    "Because some cell types are differently labelled in the marker database, we created a dictionary of aliases.\n",
    "\n",
    "We also make sure to print out any label that cannot be found in either the list of markers or in the dictionary of aliases."
   ]
  },
  {
   "cell_type": "code",
   "execution_count": 11,
   "metadata": {},
   "outputs": [],
   "source": [
    "marker_aliases = {'PaSC' : 'Pancreatic stellate cells',\n",
    "                  'PP cells' : 'Gamma (PP) cells',\n",
    "                  'Endothelial cell' : 'Endothelial cells'}\n",
    "\n",
    "ali.check_labels([baron_labels, xin_labels], markers, marker_aliases)"
   ]
  },
  {
   "cell_type": "markdown",
   "metadata": {},
   "source": [
    "# Drop unused genes"
   ]
  },
  {
   "cell_type": "markdown",
   "metadata": {},
   "source": [
    "We used only the genes found in both datasets and the marker gene database, and therefore, we will connect with the partially-connected marker layer."
   ]
  },
  {
   "cell_type": "code",
   "execution_count": 12,
   "metadata": {},
   "outputs": [
    {
     "name": "stdout",
     "output_type": "stream",
     "text": [
      "Dropped 15952 gene(s). New shape: (8451, 4173)\n",
      "Dropped 35678 gene(s). New shape: (1492, 4173)\n"
     ]
    }
   ],
   "source": [
    "baron_data = ali.drop_unused_genes(baron_data, markers)\n",
    "xin_data = ali.drop_unused_genes(xin_data, markers)"
   ]
  },
  {
   "cell_type": "markdown",
   "metadata": {},
   "source": [
    "After this operation we are left with 4173 genes."
   ]
  },
  {
   "cell_type": "markdown",
   "metadata": {},
   "source": [
    "#### Make sure the data sets' shapes match"
   ]
  },
  {
   "cell_type": "code",
   "execution_count": 13,
   "metadata": {
    "scrolled": false
   },
   "outputs": [],
   "source": [
    "ali.check_shape([baron_data, xin_data])"
   ]
  },
  {
   "cell_type": "markdown",
   "metadata": {},
   "source": [
    "# Data transformation"
   ]
  },
  {
   "cell_type": "markdown",
   "metadata": {},
   "source": [
    "#### Preprocess the data"
   ]
  },
  {
   "cell_type": "markdown",
   "metadata": {},
   "source": [
    "We shuffle, log10 transform and split the data into 70%, 15%, 15% splits."
   ]
  },
  {
   "cell_type": "code",
   "execution_count": 14,
   "metadata": {},
   "outputs": [],
   "source": [
    "(train_x, train_y), (validation_x, validation_y), (test_x, test_y) = ali.preprocess_data(baron_data, baron_labels,\n",
    "                                                                                        train=0.7, validation=0.15, test=0.15)"
   ]
  },
  {
   "cell_type": "markdown",
   "metadata": {},
   "source": [
    "#### Log10 transform the Xin data, too"
   ]
  },
  {
   "cell_type": "code",
   "execution_count": 15,
   "metadata": {},
   "outputs": [],
   "source": [
    "xin_data = A.log_10(xin_data)"
   ]
  },
  {
   "cell_type": "markdown",
   "metadata": {},
   "source": [
    "# Building the model"
   ]
  },
  {
   "cell_type": "markdown",
   "metadata": {},
   "source": [
    "For the model we define a partially-connected Marker Layer.\n",
    "\n",
    "The layer has a node for each cell type whose genes are present in both data sets.\n",
    "In this case, there are 179 nodes in the marker layer representing 179 cell types. \n",
    "\n",
    "We only connect nodes (i.e. the cell types) in the marker layer to their marker genes at the input."
   ]
  },
  {
   "cell_type": "markdown",
   "metadata": {},
   "source": [
    "We constructed the partially connected marker layer by taking a dense layer and adding a connection mask (a binary matrix) to it, which we multiply with the output matrix.\n",
    "\n",
    "We trained the network for 100 epochs."
   ]
  },
  {
   "cell_type": "markdown",
   "metadata": {},
   "source": [
    "### The Architecture\n",
    "|Layer|Nodes|\n",
    "|-----|------|\n",
    "|Input|4173 (genes)|\n",
    "|Markers|179 (cell types)|\n",
    "|Dense layer|100|\n",
    "|**Bottleneck**|**25**|\n",
    "|Dense layer|100|\n",
    "|*Dropout*|*10%*|\n",
    "|Output|4173 (genes)|"
   ]
  },
  {
   "cell_type": "markdown",
   "metadata": {},
   "source": [
    "#### Create the model"
   ]
  },
  {
   "cell_type": "code",
   "execution_count": 16,
   "metadata": {},
   "outputs": [
    {
     "name": "stdout",
     "output_type": "stream",
     "text": [
      "WARNING:tensorflow:From C:\\ProgramData\\Anaconda3\\lib\\site-packages\\tensorflow\\python\\framework\\op_def_library.py:263: colocate_with (from tensorflow.python.framework.ops) is deprecated and will be removed in a future version.\n",
      "Instructions for updating:\n",
      "Colocations handled automatically by placer.\n",
      "WARNING:tensorflow:From C:\\ProgramData\\Anaconda3\\lib\\site-packages\\keras\\backend\\tensorflow_backend.py:3445: calling dropout (from tensorflow.python.ops.nn_ops) with keep_prob is deprecated and will be removed in a future version.\n",
      "Instructions for updating:\n",
      "Please use `rate` instead of `keep_prob`. Rate should be set to `rate = 1 - keep_prob`.\n"
     ]
    }
   ],
   "source": [
    "model, marker_model, encoder_model = ali.build_model(baron_data, markers)"
   ]
  },
  {
   "cell_type": "code",
   "execution_count": 17,
   "metadata": {
    "scrolled": false
   },
   "outputs": [
    {
     "name": "stdout",
     "output_type": "stream",
     "text": [
      "_________________________________________________________________\n",
      "Layer (type)                 Output Shape              Param #   \n",
      "=================================================================\n",
      "input_1 (InputLayer)         (None, 4173)              0         \n",
      "_________________________________________________________________\n",
      "markers_1 (Markers)          (None, 179)               747146    \n",
      "_________________________________________________________________\n",
      "dense_1 (Dense)              (None, 100)               18000     \n",
      "_________________________________________________________________\n",
      "Bottleneck (Dense)           (None, 25)                2525      \n",
      "_________________________________________________________________\n",
      "dense_2 (Dense)              (None, 100)               2600      \n",
      "_________________________________________________________________\n",
      "dropout_1 (Dropout)          (None, 100)               0         \n",
      "_________________________________________________________________\n",
      "Output (Dense)               (None, 4173)              421473    \n",
      "=================================================================\n",
      "Total params: 1,191,744\n",
      "Trainable params: 1,191,744\n",
      "Non-trainable params: 0\n",
      "_________________________________________________________________\n"
     ]
    }
   ],
   "source": [
    "model.summary()"
   ]
  },
  {
   "cell_type": "markdown",
   "metadata": {},
   "source": [
    "# Train the model"
   ]
  },
  {
   "cell_type": "code",
   "execution_count": 20,
   "metadata": {
    "collapsed": true
   },
   "outputs": [
    {
     "name": "stdout",
     "output_type": "stream",
     "text": [
      "Train on 1267 samples, validate on 5915 samples\n",
      "Epoch 1/50\n",
      "1267/1267 [==============================] - 1s 533us/step - loss: 0.0097 - val_loss: 0.0099\n",
      "Epoch 2/50\n",
      "1267/1267 [==============================] - 1s 529us/step - loss: 0.0097 - val_loss: 0.0099\n",
      "Epoch 3/50\n",
      "1267/1267 [==============================] - 1s 528us/step - loss: 0.0097 - val_loss: 0.0099\n",
      "Epoch 4/50\n",
      "1267/1267 [==============================] - 1s 527us/step - loss: 0.0096 - val_loss: 0.0099\n",
      "Epoch 5/50\n",
      "1267/1267 [==============================] - 1s 527us/step - loss: 0.0096 - val_loss: 0.0099\n",
      "Epoch 6/50\n",
      "1267/1267 [==============================] - 1s 527us/step - loss: 0.0096 - val_loss: 0.0098\n",
      "Epoch 7/50\n",
      "1267/1267 [==============================] - 1s 527us/step - loss: 0.0096 - val_loss: 0.0098\n",
      "Epoch 8/50\n",
      "1267/1267 [==============================] - 1s 527us/step - loss: 0.0095 - val_loss: 0.0098\n",
      "Epoch 9/50\n",
      "1267/1267 [==============================] - 1s 528us/step - loss: 0.0095 - val_loss: 0.0098\n",
      "Epoch 10/50\n",
      "1267/1267 [==============================] - 1s 528us/step - loss: 0.0095 - val_loss: 0.0098\n",
      "Epoch 11/50\n",
      "1267/1267 [==============================] - 1s 533us/step - loss: 0.0094 - val_loss: 0.0097\n",
      "Epoch 12/50\n",
      "1267/1267 [==============================] - 1s 535us/step - loss: 0.0094 - val_loss: 0.0097\n",
      "Epoch 13/50\n",
      "1267/1267 [==============================] - 1s 529us/step - loss: 0.0094 - val_loss: 0.0097\n",
      "Epoch 14/50\n",
      "1267/1267 [==============================] - 1s 527us/step - loss: 0.0094 - val_loss: 0.0097\n",
      "Epoch 15/50\n",
      "1267/1267 [==============================] - 1s 531us/step - loss: 0.0094 - val_loss: 0.0097\n",
      "Epoch 16/50\n",
      "1267/1267 [==============================] - 1s 531us/step - loss: 0.0093 - val_loss: 0.0096\n",
      "Epoch 17/50\n",
      "1267/1267 [==============================] - 1s 530us/step - loss: 0.0093 - val_loss: 0.0096\n",
      "Epoch 18/50\n",
      "1267/1267 [==============================] - 1s 526us/step - loss: 0.0093 - val_loss: 0.0096\n",
      "Epoch 19/50\n",
      "1267/1267 [==============================] - 1s 530us/step - loss: 0.0093 - val_loss: 0.0096\n",
      "Epoch 20/50\n",
      "1267/1267 [==============================] - 1s 534us/step - loss: 0.0092 - val_loss: 0.0096\n",
      "Epoch 21/50\n",
      "1267/1267 [==============================] - 1s 528us/step - loss: 0.0092 - val_loss: 0.0095\n",
      "Epoch 22/50\n",
      "1267/1267 [==============================] - 1s 525us/step - loss: 0.0092 - val_loss: 0.0095\n",
      "Epoch 23/50\n",
      "1267/1267 [==============================] - 1s 526us/step - loss: 0.0092 - val_loss: 0.0095\n",
      "Epoch 24/50\n",
      "1267/1267 [==============================] - 1s 527us/step - loss: 0.0092 - val_loss: 0.0095\n",
      "Epoch 25/50\n",
      "1267/1267 [==============================] - 1s 531us/step - loss: 0.0091 - val_loss: 0.0095\n",
      "Epoch 26/50\n",
      "1267/1267 [==============================] - 1s 530us/step - loss: 0.0091 - val_loss: 0.0095\n",
      "Epoch 27/50\n",
      "1267/1267 [==============================] - 1s 531us/step - loss: 0.0091 - val_loss: 0.0094\n",
      "Epoch 28/50\n",
      "1267/1267 [==============================] - 1s 534us/step - loss: 0.0091 - val_loss: 0.0094\n",
      "Epoch 29/50\n",
      "1267/1267 [==============================] - 1s 528us/step - loss: 0.0091 - val_loss: 0.0094\n",
      "Epoch 30/50\n",
      "1267/1267 [==============================] - 1s 531us/step - loss: 0.0091 - val_loss: 0.0094\n",
      "Epoch 31/50\n",
      "1267/1267 [==============================] - 1s 531us/step - loss: 0.0090 - val_loss: 0.0094\n",
      "Epoch 32/50\n",
      "1267/1267 [==============================] - 1s 535us/step - loss: 0.0090 - val_loss: 0.0094\n",
      "Epoch 33/50\n",
      "1267/1267 [==============================] - 1s 534us/step - loss: 0.0090 - val_loss: 0.0094\n",
      "Epoch 34/50\n",
      "1267/1267 [==============================] - 1s 531us/step - loss: 0.0090 - val_loss: 0.0094\n",
      "Epoch 35/50\n",
      "1267/1267 [==============================] - 1s 529us/step - loss: 0.0090 - val_loss: 0.0094\n",
      "Epoch 36/50\n",
      "1267/1267 [==============================] - 1s 527us/step - loss: 0.0090 - val_loss: 0.0094\n",
      "Epoch 37/50\n",
      "1267/1267 [==============================] - 1s 529us/step - loss: 0.0090 - val_loss: 0.0094\n",
      "Epoch 38/50\n",
      "1267/1267 [==============================] - 1s 528us/step - loss: 0.0089 - val_loss: 0.0093\n",
      "Epoch 39/50\n",
      "1267/1267 [==============================] - 1s 531us/step - loss: 0.0089 - val_loss: 0.0093\n",
      "Epoch 40/50\n",
      "1267/1267 [==============================] - 1s 529us/step - loss: 0.0089 - val_loss: 0.0093\n",
      "Epoch 41/50\n",
      "1267/1267 [==============================] - 1s 529us/step - loss: 0.0089 - val_loss: 0.0093\n",
      "Epoch 42/50\n",
      "1267/1267 [==============================] - 1s 531us/step - loss: 0.0089 - val_loss: 0.0093\n",
      "Epoch 43/50\n",
      "1267/1267 [==============================] - 1s 531us/step - loss: 0.0089 - val_loss: 0.0093\n",
      "Epoch 44/50\n",
      "1267/1267 [==============================] - 1s 524us/step - loss: 0.0089 - val_loss: 0.0093\n",
      "Epoch 45/50\n",
      "1267/1267 [==============================] - 1s 529us/step - loss: 0.0089 - val_loss: 0.0093\n",
      "Epoch 46/50\n",
      "1267/1267 [==============================] - 1s 529us/step - loss: 0.0089 - val_loss: 0.0093\n",
      "Epoch 47/50\n",
      "1267/1267 [==============================] - 1s 526us/step - loss: 0.0089 - val_loss: 0.0093\n",
      "Epoch 48/50\n",
      "1267/1267 [==============================] - 1s 529us/step - loss: 0.0088 - val_loss: 0.0093\n",
      "Epoch 49/50\n",
      "1267/1267 [==============================] - 1s 527us/step - loss: 0.0088 - val_loss: 0.0093\n",
      "Epoch 50/50\n",
      "1267/1267 [==============================] - 1s 531us/step - loss: 0.0088 - val_loss: 0.0093\n",
      "2536/2536 [==============================] - 0s 109us/step\n"
     ]
    }
   ],
   "source": [
    "history, loss = ali.train_model(model, validation_x, train_x, test_x, epochs=EPOCHS, verbose=1)"
   ]
  },
  {
   "cell_type": "code",
   "execution_count": 21,
   "metadata": {
    "scrolled": false
   },
   "outputs": [
    {
     "data": {
      "image/png": "[encoded data removed]",
      "text/plain": [
       "<Figure size 432x288 with 1 Axes>"
      ]
     },
     "metadata": {
      "needs_background": "light"
     },
     "output_type": "display_data"
    },
    {
     "name": "stdout",
     "output_type": "stream",
     "text": [
      "Test loss:  0.008958083242530515\n"
     ]
    }
   ],
   "source": [
    "ali.draw_model_history(history)\n",
    "print(\"Test loss: \", loss)"
   ]
  },
  {
   "cell_type": "markdown",
   "metadata": {},
   "source": [
    "#### Save the model"
   ]
  },
  {
   "cell_type": "code",
   "execution_count": null,
   "metadata": {},
   "outputs": [],
   "source": [
    "model.save('markersonly_comparison.h5')\n",
    "marker_model.save('markersonly_comparison_marker.h5')\n",
    "encoder_model.save('markersonly_comparison_encoder.h5')\n",
    "\n",
    "model.save_weights('markersonly_comparison_weights.h5')\n",
    "marker_model.save_weights('markersonly_comparison_marker_weights.h5')\n",
    "encoder_model.save_weights('markersonly_comparison_encoder_weights.h5')"
   ]
  },
  {
   "cell_type": "markdown",
   "metadata": {},
   "source": [
    "# Data analysis"
   ]
  },
  {
   "cell_type": "code",
   "execution_count": 22,
   "metadata": {},
   "outputs": [],
   "source": [
    "def get_results(cell_types, cell_activations, graph_labels):\n",
    "    types_list = list(cell_types.items())\n",
    "    top3s = []\n",
    "    top3s_act = []\n",
    "    for cell in cell_activations:\n",
    "        top3 = cell.argsort()[-3:][::-1]\n",
    "        top3types = [types_list[i][0] for i in top3]\n",
    "        top3s.append(top3types)\n",
    "        \n",
    "        act = np.zeros((len(cell_activations[0]),))\n",
    "        for i in top3:\n",
    "            act[i] = cell[i]\n",
    "        top3s_act.append(act)\n",
    "\n",
    "    n = 0\n",
    "    correct = 0\n",
    "    for i in range(len(top3s)):\n",
    "        prediction = top3s[i][0]\n",
    "        label = graph_labels.iloc[i]\n",
    "\n",
    "        if str(prediction) == 'nan' or str(label) == 'nan':\n",
    "            continue\n",
    "\n",
    "        if prediction == label:\n",
    "            correct += 1\n",
    "\n",
    "        elif label in marker_names.keys():\n",
    "            if marker_names[label] == prediction:\n",
    "                correct += 1\n",
    "        n += 1\n",
    "\n",
    "    print(\"Correct predictions: {c} out of {n} ({p}%)\".format(c=correct, n=n, p=round(100 * (correct/n), 2)))\n",
    "    print(\"Dropped {d} cells\".format(d=len(cell_activations) - n))\n",
    "    return top3s_act"
   ]
  },
  {
   "cell_type": "code",
   "execution_count": 23,
   "metadata": {},
   "outputs": [],
   "source": [
    "cell_activations = marker_model.predict(test_x)\n",
    "bottleneck_activations = encoder_model.predict(test_x)\n",
    "graph_labels = test_y"
   ]
  },
  {
   "cell_type": "markdown",
   "metadata": {},
   "source": [
    "**Mreža pravilno klasificira 82% testnih podatkov (iz baze na kateri se je učila)**"
   ]
  },
  {
   "cell_type": "code",
   "execution_count": 24,
   "metadata": {
    "scrolled": false
   },
   "outputs": [
    {
     "ename": "NameError",
     "evalue": "name 'cell_types' is not defined",
     "output_type": "error",
     "traceback": [
      "\u001b[1;31m---------------------------------------------------------------------------\u001b[0m",
      "\u001b[1;31mNameError\u001b[0m                                 Traceback (most recent call last)",
      "\u001b[1;32m<ipython-input-24-d91d83d11689>\u001b[0m in \u001b[0;36m<module>\u001b[1;34m\u001b[0m\n\u001b[1;32m----> 1\u001b[1;33m \u001b[0mtop3\u001b[0m \u001b[1;33m=\u001b[0m \u001b[0mget_results\u001b[0m\u001b[1;33m(\u001b[0m\u001b[0mcell_types\u001b[0m\u001b[1;33m,\u001b[0m \u001b[0mcell_activations\u001b[0m\u001b[1;33m,\u001b[0m \u001b[0mgraph_labels\u001b[0m\u001b[1;33m)\u001b[0m\u001b[1;33m\u001b[0m\u001b[1;33m\u001b[0m\u001b[0m\n\u001b[0m",
      "\u001b[1;31mNameError\u001b[0m: name 'cell_types' is not defined"
     ]
    }
   ],
   "source": [
    "top3 = get_results(cell_types, cell_activations, graph_labels)"
   ]
  },
  {
   "cell_type": "markdown",
   "metadata": {},
   "source": [
    "Spodnji graf prikazuje aktivacije tipov celic. Razvidno je, da izstopa samo en celični tip, ostali tipi pa izrecno manj."
   ]
  },
  {
   "cell_type": "code",
   "execution_count": 25,
   "metadata": {
    "scrolled": true
   },
   "outputs": [
    {
     "data": {
      "text/plain": [
       "<matplotlib.axes._subplots.AxesSubplot at 0x1c94f7a5f98>"
      ]
     },
     "execution_count": 25,
     "metadata": {},
     "output_type": "execute_result"
    },
    {
     "data": {
      "image/png": "[encoded data removed]",
      "text/plain": [
       "<Figure size 432x288 with 1 Axes>"
      ]
     },
     "metadata": {
      "needs_background": "light"
     },
     "output_type": "display_data"
    }
   ],
   "source": [
    "import seaborn as sns\n",
    "sns.distplot(cell_activations[0])"
   ]
  },
  {
   "cell_type": "markdown",
   "metadata": {},
   "source": [
    "### New data"
   ]
  },
  {
   "cell_type": "code",
   "execution_count": 26,
   "metadata": {},
   "outputs": [
    {
     "ename": "NameError",
     "evalue": "name 'new_data_x' is not defined",
     "output_type": "error",
     "traceback": [
      "\u001b[1;31m---------------------------------------------------------------------------\u001b[0m",
      "\u001b[1;31mNameError\u001b[0m                                 Traceback (most recent call last)",
      "\u001b[1;32m<ipython-input-26-dcd593ae5009>\u001b[0m in \u001b[0;36m<module>\u001b[1;34m\u001b[0m\n\u001b[1;32m----> 1\u001b[1;33m \u001b[0mnew_cell_activations\u001b[0m \u001b[1;33m=\u001b[0m \u001b[0mmarker_model\u001b[0m\u001b[1;33m.\u001b[0m\u001b[0mpredict\u001b[0m\u001b[1;33m(\u001b[0m\u001b[0mnew_data_x\u001b[0m\u001b[1;33m)\u001b[0m\u001b[1;33m\u001b[0m\u001b[1;33m\u001b[0m\u001b[0m\n\u001b[0m\u001b[0;32m      2\u001b[0m \u001b[0mnew_bottleneck_activations\u001b[0m \u001b[1;33m=\u001b[0m \u001b[0mencoder_model\u001b[0m\u001b[1;33m.\u001b[0m\u001b[0mpredict\u001b[0m\u001b[1;33m(\u001b[0m\u001b[0mnew_data_x\u001b[0m\u001b[1;33m)\u001b[0m\u001b[1;33m\u001b[0m\u001b[1;33m\u001b[0m\u001b[0m\n\u001b[0;32m      3\u001b[0m \u001b[0mnew_graph_labels\u001b[0m \u001b[1;33m=\u001b[0m \u001b[0mnew_labels\u001b[0m\u001b[1;33m\u001b[0m\u001b[1;33m\u001b[0m\u001b[0m\n",
      "\u001b[1;31mNameError\u001b[0m: name 'new_data_x' is not defined"
     ]
    }
   ],
   "source": [
    "new_cell_activations = marker_model.predict(new_data_x)\n",
    "new_bottleneck_activations = encoder_model.predict(new_data_x)\n",
    "new_graph_labels = new_labels"
   ]
  },
  {
   "cell_type": "markdown",
   "metadata": {},
   "source": [
    "**Mreža pravilno klasificira 86% čisto novih podatkov iz druge baze**"
   ]
  },
  {
   "cell_type": "code",
   "execution_count": 27,
   "metadata": {},
   "outputs": [
    {
     "ename": "NameError",
     "evalue": "name 'cell_types' is not defined",
     "output_type": "error",
     "traceback": [
      "\u001b[1;31m---------------------------------------------------------------------------\u001b[0m",
      "\u001b[1;31mNameError\u001b[0m                                 Traceback (most recent call last)",
      "\u001b[1;32m<ipython-input-27-4b421a1ed424>\u001b[0m in \u001b[0;36m<module>\u001b[1;34m\u001b[0m\n\u001b[1;32m----> 1\u001b[1;33m \u001b[0mnew_top3\u001b[0m \u001b[1;33m=\u001b[0m \u001b[0mget_results\u001b[0m\u001b[1;33m(\u001b[0m\u001b[0mcell_types\u001b[0m\u001b[1;33m,\u001b[0m \u001b[0mnew_cell_activations\u001b[0m\u001b[1;33m,\u001b[0m \u001b[0mnew_graph_labels\u001b[0m\u001b[1;33m)\u001b[0m\u001b[1;33m\u001b[0m\u001b[1;33m\u001b[0m\u001b[0m\n\u001b[0m",
      "\u001b[1;31mNameError\u001b[0m: name 'cell_types' is not defined"
     ]
    }
   ],
   "source": [
    "new_top3 = get_results(cell_types, new_cell_activations, new_graph_labels)"
   ]
  },
  {
   "cell_type": "markdown",
   "metadata": {},
   "source": [
    "## Graphs"
   ]
  },
  {
   "cell_type": "code",
   "execution_count": null,
   "metadata": {},
   "outputs": [],
   "source": [
    "import random\n",
    "\n",
    "def get_random_color(pastel_factor = 0.5):\n",
    "    pastel_factor = random.uniform(0, 1.0)\n",
    "    return [(x+pastel_factor)/(1.0+pastel_factor) for x in [random.uniform(0,1.0) for i in [1,2,3]]]\n",
    "\n",
    "colours = {}\n",
    "for label in graph_labels.unique():\n",
    "    colour = (get_random_color())\n",
    "    colours.update({label:colour})\n",
    "    \n",
    "fig = plt.figure()\n",
    "ax = fig.add_subplot(111)\n",
    "\n",
    "x = list(range(0, len(colours.values()) * 2, 2))\n",
    "y = [0]*len(x)\n",
    "c = list(colours.values())\n",
    "\n",
    "ax.scatter(x,y,s=400,c=c)\n",
    "ax.set_title('Plot with Different Marker Color, matplotlib and plotly')\n",
    "\n",
    "plt.show()"
   ]
  },
  {
   "cell_type": "code",
   "execution_count": null,
   "metadata": {},
   "outputs": [],
   "source": [
    "import pickle\n",
    "\n",
    "pickle_in = open(\"Data/Marker_Colours.pickle\",\"rb\")\n",
    "colours = pickle.load(pickle_in)"
   ]
  },
  {
   "cell_type": "code",
   "execution_count": null,
   "metadata": {},
   "outputs": [],
   "source": [
    "pickle_out = open(\"Data/Marker_Colours.pickle\",\"wb\")\n",
    "pickle.dump(colours, pickle_out)\n",
    "pickle_out.close()"
   ]
  },
  {
   "cell_type": "code",
   "execution_count": null,
   "metadata": {},
   "outputs": [],
   "source": [
    "from sklearn.manifold import TSNE\n",
    "from sklearn.decomposition import PCA\n",
    "from collections import OrderedDict\n",
    "import operator\n",
    "\n",
    "tnse = TSNE()\n",
    "pca = PCA()\n",
    "    \n",
    "def draw_graph(x, y, model, colours, graph_name=''):\n",
    "    tsne_out = model.fit_transform(x)\n",
    "    \n",
    "    plt.clf()\n",
    "    plt.figure(figsize=(8, 8), dpi=80, facecolor='w', edgecolor='k')\n",
    "\n",
    "    for i, entry in enumerate(tsne_out):\n",
    "        plt.scatter(entry[0], entry[1], color=colours[y.iloc[i]], label=y.iloc[i])\n",
    "    \n",
    "    handles, plt_labels = plt.gca().get_legend_handles_labels()\n",
    "    by_label = OrderedDict(zip(plt_labels, handles))\n",
    "    by_label = OrderedDict(sorted(by_label.items()))\n",
    "\n",
    "    plt.legend(by_label.values(), by_label.keys(), bbox_to_anchor=(0., 1, 0, .1))\n",
    "\n",
    "    plt.title(graph_name)\n",
    "    plt.axis('off')\n",
    "    plt.show()"
   ]
  },
  {
   "cell_type": "code",
   "execution_count": null,
   "metadata": {
    "scrolled": false
   },
   "outputs": [],
   "source": [
    "draw_graph(cell_activations, graph_labels, tnse, colours, graph_name='TSNE of marker activations')"
   ]
  },
  {
   "cell_type": "markdown",
   "metadata": {},
   "source": [
    "# New Data"
   ]
  },
  {
   "cell_type": "code",
   "execution_count": null,
   "metadata": {
    "scrolled": false
   },
   "outputs": [],
   "source": [
    "draw_graph(new_cell_activations, new_graph_labels, tnse, colours, graph_name='TSNE of marker activations')"
   ]
  },
  {
   "cell_type": "markdown",
   "metadata": {},
   "source": [
    "# Combined data"
   ]
  },
  {
   "cell_type": "code",
   "execution_count": null,
   "metadata": {
    "scrolled": false
   },
   "outputs": [],
   "source": [
    "def draw_comparison(x, y, new_alpha = 1.0, preloaded_tsne=None, title=''):\n",
    "    if preloaded_tsne is None:\n",
    "        tsne_out = tnse.fit_transform(x)\n",
    "    else:\n",
    "        tsne_out = preloaded_tsne\n",
    "\n",
    "    plt.clf()\n",
    "    plt.figure(figsize=(8, 8), dpi=80, facecolor='w', edgecolor='k')\n",
    "\n",
    "    for i, entry in enumerate(tsne_out):\n",
    "        colour = colours[y.iloc[i]]\n",
    "        alpha = 1.0\n",
    "        marker = '.'\n",
    "        if(i <= test_x.shape[0]):\n",
    "            alpha = new_alpha\n",
    "            marker = 'x'\n",
    "        plt.scatter(entry[0], entry[1], color=colour, label=y.iloc[i], alpha=alpha, marker=marker)\n",
    "\n",
    "    handles, plt_labels = plt.gca().get_legend_handles_labels()\n",
    "    by_label = OrderedDict(zip(plt_labels, handles))\n",
    "    by_label = OrderedDict(sorted(by_label.items()))\n",
    "\n",
    "    plt.legend(by_label.values(), by_label.keys(), bbox_to_anchor=(0., 1, 0, .1))\n",
    "\n",
    "    plt.title(title)\n",
    "    plt.axis('off')\n",
    "    plt.show()\n",
    "    \n",
    "    #return tsne_out"
   ]
  },
  {
   "cell_type": "markdown",
   "metadata": {},
   "source": [
    "**Na spodnjem grafu lahko opaziš, da se batch effect še vedno opazi, tudi na aktivacijah markerjev**"
   ]
  },
  {
   "cell_type": "code",
   "execution_count": null,
   "metadata": {},
   "outputs": [],
   "source": [
    "x = test_x.append(new_data_x)\n",
    "y = test_y.append(new_labels)\n",
    "compare_cell_activations = encoder_model.predict(x)\n",
    "tsne_out = draw_comparison(compare_cell_activations, y, new_alpha=0.2, title='Combined TSNE of marker activations')"
   ]
  },
  {
   "cell_type": "code",
   "execution_count": null,
   "metadata": {},
   "outputs": [],
   "source": [
    "draw_comparison(np.vstack((top3, new_top3)), y, new_alpha=0.2, title='Combined TSNE of top 3 activations')"
   ]
  },
  {
   "cell_type": "markdown",
   "metadata": {},
   "source": [
    "# Reconstruction"
   ]
  },
  {
   "cell_type": "markdown",
   "metadata": {},
   "source": [
    "**Tukaj sem vzel nove podatke in jih vrgel v avtoenkoder.**\n",
    "\n",
    "**Nato sem vzel izhodne podatke avtoenkoderja ter vzel njihove aktivacije sloja markerjev.**\n",
    "\n",
    "**Tako sem dobil nove rezultate, ki so bili konsistentno boljši. V tem primeru za 11%.**"
   ]
  },
  {
   "cell_type": "markdown",
   "metadata": {},
   "source": [
    "Moja hipoteza je, da se tako delno znebimo batch effecta in zato dobimo boljše rezultate."
   ]
  },
  {
   "cell_type": "code",
   "execution_count": null,
   "metadata": {},
   "outputs": [],
   "source": [
    "reconstruction = model.predict(new_data_x)\n",
    "reconstruction = pd.DataFrame(reconstruction, columns=new_data_x.columns)\n",
    "reconstructed_cell_activations = marker_model.predict(reconstruction)"
   ]
  },
  {
   "cell_type": "code",
   "execution_count": null,
   "metadata": {},
   "outputs": [],
   "source": [
    "draw_graph(reconstructed_cell_activations, new_graph_labels, tnse, colours,\n",
    "           graph_name='TSNE of reconstructed marker activations')"
   ]
  },
  {
   "cell_type": "code",
   "execution_count": null,
   "metadata": {},
   "outputs": [],
   "source": [
    "_ = get_results(cell_types, reconstructed_cell_activations, new_graph_labels)"
   ]
  },
  {
   "cell_type": "markdown",
   "metadata": {},
   "source": [
    "Tudi pri teh podatkih batch effect še vedno ostane."
   ]
  },
  {
   "cell_type": "code",
   "execution_count": null,
   "metadata": {},
   "outputs": [],
   "source": [
    "x = test_x.append(reconstruction)\n",
    "y = test_y.append(new_labels)\n",
    "compare_cell_activations = encoder_model.predict(x)\n",
    "tsne_out = draw_comparison(compare_cell_activations, y, new_alpha=0.2, title='Combined TSNE of marker activations')"
   ]
  },
  {
   "cell_type": "markdown",
   "metadata": {},
   "source": [
    "# Save the data"
   ]
  },
  {
   "cell_type": "code",
   "execution_count": null,
   "metadata": {},
   "outputs": [],
   "source": [
    "in_data = pd.DataFrame(new_data_x)\n",
    "out_data = pd.DataFrame(data=model.predict(new_data_x))\n",
    "in_data.to_pickle('Data/in_data_markersonly.pickle')\n",
    "out_data.to_pickle('Data/out_data_markersonly.pickle')"
   ]
  }
 ],
 "metadata": {
  "kernelspec": {
   "display_name": "Python 3",
   "language": "python",
   "name": "python3"
  },
  "language_info": {
   "codemirror_mode": {
    "name": "ipython",
    "version": 3
   },
   "file_extension": ".py",
   "mimetype": "text/x-python",
   "name": "python",
   "nbconvert_exporter": "python",
   "pygments_lexer": "ipython3",
   "version": "3.7.3"
  }
 },
 "nbformat": 4,
 "nbformat_minor": 2
}
